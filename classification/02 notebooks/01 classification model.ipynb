{
 "cells": [
  {
   "cell_type": "code",
   "execution_count": 1,
   "metadata": {},
   "outputs": [],
   "source": [
    "path_data = '../01 data/'\n",
    "epochs=50\n",
    "batch_size=200\n",
    "monitor = 'accuracy'\n",
    "mode = 'max'\n",
    "patience = 10\n",
    "test_score, val_score = 'accuracy', 'val_accuracy'"
   ]
  },
  {
   "cell_type": "code",
   "execution_count": 2,
   "metadata": {},
   "outputs": [],
   "source": [
    "# Import packages\n",
    "import numpy as np\n",
    "import pandas as pd\n",
    "import matplotlib.pyplot as plt\n",
    "import seaborn as sns\n",
    "from sklearn.model_selection import train_test_split\n",
    "\n",
    "from sklearn.metrics import classification_report, confusion_matrix\n",
    "from keras.models import Sequential\n",
    "from keras.layers import Dense, BatchNormalization, Dropout\n",
    "from keras.optimizers import Adam\n",
    "from keras.callbacks import EarlyStopping, ModelCheckpoint"
   ]
  },
  {
   "cell_type": "markdown",
   "metadata": {},
   "source": [
    "# Data preparation"
   ]
  },
  {
   "cell_type": "code",
   "execution_count": 3,
   "metadata": {},
   "outputs": [
    {
     "name": "stdout",
     "output_type": "stream",
     "text": [
      "(100000, 12)\n"
     ]
    },
    {
     "data": {
      "text/html": [
       "<div>\n",
       "<style scoped>\n",
       "    .dataframe tbody tr th:only-of-type {\n",
       "        vertical-align: middle;\n",
       "    }\n",
       "\n",
       "    .dataframe tbody tr th {\n",
       "        vertical-align: top;\n",
       "    }\n",
       "\n",
       "    .dataframe thead th {\n",
       "        text-align: right;\n",
       "    }\n",
       "</style>\n",
       "<table border=\"1\" class=\"dataframe\">\n",
       "  <thead>\n",
       "    <tr style=\"text-align: right;\">\n",
       "      <th></th>\n",
       "      <th>PassengerId</th>\n",
       "      <th>Survived</th>\n",
       "      <th>Pclass</th>\n",
       "      <th>Name</th>\n",
       "      <th>Sex</th>\n",
       "      <th>Age</th>\n",
       "      <th>SibSp</th>\n",
       "      <th>Parch</th>\n",
       "      <th>Ticket</th>\n",
       "      <th>Fare</th>\n",
       "      <th>Cabin</th>\n",
       "      <th>Embarked</th>\n",
       "    </tr>\n",
       "  </thead>\n",
       "  <tbody>\n",
       "    <tr>\n",
       "      <th>0</th>\n",
       "      <td>0</td>\n",
       "      <td>1</td>\n",
       "      <td>1</td>\n",
       "      <td>Oconnor, Frankie</td>\n",
       "      <td>male</td>\n",
       "      <td>NaN</td>\n",
       "      <td>2</td>\n",
       "      <td>0</td>\n",
       "      <td>209245</td>\n",
       "      <td>27.14</td>\n",
       "      <td>C12239</td>\n",
       "      <td>S</td>\n",
       "    </tr>\n",
       "    <tr>\n",
       "      <th>1</th>\n",
       "      <td>1</td>\n",
       "      <td>0</td>\n",
       "      <td>3</td>\n",
       "      <td>Bryan, Drew</td>\n",
       "      <td>male</td>\n",
       "      <td>NaN</td>\n",
       "      <td>0</td>\n",
       "      <td>0</td>\n",
       "      <td>27323</td>\n",
       "      <td>13.35</td>\n",
       "      <td>NaN</td>\n",
       "      <td>S</td>\n",
       "    </tr>\n",
       "    <tr>\n",
       "      <th>2</th>\n",
       "      <td>2</td>\n",
       "      <td>0</td>\n",
       "      <td>3</td>\n",
       "      <td>Owens, Kenneth</td>\n",
       "      <td>male</td>\n",
       "      <td>0.33</td>\n",
       "      <td>1</td>\n",
       "      <td>2</td>\n",
       "      <td>CA 457703</td>\n",
       "      <td>71.29</td>\n",
       "      <td>NaN</td>\n",
       "      <td>S</td>\n",
       "    </tr>\n",
       "    <tr>\n",
       "      <th>3</th>\n",
       "      <td>3</td>\n",
       "      <td>0</td>\n",
       "      <td>3</td>\n",
       "      <td>Kramer, James</td>\n",
       "      <td>male</td>\n",
       "      <td>19.00</td>\n",
       "      <td>0</td>\n",
       "      <td>0</td>\n",
       "      <td>A. 10866</td>\n",
       "      <td>13.04</td>\n",
       "      <td>NaN</td>\n",
       "      <td>S</td>\n",
       "    </tr>\n",
       "    <tr>\n",
       "      <th>4</th>\n",
       "      <td>4</td>\n",
       "      <td>1</td>\n",
       "      <td>3</td>\n",
       "      <td>Bond, Michael</td>\n",
       "      <td>male</td>\n",
       "      <td>25.00</td>\n",
       "      <td>0</td>\n",
       "      <td>0</td>\n",
       "      <td>427635</td>\n",
       "      <td>7.76</td>\n",
       "      <td>NaN</td>\n",
       "      <td>S</td>\n",
       "    </tr>\n",
       "  </tbody>\n",
       "</table>\n",
       "</div>"
      ],
      "text/plain": [
       "   PassengerId  Survived  Pclass              Name   Sex    Age  SibSp  Parch  \\\n",
       "0            0         1       1  Oconnor, Frankie  male    NaN      2      0   \n",
       "1            1         0       3       Bryan, Drew  male    NaN      0      0   \n",
       "2            2         0       3    Owens, Kenneth  male   0.33      1      2   \n",
       "3            3         0       3     Kramer, James  male  19.00      0      0   \n",
       "4            4         1       3     Bond, Michael  male  25.00      0      0   \n",
       "\n",
       "      Ticket   Fare   Cabin Embarked  \n",
       "0     209245  27.14  C12239        S  \n",
       "1      27323  13.35     NaN        S  \n",
       "2  CA 457703  71.29     NaN        S  \n",
       "3   A. 10866  13.04     NaN        S  \n",
       "4     427635   7.76     NaN        S  "
      ]
     },
     "execution_count": 3,
     "metadata": {},
     "output_type": "execute_result"
    }
   ],
   "source": [
    "# Load data\n",
    "trainSet = pd.read_csv(path_data + 'train.csv')\n",
    "testSet = pd.read_csv(path_data + 'test.csv')\n",
    "print(trainSet.shape)\n",
    "trainSet.head()"
   ]
  },
  {
   "cell_type": "code",
   "execution_count": 44,
   "metadata": {},
   "outputs": [
    {
     "data": {
      "text/plain": [
       "0    57226\n",
       "1    42774\n",
       "Name: Survived, dtype: int64"
      ]
     },
     "execution_count": 44,
     "metadata": {},
     "output_type": "execute_result"
    }
   ],
   "source": [
    "trainSet['Survived'].value_counts()"
   ]
  },
  {
   "cell_type": "code",
   "execution_count": 14,
   "metadata": {},
   "outputs": [
    {
     "name": "stdout",
     "output_type": "stream",
     "text": [
      "<class 'pandas.core.frame.DataFrame'>\n",
      "RangeIndex: 100000 entries, 0 to 99999\n",
      "Data columns (total 12 columns):\n",
      " #   Column       Non-Null Count   Dtype  \n",
      "---  ------       --------------   -----  \n",
      " 0   PassengerId  100000 non-null  int64  \n",
      " 1   Survived     100000 non-null  int64  \n",
      " 2   Pclass       100000 non-null  int64  \n",
      " 3   Name         100000 non-null  object \n",
      " 4   Sex          100000 non-null  object \n",
      " 5   Age          96708 non-null   float64\n",
      " 6   SibSp        100000 non-null  int64  \n",
      " 7   Parch        100000 non-null  int64  \n",
      " 8   Ticket       95377 non-null   object \n",
      " 9   Fare         99866 non-null   float64\n",
      " 10  Cabin        32134 non-null   object \n",
      " 11  Embarked     99750 non-null   object \n",
      "dtypes: float64(2), int64(5), object(5)\n",
      "memory usage: 9.2+ MB\n"
     ]
    }
   ],
   "source": [
    "trainSet.info()"
   ]
  },
  {
   "cell_type": "code",
   "execution_count": 5,
   "metadata": {},
   "outputs": [
    {
     "name": "stdout",
     "output_type": "stream",
     "text": [
      "(100000, 11)\n"
     ]
    },
    {
     "data": {
      "text/html": [
       "<div>\n",
       "<style scoped>\n",
       "    .dataframe tbody tr th:only-of-type {\n",
       "        vertical-align: middle;\n",
       "    }\n",
       "\n",
       "    .dataframe tbody tr th {\n",
       "        vertical-align: top;\n",
       "    }\n",
       "\n",
       "    .dataframe thead th {\n",
       "        text-align: right;\n",
       "    }\n",
       "</style>\n",
       "<table border=\"1\" class=\"dataframe\">\n",
       "  <thead>\n",
       "    <tr style=\"text-align: right;\">\n",
       "      <th></th>\n",
       "      <th>Survived</th>\n",
       "      <th>Pclass</th>\n",
       "      <th>Age</th>\n",
       "      <th>SibSp</th>\n",
       "      <th>Parch</th>\n",
       "      <th>Fare</th>\n",
       "      <th>Sex_female</th>\n",
       "      <th>Sex_male</th>\n",
       "      <th>Embarked_C</th>\n",
       "      <th>Embarked_Q</th>\n",
       "      <th>Embarked_S</th>\n",
       "    </tr>\n",
       "  </thead>\n",
       "  <tbody>\n",
       "    <tr>\n",
       "      <th>0</th>\n",
       "      <td>1</td>\n",
       "      <td>1</td>\n",
       "      <td>39.00</td>\n",
       "      <td>2</td>\n",
       "      <td>0</td>\n",
       "      <td>27.14</td>\n",
       "      <td>0</td>\n",
       "      <td>1</td>\n",
       "      <td>0</td>\n",
       "      <td>0</td>\n",
       "      <td>1</td>\n",
       "    </tr>\n",
       "    <tr>\n",
       "      <th>1</th>\n",
       "      <td>0</td>\n",
       "      <td>3</td>\n",
       "      <td>39.00</td>\n",
       "      <td>0</td>\n",
       "      <td>0</td>\n",
       "      <td>13.35</td>\n",
       "      <td>0</td>\n",
       "      <td>1</td>\n",
       "      <td>0</td>\n",
       "      <td>0</td>\n",
       "      <td>1</td>\n",
       "    </tr>\n",
       "    <tr>\n",
       "      <th>2</th>\n",
       "      <td>0</td>\n",
       "      <td>3</td>\n",
       "      <td>0.33</td>\n",
       "      <td>1</td>\n",
       "      <td>2</td>\n",
       "      <td>71.29</td>\n",
       "      <td>0</td>\n",
       "      <td>1</td>\n",
       "      <td>0</td>\n",
       "      <td>0</td>\n",
       "      <td>1</td>\n",
       "    </tr>\n",
       "    <tr>\n",
       "      <th>3</th>\n",
       "      <td>0</td>\n",
       "      <td>3</td>\n",
       "      <td>19.00</td>\n",
       "      <td>0</td>\n",
       "      <td>0</td>\n",
       "      <td>13.04</td>\n",
       "      <td>0</td>\n",
       "      <td>1</td>\n",
       "      <td>0</td>\n",
       "      <td>0</td>\n",
       "      <td>1</td>\n",
       "    </tr>\n",
       "    <tr>\n",
       "      <th>4</th>\n",
       "      <td>1</td>\n",
       "      <td>3</td>\n",
       "      <td>25.00</td>\n",
       "      <td>0</td>\n",
       "      <td>0</td>\n",
       "      <td>7.76</td>\n",
       "      <td>0</td>\n",
       "      <td>1</td>\n",
       "      <td>0</td>\n",
       "      <td>0</td>\n",
       "      <td>1</td>\n",
       "    </tr>\n",
       "  </tbody>\n",
       "</table>\n",
       "</div>"
      ],
      "text/plain": [
       "   Survived  Pclass    Age  SibSp  Parch   Fare  Sex_female  Sex_male  \\\n",
       "0         1       1  39.00      2      0  27.14           0         1   \n",
       "1         0       3  39.00      0      0  13.35           0         1   \n",
       "2         0       3   0.33      1      2  71.29           0         1   \n",
       "3         0       3  19.00      0      0  13.04           0         1   \n",
       "4         1       3  25.00      0      0   7.76           0         1   \n",
       "\n",
       "   Embarked_C  Embarked_Q  Embarked_S  \n",
       "0           0           0           1  \n",
       "1           0           0           1  \n",
       "2           0           0           1  \n",
       "3           0           0           1  \n",
       "4           0           0           1  "
      ]
     },
     "execution_count": 5,
     "metadata": {},
     "output_type": "execute_result"
    }
   ],
   "source": [
    "# Feature generation: training data\n",
    "train = trainSet.drop(columns=['PassengerId', 'Name', 'Ticket', 'Cabin'])\n",
    "train['Age'] = train['Age'].fillna(train['Age'].median())\n",
    "train['Fare'] = train['Fare'].fillna(train['Fare'].median())\n",
    "train = pd.get_dummies(train)\n",
    "\n",
    "\n",
    "# Feature generation: test data\n",
    "test = testSet.drop(columns=['PassengerId', 'Name', 'Ticket', 'Cabin'])\n",
    "test['Age'] = test['Age'].fillna(train['Age'].median())\n",
    "test['Fare'] = test['Fare'].fillna(train['Fare'].median())\n",
    "test = pd.get_dummies(test)\n",
    "\n",
    "print(train.shape)\n",
    "train.head()"
   ]
  },
  {
   "cell_type": "code",
   "execution_count": 9,
   "metadata": {},
   "outputs": [],
   "source": [
    "# train validation split\n",
    "X_train, X_val, y_train, y_val = train_test_split(\n",
    "    train.drop(columns=['Survived']),\n",
    "    train['Survived'],\n",
    "    test_size=0.2,\n",
    "    random_state=123\n",
    ")"
   ]
  },
  {
   "cell_type": "code",
   "execution_count": 10,
   "metadata": {},
   "outputs": [],
   "source": [
    "X_train.to_csv('../03 outputs/01/X_train.csv', index=False)\n",
    "X_val.to_csv('../03 outputs/01/X_val.csv', index=False)\n",
    "y_train.to_csv('../03 outputs/01/y_train.csv', index=False)\n",
    "y_val.to_csv('../03 outputs/01/y_val.csv', index=False)\n",
    "test.to_csv('../03 outputs/01/test.csv', index=False)"
   ]
  },
  {
   "cell_type": "markdown",
   "metadata": {},
   "source": [
    "# Training models"
   ]
  },
  {
   "cell_type": "code",
   "execution_count": 29,
   "metadata": {},
   "outputs": [],
   "source": [
    "def build_model(n_output_class):\n",
    "    model = Sequential()\n",
    "    model.add(Dense(64, input_dim=X_train.shape[1], activation='relu'))\n",
    "    model.add(BatchNormalization())\n",
    "    model.add(Dense(16, activation='relu'))\n",
    "    model.add(Dropout(0.2, seed=123))\n",
    "    model.add(Dense(8, activation='relu'))\n",
    "    model.add(Dense(n_output_class, activation='sigmoid')) # or softmax\n",
    "    opt = Adam(learning_rate=1e-3)\n",
    "    model.compile(loss='binary_crossentropy', optimizer=opt, metrics=['accuracy']) # If binary\n",
    "    # model.compile(loss='categorical_crossentropy', optimizer=opt, metrics=['accuracy']) # If multi-class\n",
    "\n",
    "    return model"
   ]
  },
  {
   "cell_type": "code",
   "execution_count": 12,
   "metadata": {},
   "outputs": [],
   "source": [
    "# Set callbacks\n",
    "def create_callbacks(model_name, monitor, mode, patience):\n",
    "    # Early stopping\n",
    "    es = EarlyStopping(\n",
    "        monitor=monitor, mode=mode, verbose=0, patience=patience, restore_best_weights=True\n",
    "    )\n",
    "\n",
    "    # Checkpoint\n",
    "    checkpoint = ModelCheckpoint(\n",
    "        filepath=model_name,\n",
    "        monitor=monitor,\n",
    "        mode=mode,\n",
    "        save_best_only=True\n",
    "    )\n",
    "\n",
    "    return es, checkpoint"
   ]
  },
  {
   "cell_type": "code",
   "execution_count": 27,
   "metadata": {},
   "outputs": [],
   "source": [
    "# Fit model\n",
    "def fit_model(model, es, checkpoint):\n",
    "    model_history = model.fit(\n",
    "        X_train,\n",
    "        y_train,\n",
    "        validation_data=(X_val, y_val),\n",
    "        epochs=epochs,\n",
    "        batch_size=batch_size,\n",
    "        callbacks=[checkpoint, es],\n",
    "        verbose=1,\n",
    "    )\n",
    "    return model, model_history"
   ]
  },
  {
   "cell_type": "code",
   "execution_count": 14,
   "metadata": {},
   "outputs": [],
   "source": [
    "# Plot model history\n",
    "def plot_history(model_history, test_score, val_score):\n",
    "    # Visualize the CNN training history\n",
    "    fig, ax = plt.subplots(1, 2, figsize=(6,2))\n",
    "\n",
    "    # Accuracy\n",
    "    ax[0].plot(model_history.history[test_score])\n",
    "    ax[0].plot(model_history.history[val_score])\n",
    "    ax[0].set_title(test_score)\n",
    "    ax[0].set_ylabel(test_score)\n",
    "    ax[0].set_xlabel('epoch')\n",
    "    ax[0].legend(['train', 'val'], loc='upper left')\n",
    "\n",
    "    # Loss\n",
    "    ax[1].plot(model_history.history['loss'])\n",
    "    ax[1].plot(model_history.history['val_loss'])\n",
    "    ax[1].set_title('loss')\n",
    "    ax[1].set_ylabel('loss')\n",
    "    ax[1].set_xlabel('epoch')\n",
    "    ax[1].legend(['train', 'val'], loc='upper left')\n",
    "    plt.show()"
   ]
  },
  {
   "cell_type": "code",
   "execution_count": 30,
   "metadata": {},
   "outputs": [
    {
     "name": "stdout",
     "output_type": "stream",
     "text": [
      "Epoch 1/50\n",
      "400/400 [==============================] - 2s 3ms/step - loss: 0.5582 - accuracy: 0.7155 - val_loss: 0.5094 - val_accuracy: 0.7594\n",
      "Epoch 2/50\n",
      " 53/400 [==>...........................] - ETA: 0s - loss: 0.5113 - accuracy: 0.7609"
     ]
    },
    {
     "name": "stderr",
     "output_type": "stream",
     "text": [
      "c:\\Users\\Danamas\\anaconda3\\envs\\venv_38\\lib\\site-packages\\keras\\src\\engine\\training.py:3000: UserWarning: You are saving your model as an HDF5 file via `model.save()`. This file format is considered legacy. We recommend using instead the native Keras format, e.g. `model.save('my_model.keras')`.\n",
      "  saving_api.save_model(\n"
     ]
    },
    {
     "name": "stdout",
     "output_type": "stream",
     "text": [
      "400/400 [==============================] - 1s 3ms/step - loss: 0.5094 - accuracy: 0.7624 - val_loss: 0.5106 - val_accuracy: 0.7607\n",
      "Epoch 3/50\n",
      "400/400 [==============================] - 1s 3ms/step - loss: 0.5062 - accuracy: 0.7649 - val_loss: 0.4984 - val_accuracy: 0.7645\n",
      "Epoch 4/50\n",
      "400/400 [==============================] - 1s 3ms/step - loss: 0.5041 - accuracy: 0.7653 - val_loss: 0.4977 - val_accuracy: 0.7686\n",
      "Epoch 5/50\n",
      "400/400 [==============================] - 1s 3ms/step - loss: 0.5015 - accuracy: 0.7670 - val_loss: 0.4981 - val_accuracy: 0.7645\n",
      "Epoch 6/50\n",
      "400/400 [==============================] - 1s 3ms/step - loss: 0.5010 - accuracy: 0.7667 - val_loss: 0.4975 - val_accuracy: 0.7688\n",
      "Epoch 7/50\n",
      "400/400 [==============================] - 1s 2ms/step - loss: 0.5008 - accuracy: 0.7669 - val_loss: 0.4960 - val_accuracy: 0.7678\n",
      "Epoch 8/50\n",
      "400/400 [==============================] - 1s 3ms/step - loss: 0.4995 - accuracy: 0.7677 - val_loss: 0.4998 - val_accuracy: 0.7663\n",
      "Epoch 9/50\n",
      "400/400 [==============================] - 1s 3ms/step - loss: 0.4992 - accuracy: 0.7676 - val_loss: 0.4974 - val_accuracy: 0.7628\n",
      "Epoch 10/50\n",
      "400/400 [==============================] - 1s 3ms/step - loss: 0.4981 - accuracy: 0.7679 - val_loss: 0.4977 - val_accuracy: 0.7689\n",
      "Epoch 11/50\n",
      "400/400 [==============================] - 1s 3ms/step - loss: 0.4984 - accuracy: 0.7669 - val_loss: 0.4979 - val_accuracy: 0.7700\n",
      "Epoch 12/50\n",
      "400/400 [==============================] - 1s 2ms/step - loss: 0.4979 - accuracy: 0.7669 - val_loss: 0.4990 - val_accuracy: 0.7678\n",
      "Epoch 13/50\n",
      "400/400 [==============================] - 1s 3ms/step - loss: 0.4969 - accuracy: 0.7680 - val_loss: 0.4968 - val_accuracy: 0.7691\n",
      "Epoch 14/50\n",
      "400/400 [==============================] - 1s 3ms/step - loss: 0.4965 - accuracy: 0.7688 - val_loss: 0.5022 - val_accuracy: 0.7632\n",
      "Epoch 15/50\n",
      "400/400 [==============================] - 1s 3ms/step - loss: 0.4955 - accuracy: 0.7695 - val_loss: 0.4956 - val_accuracy: 0.7685\n",
      "Epoch 16/50\n",
      "400/400 [==============================] - 1s 3ms/step - loss: 0.4958 - accuracy: 0.7685 - val_loss: 0.4978 - val_accuracy: 0.7643\n",
      "Epoch 17/50\n",
      "400/400 [==============================] - 1s 2ms/step - loss: 0.4955 - accuracy: 0.7685 - val_loss: 0.4950 - val_accuracy: 0.7698\n",
      "Epoch 18/50\n",
      "400/400 [==============================] - 1s 2ms/step - loss: 0.4951 - accuracy: 0.7680 - val_loss: 0.4958 - val_accuracy: 0.7697\n",
      "Epoch 19/50\n",
      "400/400 [==============================] - 1s 2ms/step - loss: 0.4946 - accuracy: 0.7690 - val_loss: 0.4979 - val_accuracy: 0.7679\n",
      "Epoch 20/50\n",
      "400/400 [==============================] - 1s 2ms/step - loss: 0.4951 - accuracy: 0.7695 - val_loss: 0.4948 - val_accuracy: 0.7660\n",
      "Epoch 21/50\n",
      "400/400 [==============================] - 1s 3ms/step - loss: 0.4941 - accuracy: 0.7680 - val_loss: 0.5001 - val_accuracy: 0.7671\n",
      "Epoch 22/50\n",
      "400/400 [==============================] - 1s 2ms/step - loss: 0.4931 - accuracy: 0.7690 - val_loss: 0.4951 - val_accuracy: 0.7703\n",
      "Epoch 23/50\n",
      "400/400 [==============================] - 1s 3ms/step - loss: 0.4930 - accuracy: 0.7703 - val_loss: 0.4922 - val_accuracy: 0.7691\n",
      "Epoch 24/50\n",
      "400/400 [==============================] - 1s 3ms/step - loss: 0.4928 - accuracy: 0.7698 - val_loss: 0.4929 - val_accuracy: 0.7686\n",
      "Epoch 25/50\n",
      "400/400 [==============================] - 1s 3ms/step - loss: 0.4927 - accuracy: 0.7689 - val_loss: 0.4943 - val_accuracy: 0.7685\n",
      "Epoch 26/50\n",
      "400/400 [==============================] - 1s 3ms/step - loss: 0.4926 - accuracy: 0.7698 - val_loss: 0.4922 - val_accuracy: 0.7691\n",
      "Epoch 27/50\n",
      "400/400 [==============================] - 1s 3ms/step - loss: 0.4926 - accuracy: 0.7696 - val_loss: 0.4940 - val_accuracy: 0.7700\n",
      "Epoch 28/50\n",
      "400/400 [==============================] - 1s 3ms/step - loss: 0.4926 - accuracy: 0.7692 - val_loss: 0.4985 - val_accuracy: 0.7697\n",
      "Epoch 29/50\n",
      "400/400 [==============================] - 1s 3ms/step - loss: 0.4918 - accuracy: 0.7708 - val_loss: 0.4931 - val_accuracy: 0.7694\n",
      "Epoch 30/50\n",
      "400/400 [==============================] - 1s 3ms/step - loss: 0.4918 - accuracy: 0.7700 - val_loss: 0.5019 - val_accuracy: 0.7642\n",
      "Epoch 31/50\n",
      "400/400 [==============================] - 1s 3ms/step - loss: 0.4917 - accuracy: 0.7700 - val_loss: 0.4968 - val_accuracy: 0.7695\n",
      "Epoch 32/50\n",
      "400/400 [==============================] - 1s 3ms/step - loss: 0.4920 - accuracy: 0.7701 - val_loss: 0.4930 - val_accuracy: 0.7700\n",
      "Epoch 33/50\n",
      "400/400 [==============================] - 1s 3ms/step - loss: 0.4917 - accuracy: 0.7700 - val_loss: 0.4952 - val_accuracy: 0.7679\n",
      "Epoch 34/50\n",
      "400/400 [==============================] - 1s 3ms/step - loss: 0.4914 - accuracy: 0.7701 - val_loss: 0.4906 - val_accuracy: 0.7680\n",
      "Epoch 35/50\n",
      "400/400 [==============================] - 1s 3ms/step - loss: 0.4919 - accuracy: 0.7696 - val_loss: 0.4930 - val_accuracy: 0.7689\n",
      "Epoch 36/50\n",
      "400/400 [==============================] - 1s 3ms/step - loss: 0.4911 - accuracy: 0.7716 - val_loss: 0.4950 - val_accuracy: 0.7679\n",
      "Epoch 37/50\n",
      "400/400 [==============================] - 1s 3ms/step - loss: 0.4916 - accuracy: 0.7704 - val_loss: 0.4997 - val_accuracy: 0.7678\n",
      "Epoch 38/50\n",
      "400/400 [==============================] - 1s 3ms/step - loss: 0.4912 - accuracy: 0.7709 - val_loss: 0.4935 - val_accuracy: 0.7681\n",
      "Epoch 39/50\n",
      "400/400 [==============================] - 1s 3ms/step - loss: 0.4910 - accuracy: 0.7698 - val_loss: 0.4939 - val_accuracy: 0.7690\n",
      "Epoch 40/50\n",
      "400/400 [==============================] - 1s 2ms/step - loss: 0.4913 - accuracy: 0.7702 - val_loss: 0.4942 - val_accuracy: 0.7703\n",
      "Epoch 41/50\n",
      "400/400 [==============================] - 1s 3ms/step - loss: 0.4914 - accuracy: 0.7697 - val_loss: 0.4930 - val_accuracy: 0.7707\n",
      "Epoch 42/50\n",
      "400/400 [==============================] - 1s 3ms/step - loss: 0.4908 - accuracy: 0.7716 - val_loss: 0.4949 - val_accuracy: 0.7708\n",
      "Epoch 43/50\n",
      "400/400 [==============================] - 1s 3ms/step - loss: 0.4909 - accuracy: 0.7701 - val_loss: 0.4908 - val_accuracy: 0.7695\n",
      "Epoch 44/50\n",
      "400/400 [==============================] - 1s 3ms/step - loss: 0.4908 - accuracy: 0.7715 - val_loss: 0.4956 - val_accuracy: 0.7700\n",
      "Epoch 45/50\n",
      "400/400 [==============================] - 1s 3ms/step - loss: 0.4911 - accuracy: 0.7697 - val_loss: 0.4941 - val_accuracy: 0.7675\n",
      "Epoch 46/50\n",
      "400/400 [==============================] - 1s 3ms/step - loss: 0.4910 - accuracy: 0.7702 - val_loss: 0.4962 - val_accuracy: 0.7691\n"
     ]
    }
   ],
   "source": [
    "# Create callbacks\n",
    "es, checkpoint = create_callbacks('../03 outputs/01/classification_model.hdf5', monitor, mode, patience)\n",
    "# Build model architecture\n",
    "model = build_model(n_output_class=1)\n",
    "# Fit the model\n",
    "model, model_history = fit_model(model, es, checkpoint)"
   ]
  },
  {
   "cell_type": "code",
   "execution_count": 31,
   "metadata": {},
   "outputs": [
    {
     "data": {
      "image/png": "[encoded data removed]",
      "text/plain": [
       "<Figure size 600x200 with 2 Axes>"
      ]
     },
     "metadata": {},
     "output_type": "display_data"
    }
   ],
   "source": [
    "# Plot model history\n",
    "plot_history(model_history, test_score, val_score)"
   ]
  },
  {
   "cell_type": "markdown",
   "metadata": {},
   "source": [
    "# Invoke prediction"
   ]
  },
  {
   "cell_type": "code",
   "execution_count": 41,
   "metadata": {},
   "outputs": [
    {
     "name": "stdout",
     "output_type": "stream",
     "text": [
      "2500/2500 [==============================] - 3s 1ms/step\n",
      "625/625 [==============================] - 1s 1ms/step\n",
      "3125/3125 [==============================] - 4s 1ms/step\n"
     ]
    },
    {
     "data": {
      "text/html": [
       "<div>\n",
       "<style scoped>\n",
       "    .dataframe tbody tr th:only-of-type {\n",
       "        vertical-align: middle;\n",
       "    }\n",
       "\n",
       "    .dataframe tbody tr th {\n",
       "        vertical-align: top;\n",
       "    }\n",
       "\n",
       "    .dataframe thead th {\n",
       "        text-align: right;\n",
       "    }\n",
       "</style>\n",
       "<table border=\"1\" class=\"dataframe\">\n",
       "  <thead>\n",
       "    <tr style=\"text-align: right;\">\n",
       "      <th></th>\n",
       "      <th>true</th>\n",
       "      <th>prob</th>\n",
       "      <th>pred</th>\n",
       "    </tr>\n",
       "  </thead>\n",
       "  <tbody>\n",
       "    <tr>\n",
       "      <th>22302</th>\n",
       "      <td>1</td>\n",
       "      <td>0.229</td>\n",
       "      <td>0</td>\n",
       "    </tr>\n",
       "    <tr>\n",
       "      <th>49609</th>\n",
       "      <td>0</td>\n",
       "      <td>0.121</td>\n",
       "      <td>0</td>\n",
       "    </tr>\n",
       "    <tr>\n",
       "      <th>89251</th>\n",
       "      <td>0</td>\n",
       "      <td>0.111</td>\n",
       "      <td>0</td>\n",
       "    </tr>\n",
       "  </tbody>\n",
       "</table>\n",
       "</div>"
      ],
      "text/plain": [
       "       true   prob  pred\n",
       "22302     1  0.229     0\n",
       "49609     0  0.121     0\n",
       "89251     0  0.111     0"
      ]
     },
     "execution_count": 41,
     "metadata": {},
     "output_type": "execute_result"
    }
   ],
   "source": [
    "# Train\n",
    "pred_train = pd.DataFrame(y_train)\n",
    "pred_train['prob'] = model.predict(X_train)\n",
    "pred_train.columns = ['true', 'prob']\n",
    "pred_train['prob'] = round(pred_train['prob'], 3)\n",
    "pred_train['pred'] = (round(pred_train['prob'], 0)).astype(int)\n",
    "\n",
    "# Val\n",
    "pred_val = pd.DataFrame(y_val)\n",
    "pred_val['prob'] = model.predict(X_val)\n",
    "pred_val.columns = ['true', 'prob']\n",
    "pred_val['prob'] = round(pred_val['prob'], 3)\n",
    "pred_val['pred'] = (round(pred_val['prob'], 0)).astype(int)\n",
    "\n",
    "# Test\n",
    "pred_test = model.predict(test)\n",
    "pred_test = pd.DataFrame(pred_test)\n",
    "pred_test.columns = ['prob']\n",
    "pred_test['prob'] = round(pred_test['prob'], 3)\n",
    "pred_test['pred'] = (round(pred_test['prob'], 0)).astype(int)\n",
    "\n",
    "pred_train.head(3)"
   ]
  },
  {
   "cell_type": "code",
   "execution_count": 47,
   "metadata": {},
   "outputs": [
    {
     "data": {
      "text/plain": [
       "0    45748\n",
       "1    34252\n",
       "Name: Survived, dtype: int64"
      ]
     },
     "execution_count": 47,
     "metadata": {},
     "output_type": "execute_result"
    }
   ],
   "source": [
    "y_train.value_counts()"
   ]
  },
  {
   "cell_type": "code",
   "execution_count": 43,
   "metadata": {},
   "outputs": [
    {
     "name": "stdout",
     "output_type": "stream",
     "text": [
      "Confusion Matrix\n",
      "       0      1\n",
      "0  36283   9465\n",
      "1   8813  25439\n",
      "\n",
      "Classification Report\n",
      "              precision    recall  f1-score   support\n",
      "\n",
      "           0       0.80      0.79      0.80     45748\n",
      "           1       0.73      0.74      0.74     34252\n",
      "\n",
      "    accuracy                           0.77     80000\n",
      "   macro avg       0.77      0.77      0.77     80000\n",
      "weighted avg       0.77      0.77      0.77     80000\n",
      "\n"
     ]
    }
   ],
   "source": [
    "# Model evaluation\n",
    "print('Confusion Matrix')\n",
    "print(pd.DataFrame(confusion_matrix(y_train, pred_train['pred']), index=[0,1], columns=[0,1]))\n",
    "print('')\n",
    "print('Classification Report')\n",
    "print(classification_report(y_train, pred_train['pred']))"
   ]
  },
  {
   "cell_type": "code",
   "execution_count": 45,
   "metadata": {},
   "outputs": [
    {
     "name": "stdout",
     "output_type": "stream",
     "text": [
      "Confusion Matrix\n",
      "      0     1\n",
      "0  9066  2412\n",
      "1  2228  6294\n",
      "\n",
      "Classification Report\n",
      "              precision    recall  f1-score   support\n",
      "\n",
      "           0       0.80      0.79      0.80     11478\n",
      "           1       0.72      0.74      0.73      8522\n",
      "\n",
      "    accuracy                           0.77     20000\n",
      "   macro avg       0.76      0.76      0.76     20000\n",
      "weighted avg       0.77      0.77      0.77     20000\n",
      "\n"
     ]
    }
   ],
   "source": [
    "# Model evaluation\n",
    "print('Confusion Matrix')\n",
    "print(pd.DataFrame(confusion_matrix(y_val, pred_val['pred']), index=[0,1], columns=[0,1]))\n",
    "print('')\n",
    "print('Classification Report')\n",
    "print(classification_report(y_val, pred_val['pred']))"
   ]
  },
  {
   "cell_type": "code",
   "execution_count": 46,
   "metadata": {},
   "outputs": [],
   "source": [
    "# Save\n",
    "pred_train.to_csv('../03 outputs/01/pred_train.csv')\n",
    "pred_val.to_csv('../03 outputs/01/pred_val.csv')\n",
    "pred_test.to_csv('../03 outputs/01/pred_test.csv')"
   ]
  }
 ],
 "metadata": {
  "kernelspec": {
   "display_name": "venv_38",
   "language": "python",
   "name": "python3"
  },
  "language_info": {
   "codemirror_mode": {
    "name": "ipython",
    "version": 3
   },
   "file_extension": ".py",
   "mimetype": "text/x-python",
   "name": "python",
   "nbconvert_exporter": "python",
   "pygments_lexer": "ipython3",
   "version": "3.8.0"
  }
 },
 "nbformat": 4,
 "nbformat_minor": 2
}
