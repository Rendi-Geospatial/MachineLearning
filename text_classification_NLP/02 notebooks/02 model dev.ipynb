{
  "cells": [
    {
      "cell_type": "code",
      "execution_count": 1,
      "metadata": {
        "id": "JXpchCK4p-uy"
      },
      "outputs": [],
      "source": [
        "# Input:\n",
        "path_x_train = '/content/X_train.csv'\n",
        "path_x_val = '/content/X_val.csv'\n",
        "path_y_train = '/content/y_train.csv'\n",
        "path_y_val = '/content/y_val.csv'\n",
        "path_test = '/content/test.csv'\n",
        "n_outputs = 4\n",
        "input_dim = 5000\n",
        "metrics = ['accuracy']\n",
        "epochs=15\n",
        "batch_size=500\n",
        "model_name='text_classifier.hdf5'\n",
        "monitor='val_accuracy'\n",
        "mode='max'\n",
        "patience=5\n",
        "test_score, val_score = 'accuracy', 'val_accuracy'"
      ]
    },
    {
      "cell_type": "code",
      "execution_count": 2,
      "metadata": {
        "id": "UwPEJeQcp-u0"
      },
      "outputs": [],
      "source": [
        "import numpy as np\n",
        "import pandas as pd\n",
        "import matplotlib.pyplot as plt\n",
        "import pickle\n",
        "\n",
        "import tensorflow as tf\n",
        "from keras.callbacks import EarlyStopping, ModelCheckpoint\n",
        "from tensorflow.keras.preprocessing.text import Tokenizer\n",
        "from tensorflow.keras.preprocessing.sequence import pad_sequences\n",
        "from tensorflow.keras.models import Sequential\n",
        "from tensorflow.keras.layers import LSTM, GRU, Dense, Embedding, Dropout, GlobalAveragePooling1D, \\\n",
        "GlobalMaxPooling1D, Flatten, SpatialDropout1D, Bidirectional, Conv1D, MaxPooling1D\n",
        "from tensorflow.keras.models import load_model"
      ]
    },
    {
      "cell_type": "code",
      "execution_count": 3,
      "metadata": {
        "id": "zaslKzCap-u0"
      },
      "outputs": [],
      "source": [
        "# Load data\n",
        "X_train = pd.read_csv(path_x_train, index_col='Unnamed: 0')\n",
        "X_val = pd.read_csv(path_x_val, index_col='Unnamed: 0')\n",
        "y_train = pd.read_csv(path_y_train, index_col='Unnamed: 0')\n",
        "y_val = pd.read_csv(path_y_val, index_col='Unnamed: 0')"
      ]
    },
    {
      "cell_type": "code",
      "execution_count": 8,
      "metadata": {
        "colab": {
          "base_uri": "https://localhost:8080/"
        },
        "id": "AF-q35G5jnNG",
        "outputId": "f2f2c520-6250-4793-8da6-2623e9027eba"
      },
      "outputs": [
        {
          "data": {
            "text/plain": [
              "6416"
            ]
          },
          "execution_count": 8,
          "metadata": {},
          "output_type": "execute_result"
        }
      ],
      "source": [
        "# Apply tokenizer and sequence\n",
        "tokenizer = Tokenizer(num_words=5000, oov_token='x')\n",
        "tokenizer.fit_on_texts(X_train['cleaned_text'].values)\n",
        "\n",
        "seq_train = tokenizer.texts_to_sequences(X_train['cleaned_text'].values)\n",
        "seq_val = tokenizer.texts_to_sequences(X_val['cleaned_text'].values)\n",
        "\n",
        "pad_train = pad_sequences(seq_train)\n",
        "pad_val = pad_sequences(seq_val)\n",
        "\n",
        "# number of word index\n",
        "len(tokenizer.word_index)"
      ]
    },
    {
      "cell_type": "code",
      "execution_count": 9,
      "metadata": {
        "id": "ajuLDRaQyV72"
      },
      "outputs": [],
      "source": [
        "# save the tokenizer\n",
        "pickle.dump(tokenizer, open('text_emotion_tokenizer.pickle', 'wb'), protocol=pickle.HIGHEST_PROTOCOL)"
      ]
    },
    {
      "cell_type": "markdown",
      "metadata": {
        "id": "3IqvEhhtaw77"
      },
      "source": [
        "# Build neural network architecture"
      ]
    },
    {
      "cell_type": "code",
      "execution_count": 10,
      "metadata": {
        "id": "XI1I_lIjuYaC"
      },
      "outputs": [],
      "source": [
        "# Dense model architecture\n",
        "def build_dense_model(input_dim, n_outputs):\n",
        "    model = Sequential()\n",
        "    model.add(Embedding(input_dim, output_dim=64))\n",
        "    model.add(GlobalAveragePooling1D()) # reduce the number of parameters and avoid overfitting.\n",
        "    model.add(Dense(32, activation='relu'))\n",
        "    model.add(Dropout(0.2))\n",
        "    model.add(Dense(12, activation='relu'))\n",
        "    model.add(Dropout(0.2))\n",
        "    model.add(Dense(n_outputs, activation='sigmoid'))\n",
        "    opt = tf.keras.optimizers.Adam(learning_rate=1e-3)\n",
        "    model.compile(loss='categorical_crossentropy', optimizer=opt, metrics=metrics)\n",
        "\n",
        "    return model"
      ]
    },
    {
      "cell_type": "code",
      "execution_count": 20,
      "metadata": {
        "id": "JHxer3nReSAl"
      },
      "outputs": [],
      "source": [
        "# LSTM model architecture\n",
        "def build_lstm_model(input_dim, n_outputs):\n",
        "    model = Sequential()\n",
        "    model.add(Embedding(input_dim, output_dim=64))\n",
        "    model.add(SpatialDropout1D(0.2))\n",
        "    model.add(LSTM(32, return_sequences=False))\n",
        "    model.add(Dropout(0.2))\n",
        "    model.add(Dense(16, activation='relu'))\n",
        "    model.add(Dropout(0.2))\n",
        "    model.add(Dense(n_outputs, activation='sigmoid'))\n",
        "    opt = tf.keras.optimizers.Adam(learning_rate=1e-3)\n",
        "    model.compile(loss='categorical_crossentropy', optimizer=opt, metrics=metrics)\n",
        "\n",
        "    return model"
      ]
    },
    {
      "cell_type": "code",
      "execution_count": 11,
      "metadata": {
        "id": "nYC_lBhtprod"
      },
      "outputs": [],
      "source": [
        "# Bi-LSTM\n",
        "def build_bi_lstm_model(input_dim, n_outputs, metrics):\n",
        "    model = Sequential()\n",
        "    model.add(Embedding(input_dim, output_dim=64))\n",
        "    model.add(Bidirectional(LSTM(32, return_sequences = False))) # For bidirectional-GRU, replace LSTM with GRU\n",
        "    model.add(Dropout(0.2))\n",
        "    model.add(Dense(16, activation='relu'))\n",
        "    model.add(Dropout(0.2))\n",
        "    model.add(Dense(n_outputs, activation='sigmoid')) # or use softmax\n",
        "    opt = tf.keras.optimizers.Adam(learning_rate=1e-3)\n",
        "    model.compile(loss='categorical_crossentropy', optimizer=opt, metrics=metrics)\n",
        "\n",
        "    return model"
      ]
    },
    {
      "cell_type": "code",
      "execution_count": 12,
      "metadata": {
        "id": "dGrc_zvZwyQ_"
      },
      "outputs": [],
      "source": [
        "# GRU\n",
        "def build_gru_model(input_dim, n_outputs, metrics):\n",
        "    model = Sequential()\n",
        "    model.add(Embedding(input_dim, output_dim=64))\n",
        "    model.add(SpatialDropout1D(0.2))\n",
        "    model.add(GRU(64, return_sequences = False))\n",
        "    model.add(Dropout(0.2))\n",
        "    model.add(Dense(16, activation='relu'))\n",
        "    model.add(Dropout(0.2))\n",
        "    model.add(Dense(n_outputs, activation='sigmoid'))\n",
        "    opt = tf.keras.optimizers.Adam(learning_rate=1e-3)\n",
        "    model.compile(loss='categorical_crossentropy', optimizer=opt, metrics=metrics)\n",
        "\n",
        "    return model"
      ]
    },
    {
      "cell_type": "code",
      "execution_count": 13,
      "metadata": {
        "id": "TUWsnPp-y_DW"
      },
      "outputs": [],
      "source": [
        "# CNN\n",
        "def build_cnn_model(input_dim, n_outputs, metrics):\n",
        "    model = Sequential()\n",
        "    model.add(Embedding(input_dim, output_dim=64))\n",
        "    model.add(Dropout(0.2))\n",
        "    model.add(Conv1D(32, kernel_size=3, padding='same', activation='relu', strides=1))\n",
        "    model.add(GlobalMaxPooling1D())\n",
        "    model.add(Dense(16,activation='relu'))\n",
        "    model.add(Dropout(0.2))\n",
        "    model.add(Dense(n_outputs, activation='sigmoid'))\n",
        "    opt = tf.keras.optimizers.Adam(learning_rate=1e-3)\n",
        "    model.compile(loss='categorical_crossentropy', optimizer=opt, metrics=metrics)\n",
        "\n",
        "    return model"
      ]
    },
    {
      "cell_type": "code",
      "execution_count": 31,
      "metadata": {
        "id": "SxjLWRcG0beE"
      },
      "outputs": [],
      "source": [
        "# CNN + GRU\n",
        "def build_cnn_gru_model(input_dim, n_outputs, metrics):\n",
        "    model = Sequential()\n",
        "    model.add(Embedding(input_dim, output_dim=64))\n",
        "    model.add(Conv1D(32, kernel_size=3, padding='same', activation='relu'))\n",
        "    model.add(MaxPooling1D(pool_size=4))\n",
        "    model.add(GRU(16, recurrent_dropout=0.5))\n",
        "    model.add(Dropout(0.2))\n",
        "    model.add(Dense(n_outputs, activation='sigmoid'))\n",
        "\n",
        "    opt = tf.keras.optimizers.Adam(learning_rate=1e-3)\n",
        "    model.compile(loss='categorical_crossentropy', optimizer=opt, metrics=metrics)\n",
        "\n",
        "    return model"
      ]
    },
    {
      "cell_type": "code",
      "execution_count": 15,
      "metadata": {
        "id": "xQLerJY3d2Og"
      },
      "outputs": [],
      "source": [
        "# Set callbacks\n",
        "def create_callbacks(model_name, monitor, mode, patience):\n",
        "    # Early stopping\n",
        "    es = EarlyStopping(\n",
        "        monitor=monitor, mode=mode, verbose=0, patience=patience, restore_best_weights=True\n",
        "    )\n",
        "\n",
        "    # Checkpoint\n",
        "    checkpoint = ModelCheckpoint(\n",
        "        filepath=model_name,\n",
        "        monitor=monitor,\n",
        "        mode=mode,\n",
        "        save_best_only=True\n",
        "    )\n",
        "\n",
        "    return es, checkpoint"
      ]
    },
    {
      "cell_type": "code",
      "execution_count": 16,
      "metadata": {
        "id": "d6xWNsDyffRH"
      },
      "outputs": [],
      "source": [
        "# Fit model\n",
        "def fit_model(model, es, checkpoint):\n",
        "    model_history = model.fit(\n",
        "        pad_train,\n",
        "        y_train,\n",
        "        epochs=epochs,\n",
        "        batch_size=batch_size\n",
        "        validation_data=(pad_val, y_val),\n",
        "        callbacks=[checkpoint, es],\n",
        "        verbose=2,\n",
        "    )\n",
        "    return model, model_history"
      ]
    },
    {
      "cell_type": "code",
      "execution_count": 17,
      "metadata": {
        "id": "SAJ_LWCHj-aM"
      },
      "outputs": [],
      "source": [
        "# Plot model history\n",
        "def plot_history(model_history, test_score, val_score):\n",
        "    # Visualize the CNN training history\n",
        "    fig, ax = plt.subplots(1, 2, figsize=(6,2))\n",
        "\n",
        "    # Accuracy\n",
        "    ax[0].plot(model_history.history[test_score])\n",
        "    ax[0].plot(model_history.history[val_score])\n",
        "    ax[0].set_title(test_score)\n",
        "    ax[0].set_ylabel(test_score)\n",
        "    ax[0].set_xlabel('epoch')\n",
        "    ax[0].legend(['train', 'val'], loc='upper left')\n",
        "\n",
        "    # Loss\n",
        "    ax[1].plot(model_history.history['loss'])\n",
        "    ax[1].plot(model_history.history['val_loss'])\n",
        "    ax[1].set_title('loss')\n",
        "    ax[1].set_ylabel('loss')\n",
        "    ax[1].set_xlabel('epoch')\n",
        "    ax[1].legend(['train', 'val'], loc='upper left')\n",
        "    plt.show()"
      ]
    },
    {
      "cell_type": "markdown",
      "metadata": {
        "id": "e29MoRYzdj69"
      },
      "source": [
        "# Fit the model"
      ]
    },
    {
      "cell_type": "markdown",
      "metadata": {
        "id": "db09m5290ZF0"
      },
      "source": [
        "## Dense"
      ]
    },
    {
      "cell_type": "code",
      "execution_count": 18,
      "metadata": {
        "colab": {
          "base_uri": "https://localhost:8080/"
        },
        "id": "_-OKZYrodSky",
        "outputId": "fe51c8b1-290e-44ee-b0a6-32c26538693c"
      },
      "outputs": [
        {
          "name": "stdout",
          "output_type": "stream",
          "text": [
            "Epoch 1/15\n",
            "91/91 - 1s - loss: 1.3782 - accuracy: 0.3156 - val_loss: 1.3653 - val_accuracy: 0.3320 - 1s/epoch - 13ms/step\n",
            "Epoch 2/15\n"
          ]
        },
        {
          "name": "stderr",
          "output_type": "stream",
          "text": [
            "/usr/local/lib/python3.10/dist-packages/keras/src/engine/training.py:3103: UserWarning: You are saving your model as an HDF5 file via `model.save()`. This file format is considered legacy. We recommend using instead the native Keras format, e.g. `model.save('my_model.keras')`.\n",
            "  saving_api.save_model(\n"
          ]
        },
        {
          "name": "stdout",
          "output_type": "stream",
          "text": [
            "91/91 - 0s - loss: 1.3198 - accuracy: 0.4201 - val_loss: 1.2324 - val_accuracy: 0.5546 - 324ms/epoch - 4ms/step\n",
            "Epoch 3/15\n",
            "91/91 - 0s - loss: 1.0599 - accuracy: 0.5744 - val_loss: 0.9350 - val_accuracy: 0.6556 - 341ms/epoch - 4ms/step\n",
            "Epoch 4/15\n",
            "91/91 - 0s - loss: 0.7535 - accuracy: 0.7308 - val_loss: 0.7169 - val_accuracy: 0.7372 - 355ms/epoch - 4ms/step\n",
            "Epoch 5/15\n",
            "91/91 - 0s - loss: 0.5090 - accuracy: 0.8377 - val_loss: 0.5737 - val_accuracy: 0.8230 - 347ms/epoch - 4ms/step\n",
            "Epoch 6/15\n",
            "91/91 - 0s - loss: 0.3258 - accuracy: 0.9131 - val_loss: 0.4973 - val_accuracy: 0.8409 - 268ms/epoch - 3ms/step\n",
            "Epoch 7/15\n",
            "91/91 - 0s - loss: 0.2185 - accuracy: 0.9408 - val_loss: 0.4632 - val_accuracy: 0.8437 - 325ms/epoch - 4ms/step\n",
            "Epoch 8/15\n",
            "91/91 - 0s - loss: 0.1740 - accuracy: 0.9567 - val_loss: 0.4566 - val_accuracy: 0.8589 - 352ms/epoch - 4ms/step\n",
            "Epoch 9/15\n",
            "91/91 - 1s - loss: 0.1325 - accuracy: 0.9630 - val_loss: 0.4690 - val_accuracy: 0.8423 - 540ms/epoch - 6ms/step\n",
            "Epoch 10/15\n",
            "91/91 - 0s - loss: 0.1321 - accuracy: 0.9626 - val_loss: 0.4926 - val_accuracy: 0.8451 - 276ms/epoch - 3ms/step\n",
            "Epoch 11/15\n",
            "91/91 - 0s - loss: 0.1102 - accuracy: 0.9685 - val_loss: 0.5001 - val_accuracy: 0.8479 - 295ms/epoch - 3ms/step\n",
            "Epoch 12/15\n",
            "91/91 - 1s - loss: 0.0935 - accuracy: 0.9775 - val_loss: 0.5101 - val_accuracy: 0.8479 - 514ms/epoch - 6ms/step\n",
            "Epoch 13/15\n",
            "91/91 - 1s - loss: 0.0889 - accuracy: 0.9727 - val_loss: 0.5513 - val_accuracy: 0.8451 - 506ms/epoch - 6ms/step\n"
          ]
        }
      ],
      "source": [
        "# Create callbacks\n",
        "es, checkpoint = create_callbacks('text_classifier_dense.hdf5', monitor, mode, patience)\n",
        "# Build model architecture\n",
        "model_dense = build_dense_model(input_dim, n_outputs, metrics)\n",
        "# Fit the model\n",
        "model_dense, model_dense_history = fit_model(model_dense, es, checkpoint)"
      ]
    },
    {
      "cell_type": "code",
      "execution_count": 23,
      "metadata": {
        "colab": {
          "base_uri": "https://localhost:8080/",
          "height": 256
        },
        "id": "R3kFWIAgj9KB",
        "outputId": "990303a0-91ec-4380-f48c-d52729d011e7"
      },
      "outputs": [
        {
          "data": {
            "image/png": "[encoded data removed]",
            "text/plain": [
              "<Figure size 600x200 with 2 Axes>"
            ]
          },
          "metadata": {},
          "output_type": "display_data"
        }
      ],
      "source": [
        "# Plot model history\n",
        "plot_history(model_dense_history, test_score, val_score)"
      ]
    },
    {
      "cell_type": "markdown",
      "metadata": {
        "id": "H6as4P0wlCzK"
      },
      "source": [
        "## LSTM"
      ]
    },
    {
      "cell_type": "code",
      "execution_count": 21,
      "metadata": {
        "colab": {
          "base_uri": "https://localhost:8080/"
        },
        "id": "QnxNfsaMl2NB",
        "outputId": "2d896880-5ca3-46e9-e0a5-38120ffc14a7"
      },
      "outputs": [
        {
          "name": "stdout",
          "output_type": "stream",
          "text": [
            "Epoch 1/15\n",
            "91/91 - 4s - loss: 1.3610 - accuracy: 0.3467 - val_loss: 1.3183 - val_accuracy: 0.3430 - 4s/epoch - 39ms/step\n",
            "Epoch 2/15\n"
          ]
        },
        {
          "name": "stderr",
          "output_type": "stream",
          "text": [
            "/usr/local/lib/python3.10/dist-packages/keras/src/engine/training.py:3103: UserWarning: You are saving your model as an HDF5 file via `model.save()`. This file format is considered legacy. We recommend using instead the native Keras format, e.g. `model.save('my_model.keras')`.\n",
            "  saving_api.save_model(\n"
          ]
        },
        {
          "name": "stdout",
          "output_type": "stream",
          "text": [
            "91/91 - 1s - loss: 1.0283 - accuracy: 0.5242 - val_loss: 0.8748 - val_accuracy: 0.6376 - 835ms/epoch - 9ms/step\n",
            "Epoch 3/15\n",
            "91/91 - 1s - loss: 0.5375 - accuracy: 0.8412 - val_loss: 0.5831 - val_accuracy: 0.8188 - 820ms/epoch - 9ms/step\n",
            "Epoch 4/15\n",
            "91/91 - 1s - loss: 0.2273 - accuracy: 0.9377 - val_loss: 0.5397 - val_accuracy: 0.8368 - 844ms/epoch - 9ms/step\n",
            "Epoch 5/15\n",
            "91/91 - 1s - loss: 0.1528 - accuracy: 0.9616 - val_loss: 0.5629 - val_accuracy: 0.8257 - 820ms/epoch - 9ms/step\n",
            "Epoch 6/15\n",
            "91/91 - 1s - loss: 0.1072 - accuracy: 0.9754 - val_loss: 0.5756 - val_accuracy: 0.8299 - 811ms/epoch - 9ms/step\n",
            "Epoch 7/15\n",
            "91/91 - 1s - loss: 0.0920 - accuracy: 0.9782 - val_loss: 0.5910 - val_accuracy: 0.8257 - 835ms/epoch - 9ms/step\n",
            "Epoch 8/15\n",
            "91/91 - 1s - loss: 0.0830 - accuracy: 0.9792 - val_loss: 0.5839 - val_accuracy: 0.8354 - 834ms/epoch - 9ms/step\n",
            "Epoch 9/15\n",
            "91/91 - 1s - loss: 0.0677 - accuracy: 0.9834 - val_loss: 0.6478 - val_accuracy: 0.8354 - 844ms/epoch - 9ms/step\n"
          ]
        }
      ],
      "source": [
        "# Create callbacks\n",
        "es, checkpoint = create_callbacks('text_classifier_lstm.hdf5', monitor, mode, patience)\n",
        "# Build model architecture\n",
        "model_lstm = build_lstm_model(input_dim, n_outputs, metrics)\n",
        "# Fit the model\n",
        "model_lstm, model_lstm_history = fit_model(model_lstm, es, checkpoint)"
      ]
    },
    {
      "cell_type": "code",
      "execution_count": 22,
      "metadata": {
        "colab": {
          "base_uri": "https://localhost:8080/",
          "height": 256
        },
        "id": "xG9-QiXWm3RS",
        "outputId": "269347e3-972a-41d5-aba2-fd4d795a3a99"
      },
      "outputs": [
        {
          "data": {
            "image/png": "[encoded data removed]",
            "text/plain": [
              "<Figure size 600x200 with 2 Axes>"
            ]
          },
          "metadata": {},
          "output_type": "display_data"
        }
      ],
      "source": [
        "# Plot model history\n",
        "plot_history(model_lstm_history, test_score, val_score)"
      ]
    },
    {
      "cell_type": "markdown",
      "metadata": {
        "id": "SHbxpknmxh0u"
      },
      "source": [
        "## Bi-LSTM"
      ]
    },
    {
      "cell_type": "code",
      "execution_count": 24,
      "metadata": {
        "colab": {
          "base_uri": "https://localhost:8080/"
        },
        "id": "6_Gil1szv5uA",
        "outputId": "bd4df71c-7a5c-404e-9ffd-2bcaa2f9aa99"
      },
      "outputs": [
        {
          "name": "stdout",
          "output_type": "stream",
          "text": [
            "Epoch 1/15\n",
            "91/91 - 5s - loss: 1.3608 - accuracy: 0.3301 - val_loss: 1.2846 - val_accuracy: 0.3444 - 5s/epoch - 56ms/step\n",
            "Epoch 2/15\n"
          ]
        },
        {
          "name": "stderr",
          "output_type": "stream",
          "text": [
            "/usr/local/lib/python3.10/dist-packages/keras/src/engine/training.py:3103: UserWarning: You are saving your model as an HDF5 file via `model.save()`. This file format is considered legacy. We recommend using instead the native Keras format, e.g. `model.save('my_model.keras')`.\n",
            "  saving_api.save_model(\n"
          ]
        },
        {
          "name": "stdout",
          "output_type": "stream",
          "text": [
            "91/91 - 1s - loss: 0.9019 - accuracy: 0.6502 - val_loss: 0.6843 - val_accuracy: 0.7497 - 1s/epoch - 12ms/step\n",
            "Epoch 3/15\n",
            "91/91 - 1s - loss: 0.3392 - accuracy: 0.8920 - val_loss: 0.4770 - val_accuracy: 0.8313 - 1s/epoch - 12ms/step\n",
            "Epoch 4/15\n",
            "91/91 - 1s - loss: 0.1842 - accuracy: 0.9446 - val_loss: 0.4960 - val_accuracy: 0.8396 - 1s/epoch - 12ms/step\n",
            "Epoch 5/15\n",
            "91/91 - 1s - loss: 0.1231 - accuracy: 0.9640 - val_loss: 0.5545 - val_accuracy: 0.8257 - 1s/epoch - 12ms/step\n",
            "Epoch 6/15\n",
            "91/91 - 1s - loss: 0.1118 - accuracy: 0.9740 - val_loss: 0.4995 - val_accuracy: 0.8396 - 1s/epoch - 12ms/step\n",
            "Epoch 7/15\n",
            "91/91 - 1s - loss: 0.0996 - accuracy: 0.9761 - val_loss: 0.5656 - val_accuracy: 0.8271 - 1s/epoch - 12ms/step\n",
            "Epoch 8/15\n",
            "91/91 - 1s - loss: 0.0736 - accuracy: 0.9792 - val_loss: 0.6094 - val_accuracy: 0.8340 - 1s/epoch - 12ms/step\n",
            "Epoch 9/15\n",
            "91/91 - 1s - loss: 0.0669 - accuracy: 0.9817 - val_loss: 0.6190 - val_accuracy: 0.8313 - 1s/epoch - 16ms/step\n"
          ]
        }
      ],
      "source": [
        "# Create callbacks\n",
        "es, checkpoint = create_callbacks('text_classifier_bi-lstm.hdf5', monitor, mode, patience)\n",
        "# Build model architecture\n",
        "model_bi_lstm = build_bi_lstm_model(input_dim, n_outputs, metrics)\n",
        "# Fit the model\n",
        "model_bi_lstm, model_bi_lstm_history = fit_model(model_bi_lstm, es, checkpoint)"
      ]
    },
    {
      "cell_type": "code",
      "execution_count": 25,
      "metadata": {
        "colab": {
          "base_uri": "https://localhost:8080/",
          "height": 256
        },
        "id": "5TJkRPY5wDrg",
        "outputId": "8411b0df-7580-47b4-aea9-fd0ea31cdc4f"
      },
      "outputs": [
        {
          "data": {
            "image/png": "[encoded data removed]",
            "text/plain": [
              "<Figure size 600x200 with 2 Axes>"
            ]
          },
          "metadata": {},
          "output_type": "display_data"
        }
      ],
      "source": [
        "# Plot model history\n",
        "plot_history(model_bi_lstm_history, test_score, val_score)"
      ]
    },
    {
      "cell_type": "markdown",
      "metadata": {
        "id": "ALBTstb3xkbQ"
      },
      "source": [
        "## GRU"
      ]
    },
    {
      "cell_type": "code",
      "execution_count": 26,
      "metadata": {
        "colab": {
          "base_uri": "https://localhost:8080/"
        },
        "id": "KgCuBKSGxlsc",
        "outputId": "a15c82a7-f94b-46f7-ba7c-26e5318869a2"
      },
      "outputs": [
        {
          "name": "stdout",
          "output_type": "stream",
          "text": [
            "Epoch 1/15\n",
            "91/91 - 4s - loss: 1.3493 - accuracy: 0.3325 - val_loss: 1.2285 - val_accuracy: 0.4564 - 4s/epoch - 45ms/step\n",
            "Epoch 2/15\n"
          ]
        },
        {
          "name": "stderr",
          "output_type": "stream",
          "text": [
            "/usr/local/lib/python3.10/dist-packages/keras/src/engine/training.py:3103: UserWarning: You are saving your model as an HDF5 file via `model.save()`. This file format is considered legacy. We recommend using instead the native Keras format, e.g. `model.save('my_model.keras')`.\n",
            "  saving_api.save_model(\n"
          ]
        },
        {
          "name": "stdout",
          "output_type": "stream",
          "text": [
            "91/91 - 1s - loss: 0.9808 - accuracy: 0.5401 - val_loss: 0.8910 - val_accuracy: 0.5989 - 1s/epoch - 12ms/step\n",
            "Epoch 3/15\n",
            "91/91 - 1s - loss: 0.5906 - accuracy: 0.7689 - val_loss: 0.6819 - val_accuracy: 0.7773 - 1s/epoch - 12ms/step\n",
            "Epoch 4/15\n",
            "91/91 - 1s - loss: 0.2857 - accuracy: 0.9138 - val_loss: 0.6811 - val_accuracy: 0.7801 - 1s/epoch - 12ms/step\n",
            "Epoch 5/15\n",
            "91/91 - 1s - loss: 0.1671 - accuracy: 0.9519 - val_loss: 0.7432 - val_accuracy: 0.8091 - 1s/epoch - 12ms/step\n",
            "Epoch 6/15\n",
            "91/91 - 1s - loss: 0.1318 - accuracy: 0.9651 - val_loss: 0.6972 - val_accuracy: 0.8091 - 1s/epoch - 13ms/step\n",
            "Epoch 7/15\n",
            "91/91 - 1s - loss: 0.1188 - accuracy: 0.9696 - val_loss: 0.7192 - val_accuracy: 0.8174 - 1s/epoch - 12ms/step\n",
            "Epoch 8/15\n",
            "91/91 - 1s - loss: 0.0959 - accuracy: 0.9754 - val_loss: 0.7181 - val_accuracy: 0.8230 - 1s/epoch - 11ms/step\n",
            "Epoch 9/15\n",
            "91/91 - 1s - loss: 0.0818 - accuracy: 0.9813 - val_loss: 0.8399 - val_accuracy: 0.8202 - 1s/epoch - 11ms/step\n",
            "Epoch 10/15\n",
            "91/91 - 1s - loss: 0.0899 - accuracy: 0.9799 - val_loss: 0.6987 - val_accuracy: 0.8147 - 1s/epoch - 16ms/step\n",
            "Epoch 11/15\n",
            "91/91 - 1s - loss: 0.0651 - accuracy: 0.9827 - val_loss: 0.9442 - val_accuracy: 0.8008 - 1s/epoch - 12ms/step\n",
            "Epoch 12/15\n",
            "91/91 - 1s - loss: 0.0714 - accuracy: 0.9813 - val_loss: 0.8131 - val_accuracy: 0.8091 - 1s/epoch - 12ms/step\n",
            "Epoch 13/15\n",
            "91/91 - 1s - loss: 0.0599 - accuracy: 0.9824 - val_loss: 0.7969 - val_accuracy: 0.8243 - 1s/epoch - 11ms/step\n",
            "Epoch 14/15\n",
            "91/91 - 1s - loss: 0.0550 - accuracy: 0.9837 - val_loss: 0.8718 - val_accuracy: 0.8230 - 998ms/epoch - 11ms/step\n",
            "Epoch 15/15\n",
            "91/91 - 1s - loss: 0.0510 - accuracy: 0.9830 - val_loss: 0.8313 - val_accuracy: 0.8216 - 984ms/epoch - 11ms/step\n"
          ]
        }
      ],
      "source": [
        "# Create callbacks\n",
        "es, checkpoint = create_callbacks('text_classifier_gru.hdf5', monitor, mode, patience)\n",
        "# Build model architecture\n",
        "model_gru = build_gru_model(input_dim, n_outputs, metrics)\n",
        "# Fit the model\n",
        "model_gru, model_gru_history = fit_model(model_gru, es, checkpoint)"
      ]
    },
    {
      "cell_type": "code",
      "execution_count": 27,
      "metadata": {
        "colab": {
          "base_uri": "https://localhost:8080/",
          "height": 256
        },
        "id": "_Z1aKS3LxuLz",
        "outputId": "d230aa09-84b3-4fb3-ef66-c76d853ec4d0"
      },
      "outputs": [
        {
          "data": {
            "image/png": "[encoded data removed]",
            "text/plain": [
              "<Figure size 600x200 with 2 Axes>"
            ]
          },
          "metadata": {},
          "output_type": "display_data"
        }
      ],
      "source": [
        "# Plot model history\n",
        "plot_history(model_gru_history, test_score, val_score)"
      ]
    },
    {
      "cell_type": "markdown",
      "metadata": {
        "id": "AUKPQLt9zY6h"
      },
      "source": [
        "## CNN"
      ]
    },
    {
      "cell_type": "code",
      "execution_count": 28,
      "metadata": {
        "colab": {
          "base_uri": "https://localhost:8080/"
        },
        "id": "BfbcQULozZ3E",
        "outputId": "a153fa56-7a43-4e44-f7f5-1686ffa36e6e"
      },
      "outputs": [
        {
          "name": "stdout",
          "output_type": "stream",
          "text": [
            "Epoch 1/15\n",
            "91/91 - 1s - loss: 1.3686 - accuracy: 0.3125 - val_loss: 1.3372 - val_accuracy: 0.3237 - 1s/epoch - 14ms/step\n",
            "Epoch 2/15\n"
          ]
        },
        {
          "name": "stderr",
          "output_type": "stream",
          "text": [
            "/usr/local/lib/python3.10/dist-packages/keras/src/engine/training.py:3103: UserWarning: You are saving your model as an HDF5 file via `model.save()`. This file format is considered legacy. We recommend using instead the native Keras format, e.g. `model.save('my_model.keras')`.\n",
            "  saving_api.save_model(\n"
          ]
        },
        {
          "name": "stdout",
          "output_type": "stream",
          "text": [
            "91/91 - 0s - loss: 1.1752 - accuracy: 0.5007 - val_loss: 0.9779 - val_accuracy: 0.6805 - 480ms/epoch - 5ms/step\n",
            "Epoch 3/15\n",
            "91/91 - 0s - loss: 0.6072 - accuracy: 0.8484 - val_loss: 0.4958 - val_accuracy: 0.8534 - 419ms/epoch - 5ms/step\n",
            "Epoch 4/15\n",
            "91/91 - 0s - loss: 0.2422 - accuracy: 0.9381 - val_loss: 0.4148 - val_accuracy: 0.8631 - 408ms/epoch - 4ms/step\n",
            "Epoch 5/15\n",
            "91/91 - 0s - loss: 0.1314 - accuracy: 0.9664 - val_loss: 0.4193 - val_accuracy: 0.8658 - 464ms/epoch - 5ms/step\n",
            "Epoch 6/15\n",
            "91/91 - 0s - loss: 0.0981 - accuracy: 0.9754 - val_loss: 0.4470 - val_accuracy: 0.8658 - 427ms/epoch - 5ms/step\n",
            "Epoch 7/15\n",
            "91/91 - 0s - loss: 0.0771 - accuracy: 0.9782 - val_loss: 0.4466 - val_accuracy: 0.8645 - 405ms/epoch - 4ms/step\n",
            "Epoch 8/15\n",
            "91/91 - 0s - loss: 0.0725 - accuracy: 0.9827 - val_loss: 0.4618 - val_accuracy: 0.8603 - 409ms/epoch - 4ms/step\n",
            "Epoch 9/15\n",
            "91/91 - 0s - loss: 0.0733 - accuracy: 0.9824 - val_loss: 0.4933 - val_accuracy: 0.8645 - 359ms/epoch - 4ms/step\n",
            "Epoch 10/15\n",
            "91/91 - 0s - loss: 0.0564 - accuracy: 0.9841 - val_loss: 0.4735 - val_accuracy: 0.8617 - 406ms/epoch - 4ms/step\n"
          ]
        }
      ],
      "source": [
        "# Create callbacks\n",
        "es, checkpoint = create_callbacks('text_classifier_cnn.hdf5', monitor, mode, patience)\n",
        "# Build model architecture\n",
        "model_cnn = build_cnn_model(input_dim, n_outputs, metrics)\n",
        "# Fit the model\n",
        "model_cnn, model_cnn_history = fit_model(model_cnn, es, checkpoint)"
      ]
    },
    {
      "cell_type": "code",
      "execution_count": 29,
      "metadata": {
        "colab": {
          "base_uri": "https://localhost:8080/",
          "height": 256
        },
        "id": "fmmdAbw8zflJ",
        "outputId": "9655437f-1ff3-4f1c-925b-12eeb080622b"
      },
      "outputs": [
        {
          "data": {
            "image/png": "[encoded data removed]",
            "text/plain": [
              "<Figure size 600x200 with 2 Axes>"
            ]
          },
          "metadata": {},
          "output_type": "display_data"
        }
      ],
      "source": [
        "# Plot model history\n",
        "plot_history(model_cnn_history, test_score, val_score)"
      ]
    },
    {
      "cell_type": "markdown",
      "metadata": {
        "id": "DRgNcyQo1FZ7"
      },
      "source": [
        "## CNN + GRU"
      ]
    },
    {
      "cell_type": "code",
      "execution_count": 32,
      "metadata": {
        "colab": {
          "base_uri": "https://localhost:8080/"
        },
        "id": "l3qhacte1Gph",
        "outputId": "2657a508-7b28-4357-e107-85d97dbc4246"
      },
      "outputs": [
        {
          "name": "stdout",
          "output_type": "stream",
          "text": [
            "Epoch 1/15\n",
            "91/91 - 3s - loss: 1.3669 - accuracy: 0.3121 - val_loss: 1.3486 - val_accuracy: 0.3320 - 3s/epoch - 36ms/step\n",
            "Epoch 2/15\n"
          ]
        },
        {
          "name": "stderr",
          "output_type": "stream",
          "text": [
            "/usr/local/lib/python3.10/dist-packages/keras/src/engine/training.py:3103: UserWarning: You are saving your model as an HDF5 file via `model.save()`. This file format is considered legacy. We recommend using instead the native Keras format, e.g. `model.save('my_model.keras')`.\n",
            "  saving_api.save_model(\n"
          ]
        },
        {
          "name": "stdout",
          "output_type": "stream",
          "text": [
            "91/91 - 1s - loss: 1.0141 - accuracy: 0.6612 - val_loss: 0.9633 - val_accuracy: 0.6058 - 591ms/epoch - 6ms/step\n",
            "Epoch 3/15\n",
            "91/91 - 1s - loss: 0.3188 - accuracy: 0.9232 - val_loss: 0.8419 - val_accuracy: 0.6611 - 619ms/epoch - 7ms/step\n",
            "Epoch 4/15\n",
            "91/91 - 1s - loss: 0.1283 - accuracy: 0.9682 - val_loss: 0.8886 - val_accuracy: 0.6653 - 631ms/epoch - 7ms/step\n",
            "Epoch 5/15\n",
            "91/91 - 1s - loss: 0.0748 - accuracy: 0.9806 - val_loss: 0.9358 - val_accuracy: 0.6625 - 550ms/epoch - 6ms/step\n",
            "Epoch 6/15\n",
            "91/91 - 1s - loss: 0.0641 - accuracy: 0.9841 - val_loss: 0.9453 - val_accuracy: 0.6722 - 668ms/epoch - 7ms/step\n",
            "Epoch 7/15\n",
            "91/91 - 1s - loss: 0.0590 - accuracy: 0.9830 - val_loss: 0.9848 - val_accuracy: 0.6763 - 642ms/epoch - 7ms/step\n",
            "Epoch 8/15\n",
            "91/91 - 1s - loss: 0.0490 - accuracy: 0.9848 - val_loss: 1.0299 - val_accuracy: 0.6736 - 565ms/epoch - 6ms/step\n",
            "Epoch 9/15\n",
            "91/91 - 1s - loss: 0.0487 - accuracy: 0.9844 - val_loss: 1.0401 - val_accuracy: 0.6805 - 639ms/epoch - 7ms/step\n",
            "Epoch 10/15\n",
            "91/91 - 1s - loss: 0.0390 - accuracy: 0.9886 - val_loss: 1.0926 - val_accuracy: 0.6777 - 595ms/epoch - 7ms/step\n",
            "Epoch 11/15\n",
            "91/91 - 1s - loss: 0.0382 - accuracy: 0.9893 - val_loss: 1.0992 - val_accuracy: 0.6722 - 695ms/epoch - 8ms/step\n",
            "Epoch 12/15\n",
            "91/91 - 1s - loss: 0.0296 - accuracy: 0.9886 - val_loss: 1.1661 - val_accuracy: 0.6708 - 663ms/epoch - 7ms/step\n",
            "Epoch 13/15\n",
            "91/91 - 1s - loss: 0.0272 - accuracy: 0.9886 - val_loss: 1.1323 - val_accuracy: 0.6763 - 657ms/epoch - 7ms/step\n",
            "Epoch 14/15\n",
            "91/91 - 1s - loss: 0.0322 - accuracy: 0.9889 - val_loss: 1.1447 - val_accuracy: 0.6763 - 631ms/epoch - 7ms/step\n"
          ]
        }
      ],
      "source": [
        "# Create callbacks\n",
        "es, checkpoint = create_callbacks('text_classifier_cnn_gru.hdf5', monitor, mode, patience)\n",
        "# Build model architecture\n",
        "model_cnn_gru = build_cnn_gru_model(input_dim, n_outputs, metrics)\n",
        "# Fit the model\n",
        "model_cnn_gru, model_cnn_gru_history = fit_model(model_cnn_gru, es, checkpoint)"
      ]
    },
    {
      "cell_type": "code",
      "execution_count": 34,
      "metadata": {
        "colab": {
          "base_uri": "https://localhost:8080/",
          "height": 256
        },
        "id": "szB-eXP01I7_",
        "outputId": "0c203447-89cf-45ac-95c0-9d064443cdee"
      },
      "outputs": [
        {
          "data": {
            "image/png": "[encoded data removed]",
            "text/plain": [
              "<Figure size 600x200 with 2 Axes>"
            ]
          },
          "metadata": {},
          "output_type": "display_data"
        }
      ],
      "source": [
        "# Plot model history\n",
        "plot_history(model_cnn_gru_history, test_score, val_score)"
      ]
    },
    {
      "cell_type": "markdown",
      "metadata": {
        "id": "YDF_u8_53FaB"
      },
      "source": [
        "# Invoke prediction"
      ]
    },
    {
      "cell_type": "code",
      "execution_count": 35,
      "metadata": {
        "id": "s3njitca3zHj"
      },
      "outputs": [],
      "source": [
        "# Load model and tokenizer\n",
        "loaded_model = load_model('text_classifier_lstm.hdf5')\n",
        "loaded_tokenizer = pickle.load(open('text_emotion_tokenizer.pickle', 'rb'))"
      ]
    },
    {
      "cell_type": "code",
      "execution_count": 36,
      "metadata": {
        "id": "K3lfLJUD3OAs"
      },
      "outputs": [],
      "source": [
        "def prepare_input_text(input_text):\n",
        "    input_text = pd.DataFrame({'input_text': [input_text]})\n",
        "    input_text['input_text'] = input_text['input_text'].apply(clean_text)\n",
        "    seq_input_text = loaded_tokenizer.texts_to_sequences(input_text['input_text'])\n",
        "    pad_input_text = pad_sequences(seq_input_text)\n",
        "    return pad_input_text"
      ]
    },
    {
      "cell_type": "code",
      "execution_count": 46,
      "metadata": {
        "colab": {
          "base_uri": "https://localhost:8080/"
        },
        "id": "6kWOn1wq3WVI",
        "outputId": "2574c00b-a129-48ca-ef15-3ab14d2d24fe"
      },
      "outputs": [
        {
          "data": {
            "text/plain": [
              "array([[586, 586, 586, 586, 122]], dtype=int32)"
            ]
          },
          "execution_count": 46,
          "metadata": {},
          "output_type": "execute_result"
        }
      ],
      "source": [
        "input_text = \"my toy is all break\"\n",
        "input_text = prepare_input_text(input_text)\n",
        "input_text"
      ]
    },
    {
      "cell_type": "code",
      "execution_count": 47,
      "metadata": {
        "colab": {
          "base_uri": "https://localhost:8080/"
        },
        "id": "v1N11So13YhM",
        "outputId": "01bab0b1-c5ac-48a9-b6a2-7e449f1f5328"
      },
      "outputs": [
        {
          "data": {
            "text/plain": [
              "array([[0.50092816, 0.3775458 , 0.60425586, 0.5637668 ]], dtype=float32)"
            ]
          },
          "execution_count": 47,
          "metadata": {},
          "output_type": "execute_result"
        }
      ],
      "source": [
        "model_lstm.predict(input_text, verbose=0)"
      ]
    },
    {
      "cell_type": "code",
      "execution_count": 48,
      "metadata": {
        "colab": {
          "base_uri": "https://localhost:8080/"
        },
        "id": "0Ies8A834XRE",
        "outputId": "b644d294-3fef-4c58-f798-5a1ca0225d9a"
      },
      "outputs": [
        {
          "data": {
            "text/plain": [
              "array([[0.50092816, 0.3775458 , 0.60425586, 0.5637668 ]], dtype=float32)"
            ]
          },
          "execution_count": 48,
          "metadata": {},
          "output_type": "execute_result"
        }
      ],
      "source": [
        "loaded_model.predict(input_text, verbose=0)"
      ]
    }
  ],
  "metadata": {
    "colab": {
      "collapsed_sections": [
        "db09m5290ZF0",
        "H6as4P0wlCzK",
        "SHbxpknmxh0u",
        "ALBTstb3xkbQ"
      ],
      "provenance": []
    },
    "kernelspec": {
      "display_name": "venv_38",
      "language": "python",
      "name": "python3"
    },
    "language_info": {
      "codemirror_mode": {
        "name": "ipython",
        "version": 3
      },
      "file_extension": ".py",
      "mimetype": "text/x-python",
      "name": "python",
      "nbconvert_exporter": "python",
      "pygments_lexer": "ipython3",
      "version": "3.8.0"
    }
  },
  "nbformat": 4,
  "nbformat_minor": 0
}
