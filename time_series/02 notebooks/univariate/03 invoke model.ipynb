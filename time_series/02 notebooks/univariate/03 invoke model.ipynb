{
 "cells": [
  {
   "cell_type": "code",
   "execution_count": 1,
   "metadata": {},
   "outputs": [],
   "source": [
    "# Input:\n",
    "path_data = '../../01 data/shampoo.csv'\n",
    "n_lag = 3\n",
    "\n",
    "path_01 = '../../03 outputs/univariate/01/'\n",
    "path_scaler = path_01 + 'time_scaler.pickle'\n",
    "path_x_train = path_01 + 'X_train.npy'\n",
    "path_y_train = path_01 + 'y_train.npy'\n",
    "path_x_val = path_01 + 'X_val.npy'\n",
    "path_y_val = path_01 + 'y_val.npy'\n",
    "path_x_test = path_01 + 'X_test.npy'\n",
    "path_y_test = path_01 + 'y_test.npy'\n",
    "\n",
    "path_02 = '../../03 outputs/univariate/02/'\n",
    "path_forecaster_univariate = path_02 + 'forecaster_univariate.hdf5'"
   ]
  },
  {
   "cell_type": "code",
   "execution_count": 2,
   "metadata": {},
   "outputs": [],
   "source": [
    "import numpy as np\n",
    "import pandas as pd\n",
    "import matplotlib.pyplot as plt\n",
    "import seaborn as sns\n",
    "from datetime import datetime\n",
    "from sklearn.metrics import mean_absolute_error\n",
    "import pickle\n",
    "from keras.models import load_model"
   ]
  },
  {
   "cell_type": "code",
   "execution_count": 3,
   "metadata": {},
   "outputs": [
    {
     "name": "stdout",
     "output_type": "stream",
     "text": [
      "(36, 2)\n"
     ]
    },
    {
     "data": {
      "text/html": [
       "<div>\n",
       "<style scoped>\n",
       "    .dataframe tbody tr th:only-of-type {\n",
       "        vertical-align: middle;\n",
       "    }\n",
       "\n",
       "    .dataframe tbody tr th {\n",
       "        vertical-align: top;\n",
       "    }\n",
       "\n",
       "    .dataframe thead th {\n",
       "        text-align: right;\n",
       "    }\n",
       "</style>\n",
       "<table border=\"1\" class=\"dataframe\">\n",
       "  <thead>\n",
       "    <tr style=\"text-align: right;\">\n",
       "      <th></th>\n",
       "      <th>Month</th>\n",
       "      <th>Sales</th>\n",
       "    </tr>\n",
       "  </thead>\n",
       "  <tbody>\n",
       "    <tr>\n",
       "      <th>0</th>\n",
       "      <td>1-01</td>\n",
       "      <td>266.0</td>\n",
       "    </tr>\n",
       "    <tr>\n",
       "      <th>1</th>\n",
       "      <td>1-02</td>\n",
       "      <td>145.9</td>\n",
       "    </tr>\n",
       "    <tr>\n",
       "      <th>2</th>\n",
       "      <td>1-03</td>\n",
       "      <td>183.1</td>\n",
       "    </tr>\n",
       "  </tbody>\n",
       "</table>\n",
       "</div>"
      ],
      "text/plain": [
       "  Month  Sales\n",
       "0  1-01  266.0\n",
       "1  1-02  145.9\n",
       "2  1-03  183.1"
      ]
     },
     "execution_count": 3,
     "metadata": {},
     "output_type": "execute_result"
    }
   ],
   "source": [
    "# Load data\n",
    "data = pd.read_csv(path_data)\n",
    "print(data.shape)\n",
    "data.head(3)"
   ]
  },
  {
   "cell_type": "code",
   "execution_count": 4,
   "metadata": {},
   "outputs": [],
   "source": [
    "# Load data (lag 3 steps)\n",
    "X_train = np.load(open(path_x_train, 'rb'))\n",
    "y_train = np.load(open(path_y_train, 'rb'))\n",
    "X_val = np.load(open(path_x_val, 'rb'))\n",
    "y_val = np.load(open(path_y_val, 'rb'))\n",
    "X_test = np.load(open(path_x_test, 'rb'))\n",
    "y_test = np.load(open(path_y_test, 'rb'))"
   ]
  },
  {
   "cell_type": "code",
   "execution_count": 7,
   "metadata": {},
   "outputs": [],
   "source": [
    "# Load model and tokenizer\n",
    "scaler = pickle.load(open(path_scaler, 'rb'))\n",
    "\n",
    "forecaster_vanilla = load_model(path_forecaster_univariate)"
   ]
  },
  {
   "cell_type": "code",
   "execution_count": 8,
   "metadata": {},
   "outputs": [],
   "source": [
    "def invert_transform_pred(pred, X_):\n",
    "    # Invert the prediction scaling\n",
    "    n_features = X_.shape[2]\n",
    "    inv_X = X_.reshape((X_.shape[0], X_.shape[1] * X_.shape[2]))\n",
    "    inv_X = np.concatenate((pred, inv_X[:, -n_features+1:]), axis=1)\n",
    "    inv_X = scaler.inverse_transform(inv_X)\n",
    "    inv_pred = inv_X[:,0]\n",
    "\n",
    "    return inv_pred\n",
    "\n",
    "def inverse_difference(history, yhat, interval=1):\n",
    "    return yhat + history[-interval]\n"
   ]
  },
  {
   "cell_type": "markdown",
   "metadata": {},
   "source": [
    "# Vanilla LSTM"
   ]
  },
  {
   "cell_type": "code",
   "execution_count": 10,
   "metadata": {},
   "outputs": [],
   "source": [
    "# Forecast train\n",
    "pred_train_vanilla = forecaster_vanilla.predict(X_train, verbose=0)\n",
    "pred_train_vanilla = invert_transform_pred(pred_train_vanilla, X_train)\n",
    "\n",
    "# Forecast val\n",
    "pred_val_vanilla = forecaster_vanilla.predict(X_val, verbose=0)\n",
    "pred_val_vanilla = invert_transform_pred(pred_val_vanilla, X_val)\n",
    "\n",
    "# Forecast test\n",
    "pred_test_vanilla = forecaster_vanilla.predict(X_test, verbose=0)\n",
    "pred_test_vanilla = invert_transform_pred(pred_test_vanilla, X_test)"
   ]
  },
  {
   "cell_type": "code",
   "execution_count": 26,
   "metadata": {},
   "outputs": [
    {
     "name": "stdout",
     "output_type": "stream",
     "text": [
      "(36, 3)\n"
     ]
    },
    {
     "data": {
      "text/html": [
       "<div>\n",
       "<style scoped>\n",
       "    .dataframe tbody tr th:only-of-type {\n",
       "        vertical-align: middle;\n",
       "    }\n",
       "\n",
       "    .dataframe tbody tr th {\n",
       "        vertical-align: top;\n",
       "    }\n",
       "\n",
       "    .dataframe thead th {\n",
       "        text-align: right;\n",
       "    }\n",
       "</style>\n",
       "<table border=\"1\" class=\"dataframe\">\n",
       "  <thead>\n",
       "    <tr style=\"text-align: right;\">\n",
       "      <th></th>\n",
       "      <th>Sales</th>\n",
       "      <th>prediction</th>\n",
       "      <th>split</th>\n",
       "    </tr>\n",
       "  </thead>\n",
       "  <tbody>\n",
       "    <tr>\n",
       "      <th>0</th>\n",
       "      <td>266.0</td>\n",
       "      <td>NaN</td>\n",
       "      <td>NaN</td>\n",
       "    </tr>\n",
       "    <tr>\n",
       "      <th>1</th>\n",
       "      <td>145.9</td>\n",
       "      <td>NaN</td>\n",
       "      <td>NaN</td>\n",
       "    </tr>\n",
       "    <tr>\n",
       "      <th>2</th>\n",
       "      <td>183.1</td>\n",
       "      <td>NaN</td>\n",
       "      <td>NaN</td>\n",
       "    </tr>\n",
       "    <tr>\n",
       "      <th>3</th>\n",
       "      <td>119.3</td>\n",
       "      <td>169.963419</td>\n",
       "      <td>train</td>\n",
       "    </tr>\n",
       "    <tr>\n",
       "      <th>4</th>\n",
       "      <td>180.3</td>\n",
       "      <td>190.491125</td>\n",
       "      <td>train</td>\n",
       "    </tr>\n",
       "    <tr>\n",
       "      <th>5</th>\n",
       "      <td>168.5</td>\n",
       "      <td>156.107493</td>\n",
       "      <td>train</td>\n",
       "    </tr>\n",
       "    <tr>\n",
       "      <th>6</th>\n",
       "      <td>231.8</td>\n",
       "      <td>195.160156</td>\n",
       "      <td>train</td>\n",
       "    </tr>\n",
       "    <tr>\n",
       "      <th>7</th>\n",
       "      <td>224.5</td>\n",
       "      <td>200.736636</td>\n",
       "      <td>train</td>\n",
       "    </tr>\n",
       "  </tbody>\n",
       "</table>\n",
       "</div>"
      ],
      "text/plain": [
       "   Sales  prediction  split\n",
       "0  266.0         NaN    NaN\n",
       "1  145.9         NaN    NaN\n",
       "2  183.1         NaN    NaN\n",
       "3  119.3  169.963419  train\n",
       "4  180.3  190.491125  train\n",
       "5  168.5  156.107493  train\n",
       "6  231.8  195.160156  train\n",
       "7  224.5  200.736636  train"
      ]
     },
     "execution_count": 26,
     "metadata": {},
     "output_type": "execute_result"
    }
   ],
   "source": [
    "# # Combine predictions\n",
    "pred_train_vanilla = pd.DataFrame(pred_train_vanilla, columns=['prediction'])\n",
    "pred_train_vanilla['split'] = 'train'\n",
    "\n",
    "pred_val_vanilla = pd.DataFrame(pred_val_vanilla, columns=['prediction'])\n",
    "pred_val_vanilla['split'] = 'val'\n",
    "\n",
    "pred_test_vanilla = pd.DataFrame(pred_test_vanilla, columns=['prediction'])\n",
    "pred_test_vanilla['split'] = 'test'\n",
    "\n",
    "pred_vanilla = pd.concat([pred_train_vanilla, pred_val_vanilla, pred_test_vanilla], axis=0).reset_index(drop=True)\n",
    "pred_vanilla.index = pred_vanilla.index + n_lag\n",
    "\n",
    "# Combine with original data\n",
    "pred_vanilla = pd.concat([data['Sales'], pred_vanilla], axis=1)\n",
    "\n",
    "# Invert the stationary transformation (if implemented stationary transformation)\n",
    "pred_vanilla['prediction'] = pred_vanilla['prediction'] + pred_vanilla['Sales'].shift(1)\n",
    "\n",
    "print(pred_vanilla.shape)\n",
    "pred_vanilla.head(8)"
   ]
  },
  {
   "cell_type": "code",
   "execution_count": 27,
   "metadata": {},
   "outputs": [
    {
     "name": "stdout",
     "output_type": "stream",
     "text": [
      "24 30\n"
     ]
    }
   ],
   "source": [
    "# Check the split boundary\n",
    "train_split = pred_vanilla[pred_vanilla['split']=='train'].index[-1]\n",
    "val_split = pred_vanilla[pred_vanilla['split']=='val'].index[-1]\n",
    "print(train_split, val_split)"
   ]
  },
  {
   "cell_type": "code",
   "execution_count": 29,
   "metadata": {},
   "outputs": [
    {
     "data": {
      "image/png": "[encoded data removed]",
      "text/plain": [
       "<Figure size 1200x400 with 1 Axes>"
      ]
     },
     "metadata": {},
     "output_type": "display_data"
    }
   ],
   "source": [
    "# Plot\n",
    "plt.figure(figsize=(12,4))\n",
    "sns.lineplot(pred_vanilla, x=pred_vanilla.index, y='Sales')\n",
    "sns.lineplot(pred_vanilla, x=pred_vanilla.index, y='prediction')\n",
    "plt.axvline(train_split, linestyle='--', color='grey')\n",
    "plt.axvline(val_split, linestyle='--', color='grey')\n",
    "plt.show()"
   ]
  },
  {
   "cell_type": "code",
   "execution_count": 31,
   "metadata": {},
   "outputs": [
    {
     "name": "stdout",
     "output_type": "stream",
     "text": [
      "training MAE: 46.0425\n",
      "validation MAE: 65.9531\n",
      "testing MAE: 96.3769\n"
     ]
    }
   ],
   "source": [
    "# Accuracy\n",
    "mae_train = round(mean_absolute_error(pred_vanilla.loc[pred_vanilla['split']=='train', 'Sales'], pred_vanilla.loc[pred_vanilla['split']=='train', 'prediction']), 4)\n",
    "mae_val = round(mean_absolute_error(pred_vanilla.loc[pred_vanilla['split']=='val', 'Sales'], pred_vanilla.loc[pred_vanilla['split']=='val', 'prediction']), 4)\n",
    "mae_test = round(mean_absolute_error(pred_vanilla.loc[pred_vanilla['split']=='test', 'Sales'], pred_vanilla.loc[pred_vanilla['split']=='test', 'prediction']), 4)\n",
    "print(f'training MAE: {mae_train}')\n",
    "print(f'validation MAE: {mae_val}')\n",
    "print(f'testing MAE: {mae_test}')"
   ]
  },
  {
   "cell_type": "code",
   "execution_count": null,
   "metadata": {},
   "outputs": [
    {
     "data": {
      "text/plain": [
       "78.45913390192815"
      ]
     },
     "metadata": {},
     "output_type": "display_data"
    }
   ],
   "source": [
    "# Check the std of the train data\n",
    "pred_vanilla[pred_vanilla['split']=='train']['Sales'].std()"
   ]
  },
  {
   "cell_type": "code",
   "execution_count": 32,
   "metadata": {},
   "outputs": [],
   "source": [
    "# Save\n",
    "pred_vanilla.to_csv('../../03 outputs/univariate/03/prediction_univariate.csv')"
   ]
  }
 ],
 "metadata": {
  "kernelspec": {
   "display_name": "venv_38",
   "language": "python",
   "name": "python3"
  },
  "language_info": {
   "codemirror_mode": {
    "name": "ipython",
    "version": 3
   },
   "file_extension": ".py",
   "mimetype": "text/x-python",
   "name": "python",
   "nbconvert_exporter": "python",
   "pygments_lexer": "ipython3",
   "version": "3.8.0"
  }
 },
 "nbformat": 4,
 "nbformat_minor": 2
}
