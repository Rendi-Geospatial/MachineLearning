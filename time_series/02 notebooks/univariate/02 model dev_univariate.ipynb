{
  "cells": [
    {
      "cell_type": "code",
      "execution_count": 1,
      "metadata": {
        "id": "qVQJul6ZlkNF"
      },
      "outputs": [],
      "source": [
        "# Input:\n",
        "path_x_train = '/content/X_train.npy'\n",
        "path_y_train = '/content/y_train.npy'\n",
        "path_x_val = '/content/X_val.npy'\n",
        "path_y_val = '/content/y_val.npy'\n",
        "epochs=50\n",
        "metrics = ['mae']\n",
        "batch_size=500\n",
        "model_name='forecaster_univariate.hdf5'\n",
        "monitor='val_mae'\n",
        "mode='min'\n",
        "patience=10\n",
        "test_score, val_score = 'mae', 'val_mae'"
      ]
    },
    {
      "cell_type": "code",
      "execution_count": 2,
      "metadata": {
        "id": "XJifwXrzaO-O"
      },
      "outputs": [],
      "source": [
        "import numpy as np\n",
        "import pandas as pd\n",
        "import matplotlib.pyplot as plt\n",
        "from sklearn.metrics import mean_absolute_error\n",
        "import pickle\n",
        "import tensorflow as tf\n",
        "from keras.models import Sequential\n",
        "from keras.layers import Dense, LSTM, TimeDistributed, Conv1D, MaxPooling1D, Flatten, ConvLSTM2D, Bidirectional\n",
        "from keras.callbacks import EarlyStopping, ModelCheckpoint\n",
        "from keras.models import load_model"
      ]
    },
    {
      "cell_type": "code",
      "execution_count": 3,
      "metadata": {
        "id": "ZWdwTyAeaWHV"
      },
      "outputs": [],
      "source": [
        "# Load data\n",
        "X_train = np.load(open(path_x_train, 'rb'))\n",
        "y_train = np.load(open(path_y_train, 'rb'))\n",
        "X_val = np.load(open(path_x_val, 'rb'))\n",
        "y_val = np.load(open(path_y_val, 'rb'))"
      ]
    },
    {
      "cell_type": "code",
      "execution_count": 4,
      "metadata": {
        "colab": {
          "base_uri": "https://localhost:8080/"
        },
        "id": "Y3oyH2q2scPY",
        "outputId": "932b732c-7e28-4968-839f-31c15e02dd8f"
      },
      "outputs": [
        {
          "name": "stdout",
          "output_type": "stream",
          "text": [
            "X_train:  (22, 2, 1) | y_train:  (22, 1)\n",
            "X_val:  (6, 2, 1) | y_val:  (6, 1)\n"
          ]
        }
      ],
      "source": [
        "print(\"X_train: \", X_train.shape, \"| y_train: \", y_train.shape)\n",
        "print(\"X_val: \", X_val.shape, \"| y_val: \", y_val.shape)"
      ]
    },
    {
      "cell_type": "code",
      "execution_count": 5,
      "metadata": {
        "id": "Z8bvVQ8OaiCG"
      },
      "outputs": [],
      "source": [
        "# Vanilla LSTM architecture\n",
        "def build_vanilla_lstm_model(X_train):\n",
        "    model = Sequential()\n",
        "    model.add(LSTM(32, activation='relu', input_shape=(X_train.shape[1], X_train.shape[2])))\n",
        "    model.add(Dense(16))\n",
        "    model.add(Dense(8))\n",
        "    model.add(Dense(1))\n",
        "    opt = tf.keras.optimizers.Adam(learning_rate=1e-3)\n",
        "    model.compile(loss='mse', optimizer=opt, metrics=metrics)\n",
        "\n",
        "    return model"
      ]
    },
    {
      "cell_type": "code",
      "execution_count": 6,
      "metadata": {
        "id": "UPxqUHTglMfj"
      },
      "outputs": [],
      "source": [
        "# Set callbacks\n",
        "def create_callbacks(model_name, monitor, mode, patience):\n",
        "    # Early stopping\n",
        "    es = EarlyStopping(\n",
        "        monitor=monitor, mode=mode, verbose=0, patience=patience, restore_best_weights=True\n",
        "    )\n",
        "\n",
        "    # Checkpoint\n",
        "    checkpoint = ModelCheckpoint(\n",
        "        filepath=model_name,\n",
        "        monitor=monitor,\n",
        "        mode=mode,\n",
        "        save_best_only=True\n",
        "    )\n",
        "\n",
        "    return es, checkpoint"
      ]
    },
    {
      "cell_type": "code",
      "execution_count": 7,
      "metadata": {
        "id": "dKuaUrRElWAv"
      },
      "outputs": [],
      "source": [
        "# Fit model\n",
        "def fit_model(model, es, checkpoint, X_train, y_train, X_val, y_val):\n",
        "    model_history = model.fit(\n",
        "        X_train,\n",
        "        y_train,\n",
        "        epochs=epochs,\n",
        "        batch_size=batch_size,\n",
        "        validation_data=(X_val, y_val),\n",
        "        callbacks=[checkpoint, es],\n",
        "        shuffle=False,\n",
        "        verbose=2\n",
        "    )\n",
        "    return model, model_history"
      ]
    },
    {
      "cell_type": "code",
      "execution_count": 8,
      "metadata": {
        "id": "frym2jGamQAI"
      },
      "outputs": [],
      "source": [
        "# Plot model history\n",
        "def plot_history(model_history, test_score, val_score):\n",
        "    # Visualize the CNN training history\n",
        "    fig, ax = plt.subplots(1, 2, figsize=(6,2))\n",
        "\n",
        "    # Accuracy\n",
        "    ax[0].plot(model_history.history[test_score])\n",
        "    ax[0].plot(model_history.history[val_score])\n",
        "    ax[0].set_title(test_score)\n",
        "    ax[0].set_ylabel(test_score)\n",
        "    ax[0].set_xlabel('epoch')\n",
        "    ax[0].legend(['train', 'val'], loc='upper left')\n",
        "\n",
        "    # Loss\n",
        "    ax[1].plot(model_history.history['loss'])\n",
        "    ax[1].plot(model_history.history['val_loss'])\n",
        "    ax[1].set_title('loss')\n",
        "    ax[1].set_ylabel('loss')\n",
        "    ax[1].set_xlabel('epoch')\n",
        "    ax[1].legend(['train', 'val'], loc='upper left')\n",
        "    plt.show()"
      ]
    },
    {
      "cell_type": "markdown",
      "metadata": {
        "id": "vVVkx5Vsa-rI"
      },
      "source": [
        "# Vanilla LSTM"
      ]
    },
    {
      "cell_type": "code",
      "execution_count": 15,
      "metadata": {
        "colab": {
          "base_uri": "https://localhost:8080/"
        },
        "id": "yAam8HYha_9w",
        "outputId": "513cc04a-49a7-4467-e1da-54e4f24daf23"
      },
      "outputs": [
        {
          "name": "stderr",
          "output_type": "stream",
          "text": [
            "WARNING:tensorflow:Layer lstm_2 will not use cuDNN kernels since it doesn't meet the criteria. It will use a generic GPU kernel as fallback when running on GPU.\n"
          ]
        },
        {
          "name": "stdout",
          "output_type": "stream",
          "text": [
            "Epoch 1/100\n",
            "1/1 - 2s - loss: 0.9523 - mae: 0.7893 - val_loss: 1.2370 - val_mae: 1.0186 - 2s/epoch - 2s/step\n",
            "Epoch 2/100\n",
            "1/1 - 0s - loss: 0.9484 - mae: 0.7894 - val_loss: 1.2293 - val_mae: 1.0153 - 61ms/epoch - 61ms/step\n",
            "Epoch 3/100\n",
            "1/1 - 0s - loss: 0.9447 - mae: 0.7895 - val_loss: 1.2234 - val_mae: 1.0128 - 57ms/epoch - 57ms/step\n",
            "Epoch 4/100\n",
            "1/1 - 0s - loss: 0.9409 - mae: 0.7890 - val_loss: 1.2198 - val_mae: 1.0114 - 78ms/epoch - 78ms/step\n",
            "Epoch 5/100\n",
            "1/1 - 0s - loss: 0.9372 - mae: 0.7880 - val_loss: 1.2179 - val_mae: 1.0108 - 65ms/epoch - 65ms/step\n",
            "Epoch 6/100\n",
            "1/1 - 0s - loss: 0.9335 - mae: 0.7865 - val_loss: 1.2169 - val_mae: 1.0106 - 68ms/epoch - 68ms/step\n",
            "Epoch 7/100\n",
            "1/1 - 0s - loss: 0.9297 - mae: 0.7848 - val_loss: 1.2163 - val_mae: 1.0105 - 63ms/epoch - 63ms/step\n",
            "Epoch 8/100\n",
            "1/1 - 0s - loss: 0.9258 - mae: 0.7829 - val_loss: 1.2156 - val_mae: 1.0104 - 59ms/epoch - 59ms/step\n",
            "Epoch 9/100\n",
            "1/1 - 0s - loss: 0.9220 - mae: 0.7811 - val_loss: 1.2143 - val_mae: 1.0100 - 59ms/epoch - 59ms/step\n",
            "Epoch 10/100\n",
            "1/1 - 0s - loss: 0.9181 - mae: 0.7793 - val_loss: 1.2121 - val_mae: 1.0092 - 60ms/epoch - 60ms/step\n",
            "Epoch 11/100\n",
            "1/1 - 0s - loss: 0.9142 - mae: 0.7777 - val_loss: 1.2090 - val_mae: 1.0080 - 80ms/epoch - 80ms/step\n",
            "Epoch 12/100\n",
            "1/1 - 0s - loss: 0.9102 - mae: 0.7764 - val_loss: 1.2051 - val_mae: 1.0064 - 57ms/epoch - 57ms/step\n",
            "Epoch 13/100\n",
            "1/1 - 0s - loss: 0.9061 - mae: 0.7751 - val_loss: 1.2006 - val_mae: 1.0046 - 64ms/epoch - 64ms/step\n",
            "Epoch 14/100\n",
            "1/1 - 0s - loss: 0.9019 - mae: 0.7739 - val_loss: 1.1959 - val_mae: 1.0026 - 56ms/epoch - 56ms/step\n",
            "Epoch 15/100\n",
            "1/1 - 0s - loss: 0.8977 - mae: 0.7727 - val_loss: 1.1913 - val_mae: 1.0007 - 63ms/epoch - 63ms/step\n",
            "Epoch 16/100\n",
            "1/1 - 0s - loss: 0.8933 - mae: 0.7714 - val_loss: 1.1871 - val_mae: 0.9990 - 58ms/epoch - 58ms/step\n",
            "Epoch 17/100\n",
            "1/1 - 0s - loss: 0.8888 - mae: 0.7700 - val_loss: 1.1835 - val_mae: 0.9974 - 58ms/epoch - 58ms/step\n",
            "Epoch 18/100\n",
            "1/1 - 0s - loss: 0.8843 - mae: 0.7683 - val_loss: 1.1803 - val_mae: 0.9961 - 55ms/epoch - 55ms/step\n",
            "Epoch 19/100\n",
            "1/1 - 0s - loss: 0.8797 - mae: 0.7664 - val_loss: 1.1775 - val_mae: 0.9948 - 63ms/epoch - 63ms/step\n",
            "Epoch 20/100\n",
            "1/1 - 0s - loss: 0.8749 - mae: 0.7643 - val_loss: 1.1748 - val_mae: 0.9937 - 58ms/epoch - 58ms/step\n",
            "Epoch 21/100\n",
            "1/1 - 0s - loss: 0.8700 - mae: 0.7621 - val_loss: 1.1721 - val_mae: 0.9924 - 59ms/epoch - 59ms/step\n",
            "Epoch 22/100\n",
            "1/1 - 0s - loss: 0.8650 - mae: 0.7598 - val_loss: 1.1689 - val_mae: 0.9909 - 56ms/epoch - 56ms/step\n",
            "Epoch 23/100\n",
            "1/1 - 0s - loss: 0.8598 - mae: 0.7575 - val_loss: 1.1652 - val_mae: 0.9891 - 59ms/epoch - 59ms/step\n",
            "Epoch 24/100\n",
            "1/1 - 0s - loss: 0.8544 - mae: 0.7552 - val_loss: 1.1607 - val_mae: 0.9870 - 74ms/epoch - 74ms/step\n",
            "Epoch 25/100\n",
            "1/1 - 0s - loss: 0.8489 - mae: 0.7529 - val_loss: 1.1557 - val_mae: 0.9846 - 59ms/epoch - 59ms/step\n",
            "Epoch 26/100\n",
            "1/1 - 0s - loss: 0.8431 - mae: 0.7506 - val_loss: 1.1501 - val_mae: 0.9819 - 61ms/epoch - 61ms/step\n",
            "Epoch 27/100\n",
            "1/1 - 0s - loss: 0.8372 - mae: 0.7483 - val_loss: 1.1442 - val_mae: 0.9791 - 61ms/epoch - 61ms/step\n",
            "Epoch 28/100\n",
            "1/1 - 0s - loss: 0.8310 - mae: 0.7458 - val_loss: 1.1384 - val_mae: 0.9762 - 58ms/epoch - 58ms/step\n",
            "Epoch 29/100\n",
            "1/1 - 0s - loss: 0.8247 - mae: 0.7432 - val_loss: 1.1326 - val_mae: 0.9732 - 74ms/epoch - 74ms/step\n",
            "Epoch 30/100\n",
            "1/1 - 0s - loss: 0.8181 - mae: 0.7403 - val_loss: 1.1272 - val_mae: 0.9703 - 60ms/epoch - 60ms/step\n",
            "Epoch 31/100\n",
            "1/1 - 0s - loss: 0.8113 - mae: 0.7372 - val_loss: 1.1218 - val_mae: 0.9674 - 57ms/epoch - 57ms/step\n",
            "Epoch 32/100\n",
            "1/1 - 0s - loss: 0.8043 - mae: 0.7339 - val_loss: 1.1165 - val_mae: 0.9644 - 57ms/epoch - 57ms/step\n",
            "Epoch 33/100\n",
            "1/1 - 0s - loss: 0.7971 - mae: 0.7303 - val_loss: 1.1109 - val_mae: 0.9612 - 57ms/epoch - 57ms/step\n",
            "Epoch 34/100\n",
            "1/1 - 0s - loss: 0.7896 - mae: 0.7266 - val_loss: 1.1048 - val_mae: 0.9577 - 57ms/epoch - 57ms/step\n",
            "Epoch 35/100\n",
            "1/1 - 0s - loss: 0.7818 - mae: 0.7227 - val_loss: 1.0980 - val_mae: 0.9538 - 58ms/epoch - 58ms/step\n",
            "Epoch 36/100\n",
            "1/1 - 0s - loss: 0.7738 - mae: 0.7187 - val_loss: 1.0905 - val_mae: 0.9495 - 62ms/epoch - 62ms/step\n",
            "Epoch 37/100\n",
            "1/1 - 0s - loss: 0.7654 - mae: 0.7146 - val_loss: 1.0824 - val_mae: 0.9448 - 70ms/epoch - 70ms/step\n",
            "Epoch 38/100\n",
            "1/1 - 0s - loss: 0.7569 - mae: 0.7103 - val_loss: 1.0740 - val_mae: 0.9398 - 63ms/epoch - 63ms/step\n",
            "Epoch 39/100\n",
            "1/1 - 0s - loss: 0.7480 - mae: 0.7059 - val_loss: 1.0654 - val_mae: 0.9346 - 63ms/epoch - 63ms/step\n",
            "Epoch 40/100\n",
            "1/1 - 0s - loss: 0.7389 - mae: 0.7012 - val_loss: 1.0569 - val_mae: 0.9292 - 57ms/epoch - 57ms/step\n",
            "Epoch 41/100\n",
            "1/1 - 0s - loss: 0.7295 - mae: 0.6963 - val_loss: 1.0485 - val_mae: 0.9237 - 56ms/epoch - 56ms/step\n",
            "Epoch 42/100\n",
            "1/1 - 0s - loss: 0.7199 - mae: 0.6916 - val_loss: 1.0401 - val_mae: 0.9179 - 59ms/epoch - 59ms/step\n",
            "Epoch 43/100\n",
            "1/1 - 0s - loss: 0.7099 - mae: 0.6866 - val_loss: 1.0315 - val_mae: 0.9119 - 56ms/epoch - 56ms/step\n",
            "Epoch 44/100\n",
            "1/1 - 0s - loss: 0.6998 - mae: 0.6814 - val_loss: 1.0224 - val_mae: 0.9054 - 56ms/epoch - 56ms/step\n",
            "Epoch 45/100\n",
            "1/1 - 0s - loss: 0.6895 - mae: 0.6759 - val_loss: 1.0128 - val_mae: 0.8985 - 69ms/epoch - 69ms/step\n",
            "Epoch 46/100\n",
            "1/1 - 0s - loss: 0.6789 - mae: 0.6701 - val_loss: 1.0026 - val_mae: 0.8910 - 67ms/epoch - 67ms/step\n",
            "Epoch 47/100\n",
            "1/1 - 0s - loss: 0.6680 - mae: 0.6640 - val_loss: 0.9919 - val_mae: 0.8830 - 62ms/epoch - 62ms/step\n",
            "Epoch 48/100\n",
            "1/1 - 0s - loss: 0.6570 - mae: 0.6577 - val_loss: 0.9810 - val_mae: 0.8746 - 61ms/epoch - 61ms/step\n",
            "Epoch 49/100\n",
            "1/1 - 0s - loss: 0.6458 - mae: 0.6510 - val_loss: 0.9700 - val_mae: 0.8658 - 59ms/epoch - 59ms/step\n",
            "Epoch 50/100\n",
            "1/1 - 0s - loss: 0.6345 - mae: 0.6440 - val_loss: 0.9592 - val_mae: 0.8567 - 59ms/epoch - 59ms/step\n",
            "Epoch 51/100\n",
            "1/1 - 0s - loss: 0.6230 - mae: 0.6366 - val_loss: 0.9486 - val_mae: 0.8473 - 58ms/epoch - 58ms/step\n",
            "Epoch 52/100\n",
            "1/1 - 0s - loss: 0.6116 - mae: 0.6296 - val_loss: 0.9380 - val_mae: 0.8374 - 60ms/epoch - 60ms/step\n",
            "Epoch 53/100\n",
            "1/1 - 0s - loss: 0.6001 - mae: 0.6227 - val_loss: 0.9272 - val_mae: 0.8270 - 64ms/epoch - 64ms/step\n",
            "Epoch 54/100\n",
            "1/1 - 0s - loss: 0.5886 - mae: 0.6160 - val_loss: 0.9162 - val_mae: 0.8160 - 58ms/epoch - 58ms/step\n",
            "Epoch 55/100\n",
            "1/1 - 0s - loss: 0.5772 - mae: 0.6097 - val_loss: 0.9048 - val_mae: 0.8044 - 57ms/epoch - 57ms/step\n",
            "Epoch 56/100\n",
            "1/1 - 0s - loss: 0.5659 - mae: 0.6031 - val_loss: 0.8934 - val_mae: 0.7923 - 60ms/epoch - 60ms/step\n",
            "Epoch 57/100\n",
            "1/1 - 0s - loss: 0.5549 - mae: 0.5963 - val_loss: 0.8822 - val_mae: 0.7797 - 60ms/epoch - 60ms/step\n",
            "Epoch 58/100\n",
            "1/1 - 0s - loss: 0.5441 - mae: 0.5893 - val_loss: 0.8714 - val_mae: 0.7729 - 57ms/epoch - 57ms/step\n",
            "Epoch 59/100\n",
            "1/1 - 0s - loss: 0.5335 - mae: 0.5820 - val_loss: 0.8612 - val_mae: 0.7697 - 65ms/epoch - 65ms/step\n",
            "Epoch 60/100\n",
            "1/1 - 0s - loss: 0.5233 - mae: 0.5777 - val_loss: 0.8513 - val_mae: 0.7666 - 61ms/epoch - 61ms/step\n",
            "Epoch 61/100\n",
            "1/1 - 0s - loss: 0.5135 - mae: 0.5737 - val_loss: 0.8419 - val_mae: 0.7635 - 65ms/epoch - 65ms/step\n",
            "Epoch 62/100\n",
            "1/1 - 0s - loss: 0.5041 - mae: 0.5695 - val_loss: 0.8327 - val_mae: 0.7603 - 61ms/epoch - 61ms/step\n",
            "Epoch 63/100\n",
            "1/1 - 0s - loss: 0.4953 - mae: 0.5651 - val_loss: 0.8239 - val_mae: 0.7571 - 56ms/epoch - 56ms/step\n",
            "Epoch 64/100\n",
            "1/1 - 0s - loss: 0.4869 - mae: 0.5605 - val_loss: 0.8155 - val_mae: 0.7540 - 57ms/epoch - 57ms/step\n",
            "Epoch 65/100\n",
            "1/1 - 0s - loss: 0.4791 - mae: 0.5556 - val_loss: 0.8076 - val_mae: 0.7509 - 56ms/epoch - 56ms/step\n",
            "Epoch 66/100\n",
            "1/1 - 0s - loss: 0.4719 - mae: 0.5505 - val_loss: 0.8003 - val_mae: 0.7481 - 55ms/epoch - 55ms/step\n",
            "Epoch 67/100\n",
            "1/1 - 0s - loss: 0.4652 - mae: 0.5453 - val_loss: 0.7936 - val_mae: 0.7455 - 60ms/epoch - 60ms/step\n",
            "Epoch 68/100\n",
            "1/1 - 0s - loss: 0.4591 - mae: 0.5399 - val_loss: 0.7876 - val_mae: 0.7433 - 59ms/epoch - 59ms/step\n",
            "Epoch 69/100\n",
            "1/1 - 0s - loss: 0.4536 - mae: 0.5343 - val_loss: 0.7822 - val_mae: 0.7414 - 59ms/epoch - 59ms/step\n",
            "Epoch 70/100\n",
            "1/1 - 0s - loss: 0.4486 - mae: 0.5294 - val_loss: 0.7773 - val_mae: 0.7398 - 63ms/epoch - 63ms/step\n",
            "Epoch 71/100\n",
            "1/1 - 0s - loss: 0.4440 - mae: 0.5255 - val_loss: 0.7729 - val_mae: 0.7384 - 57ms/epoch - 57ms/step\n",
            "Epoch 72/100\n",
            "1/1 - 0s - loss: 0.4399 - mae: 0.5220 - val_loss: 0.7689 - val_mae: 0.7374 - 57ms/epoch - 57ms/step\n",
            "Epoch 73/100\n",
            "1/1 - 0s - loss: 0.4361 - mae: 0.5194 - val_loss: 0.7652 - val_mae: 0.7366 - 59ms/epoch - 59ms/step\n",
            "Epoch 74/100\n",
            "1/1 - 0s - loss: 0.4326 - mae: 0.5168 - val_loss: 0.7617 - val_mae: 0.7360 - 57ms/epoch - 57ms/step\n",
            "Epoch 75/100\n",
            "1/1 - 0s - loss: 0.4294 - mae: 0.5157 - val_loss: 0.7582 - val_mae: 0.7355 - 64ms/epoch - 64ms/step\n",
            "Epoch 76/100\n",
            "1/1 - 0s - loss: 0.4264 - mae: 0.5158 - val_loss: 0.7547 - val_mae: 0.7352 - 64ms/epoch - 64ms/step\n",
            "Epoch 77/100\n",
            "1/1 - 0s - loss: 0.4235 - mae: 0.5155 - val_loss: 0.7512 - val_mae: 0.7349 - 76ms/epoch - 76ms/step\n",
            "Epoch 78/100\n",
            "1/1 - 0s - loss: 0.4208 - mae: 0.5150 - val_loss: 0.7475 - val_mae: 0.7347 - 62ms/epoch - 62ms/step\n",
            "Epoch 79/100\n",
            "1/1 - 0s - loss: 0.4181 - mae: 0.5141 - val_loss: 0.7440 - val_mae: 0.7347 - 57ms/epoch - 57ms/step\n",
            "Epoch 80/100\n",
            "1/1 - 0s - loss: 0.4156 - mae: 0.5129 - val_loss: 0.7406 - val_mae: 0.7349 - 50ms/epoch - 50ms/step\n",
            "Epoch 81/100\n",
            "1/1 - 0s - loss: 0.4132 - mae: 0.5115 - val_loss: 0.7377 - val_mae: 0.7354 - 35ms/epoch - 35ms/step\n",
            "Epoch 82/100\n",
            "1/1 - 0s - loss: 0.4109 - mae: 0.5098 - val_loss: 0.7354 - val_mae: 0.7363 - 32ms/epoch - 32ms/step\n",
            "Epoch 83/100\n",
            "1/1 - 0s - loss: 0.4087 - mae: 0.5080 - val_loss: 0.7334 - val_mae: 0.7374 - 31ms/epoch - 31ms/step\n",
            "Epoch 84/100\n",
            "1/1 - 0s - loss: 0.4067 - mae: 0.5061 - val_loss: 0.7317 - val_mae: 0.7386 - 34ms/epoch - 34ms/step\n",
            "Epoch 85/100\n",
            "1/1 - 0s - loss: 0.4048 - mae: 0.5040 - val_loss: 0.7301 - val_mae: 0.7399 - 37ms/epoch - 37ms/step\n",
            "Epoch 86/100\n",
            "1/1 - 0s - loss: 0.4030 - mae: 0.5019 - val_loss: 0.7285 - val_mae: 0.7411 - 32ms/epoch - 32ms/step\n",
            "Epoch 87/100\n",
            "1/1 - 0s - loss: 0.4013 - mae: 0.4997 - val_loss: 0.7270 - val_mae: 0.7421 - 34ms/epoch - 34ms/step\n",
            "Epoch 88/100\n",
            "1/1 - 0s - loss: 0.3998 - mae: 0.4975 - val_loss: 0.7256 - val_mae: 0.7430 - 32ms/epoch - 32ms/step\n",
            "Epoch 89/100\n",
            "1/1 - 0s - loss: 0.3984 - mae: 0.4954 - val_loss: 0.7243 - val_mae: 0.7438 - 45ms/epoch - 45ms/step\n"
          ]
        }
      ],
      "source": [
        "# Create callbacks\n",
        "es, checkpoint = create_callbacks('forecaster_univariate.hdf5', monitor, mode, patience)\n",
        "# Build model architecture\n",
        "model_vanilla_lstm = build_vanilla_lstm_model(X_train)\n",
        "# Fit the model\n",
        "model_vanilla_lstm, model_vanilla_lstm_history = fit_model(\n",
        "    model_vanilla_lstm, es, checkpoint, X_train, y_train, X_val, y_val\n",
        ")"
      ]
    },
    {
      "cell_type": "code",
      "execution_count": 16,
      "metadata": {
        "colab": {
          "base_uri": "https://localhost:8080/",
          "height": 256
        },
        "id": "GWO3Rrj0bSnm",
        "outputId": "b477991a-7f9f-4aa6-c676-58c38bae0329"
      },
      "outputs": [
        {
          "data": {
            "image/png": "[encoded data removed]",
            "text/plain": [
              "<Figure size 600x200 with 2 Axes>"
            ]
          },
          "metadata": {},
          "output_type": "display_data"
        }
      ],
      "source": [
        "# Plot model history\n",
        "plot_history(model_vanilla_lstm_history, test_score, val_score)"
      ]
    }
  ],
  "metadata": {
    "accelerator": "GPU",
    "colab": {
      "gpuType": "T4",
      "provenance": []
    },
    "kernelspec": {
      "display_name": "Python 3",
      "name": "python3"
    },
    "language_info": {
      "name": "python"
    }
  },
  "nbformat": 4,
  "nbformat_minor": 0
}
