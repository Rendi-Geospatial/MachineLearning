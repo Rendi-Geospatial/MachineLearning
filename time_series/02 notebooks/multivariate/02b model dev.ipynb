{
  "nbformat": 4,
  "nbformat_minor": 0,
  "metadata": {
    "colab": {
      "provenance": [],
      "gpuType": "T4"
    },
    "kernelspec": {
      "name": "python3",
      "display_name": "Python 3"
    },
    "language_info": {
      "name": "python"
    },
    "accelerator": "GPU"
  },
  "cells": [
    {
      "cell_type": "code",
      "execution_count": 1,
      "metadata": {
        "id": "to13u3Dkg82F"
      },
      "outputs": [],
      "source": [
        "# Input:\n",
        "path_x_train = '/content/X_train_lag4.npy'\n",
        "path_y_train = '/content/y_train_lag4.npy'\n",
        "path_x_val = '/content/X_val_lag4.npy'\n",
        "path_y_val = '/content/y_val_lag4.npy'\n",
        "epochs=30\n",
        "metrics = ['mae']\n",
        "batch_size=500\n",
        "model_name='forecaste_lstm.hdf5'\n",
        "monitor='val_mae'\n",
        "mode='min'\n",
        "patience=5\n",
        "test_score, val_score = 'mae', 'val_mae'\n",
        "\n",
        "n_features = 6\n",
        "n_seq = 2\n",
        "n_steps = 2\n",
        "dimension = 1"
      ]
    },
    {
      "cell_type": "code",
      "source": [
        "import numpy as np\n",
        "import pandas as pd\n",
        "import matplotlib.pyplot as plt\n",
        "from sklearn.metrics import mean_absolute_error\n",
        "import pickle\n",
        "import tensorflow as tf\n",
        "from keras.models import Sequential\n",
        "from keras.layers import Dense, LSTM, TimeDistributed, Conv1D, MaxPooling1D, Flatten, ConvLSTM2D\n",
        "from keras.callbacks import EarlyStopping, ModelCheckpoint\n",
        "from keras.models import load_model"
      ],
      "metadata": {
        "id": "NZJhAJn1hti3"
      },
      "execution_count": 2,
      "outputs": []
    },
    {
      "cell_type": "code",
      "source": [
        "# Load data (lag 4 steps)\n",
        "X_train = np.load(open(path_x_train, 'rb'))\n",
        "y_train = np.load(open(path_y_train, 'rb'))\n",
        "X_val = np.load(open(path_x_val, 'rb'))\n",
        "y_val = np.load(open(path_y_val, 'rb'))"
      ],
      "metadata": {
        "id": "PwBAUngmhu1o"
      },
      "execution_count": 5,
      "outputs": []
    },
    {
      "cell_type": "code",
      "source": [
        "print(\"X_train: \", X_train.shape, \"| y_train: \", y_train.shape)\n",
        "print(\"X_val: \", X_val.shape, \"| y_val: \", y_val.shape)"
      ],
      "metadata": {
        "colab": {
          "base_uri": "https://localhost:8080/"
        },
        "id": "Zg9oCpEwh3LH",
        "outputId": "a4309fb9-ff13-4e8b-b527-811af69eb5b3"
      },
      "execution_count": 6,
      "outputs": [
        {
          "output_type": "stream",
          "name": "stdout",
          "text": [
            "X_train:  (4619, 4, 6) | y_train:  (4619, 1)\n",
            "X_val:  (1067, 4, 6) | y_val:  (1067, 1)\n"
          ]
        }
      ]
    },
    {
      "cell_type": "code",
      "source": [
        "# Stacked CNN LSTM architecture\n",
        "def build_cnn_lstm_model(X_train):\n",
        "    model = Sequential()\n",
        "    model.add(\n",
        "        TimeDistributed(\n",
        "            Conv1D(filters=32, kernel_size=1, activation='relu', input_shape=(None, n_steps, n_features))\n",
        "          )\n",
        "    )\n",
        "    model.add(TimeDistributed(MaxPooling1D(pool_size=2)))\n",
        "    model.add(TimeDistributed(Flatten()))\n",
        "    model.add(Dense(16, activation='relu'))\n",
        "    model.add(Dense(1))\n",
        "    opt = tf.keras.optimizers.Adam(learning_rate=1e-3)\n",
        "    model.compile(loss='mse', optimizer=opt, metrics=metrics)\n",
        "\n",
        "    return model"
      ],
      "metadata": {
        "id": "_6ZawiVUh4wi"
      },
      "execution_count": 7,
      "outputs": []
    },
    {
      "cell_type": "code",
      "source": [
        "def build_conv_lstm_model(X_train):\n",
        "    model = Sequential()\n",
        "    model.add(ConvLSTM2D(filters=32, kernel_size=(1,2), activation='relu', input_shape=(n_seq, 1, n_steps, n_features)))\n",
        "    model.add(Flatten())\n",
        "    model.add(Dense(16))\n",
        "    model.add(Dense(1))\n",
        "    opt = tf.keras.optimizers.Adam(learning_rate=1e-3)\n",
        "    model.compile(loss='mse', optimizer=opt, metrics=metrics)\n",
        "\n",
        "    return model"
      ],
      "metadata": {
        "id": "gx2yHx_LiD87"
      },
      "execution_count": 8,
      "outputs": []
    },
    {
      "cell_type": "code",
      "source": [
        "# Set callbacks\n",
        "def create_callbacks(model_name, monitor, mode, patience):\n",
        "    # Early stopping\n",
        "    es = EarlyStopping(\n",
        "        monitor=monitor, mode=mode, verbose=0, patience=patience, restore_best_weights=True\n",
        "    )\n",
        "\n",
        "    # Checkpoint\n",
        "    checkpoint = ModelCheckpoint(\n",
        "        filepath=model_name,\n",
        "        monitor=monitor,\n",
        "        mode=mode,\n",
        "        save_best_only=True\n",
        "    )\n",
        "\n",
        "    return es, checkpoint\n",
        "\n",
        "# Fit model\n",
        "def fit_model(model, es, checkpoint, X_train, y_train, X_val, y_val):\n",
        "    model_history = model.fit(\n",
        "        X_train,\n",
        "        y_train,\n",
        "        epochs=epochs,\n",
        "        batch_size=batch_size,\n",
        "        validation_data=(X_val, y_val),\n",
        "        callbacks=[checkpoint, es],\n",
        "        shuffle=False,\n",
        "        verbose=2\n",
        "    )\n",
        "    return model, model_history\n",
        "\n",
        "# Plot model history\n",
        "def plot_history(model_history, test_score, val_score):\n",
        "    # Visualize the CNN training history\n",
        "    fig, ax = plt.subplots(1, 2, figsize=(6,2))\n",
        "\n",
        "    # Accuracy\n",
        "    ax[0].plot(model_history.history[test_score])\n",
        "    ax[0].plot(model_history.history[val_score])\n",
        "    ax[0].set_title(test_score)\n",
        "    ax[0].set_ylabel(test_score)\n",
        "    ax[0].set_xlabel('epoch')\n",
        "    ax[0].legend(['train', 'val'], loc='upper left')\n",
        "\n",
        "    # Loss\n",
        "    ax[1].plot(model_history.history['loss'])\n",
        "    ax[1].plot(model_history.history['val_loss'])\n",
        "    ax[1].set_title('loss')\n",
        "    ax[1].set_ylabel('loss')\n",
        "    ax[1].set_xlabel('epoch')\n",
        "    ax[1].legend(['train', 'val'], loc='upper left')\n",
        "    plt.show()\n"
      ],
      "metadata": {
        "id": "NlVkWF8EiFg4"
      },
      "execution_count": 9,
      "outputs": []
    },
    {
      "cell_type": "markdown",
      "source": [
        "# CNN LSTM"
      ],
      "metadata": {
        "id": "mTHjG5rliN24"
      }
    },
    {
      "cell_type": "code",
      "source": [
        "# Reshape the X_train to have subsequences\n",
        "X_train_cnn = X_train.reshape((X_train.shape[0], n_seq, n_steps, n_features))\n",
        "X_val_cnn = X_val.reshape((X_val.shape[0], n_seq, n_steps, n_features))\n",
        "print(X_train_cnn.shape, X_val_cnn.shape)\n",
        "# Create callbacks\n",
        "es, checkpoint = create_callbacks('forecaster_cnn_lstm.hdf5', monitor, mode, patience)\n",
        "# Build model architecture\n",
        "model_cnn_lstm = build_cnn_lstm_model(X_train_cnn)\n",
        "# Fit the model\n",
        "model_cnn_lstm, model_cnn_lstm_history = fit_model(\n",
        "    model_cnn_lstm, es, checkpoint, X_train_cnn, y_train, X_val_cnn, y_val\n",
        ")"
      ],
      "metadata": {
        "colab": {
          "base_uri": "https://localhost:8080/"
        },
        "id": "L0IjEWjliQYv",
        "outputId": "47a75e53-9e7d-45e5-d64b-25b1eabfec97"
      },
      "execution_count": 11,
      "outputs": [
        {
          "output_type": "stream",
          "name": "stdout",
          "text": [
            "(4619, 2, 2, 6) (1067, 2, 2, 6)\n",
            "Epoch 1/30\n",
            "10/10 - 5s - loss: 1.4450 - mae: 1.0059 - val_loss: 1.7449 - val_mae: 1.0480 - 5s/epoch - 527ms/step\n",
            "Epoch 2/30\n",
            "10/10 - 0s - loss: 1.1271 - mae: 0.8757 - val_loss: 1.5883 - val_mae: 0.9885 - 84ms/epoch - 8ms/step\n",
            "Epoch 3/30\n",
            "10/10 - 0s - loss: 0.9711 - mae: 0.8043 - val_loss: 1.4792 - val_mae: 0.9459 - 81ms/epoch - 8ms/step\n"
          ]
        },
        {
          "output_type": "stream",
          "name": "stderr",
          "text": [
            "/usr/local/lib/python3.10/dist-packages/keras/src/engine/training.py:3103: UserWarning: You are saving your model as an HDF5 file via `model.save()`. This file format is considered legacy. We recommend using instead the native Keras format, e.g. `model.save('my_model.keras')`.\n",
            "  saving_api.save_model(\n"
          ]
        },
        {
          "output_type": "stream",
          "name": "stdout",
          "text": [
            "Epoch 4/30\n",
            "10/10 - 0s - loss: 0.8820 - mae: 0.7522 - val_loss: 1.4598 - val_mae: 0.9212 - 81ms/epoch - 8ms/step\n",
            "Epoch 5/30\n",
            "10/10 - 0s - loss: 0.8141 - mae: 0.6988 - val_loss: 1.4526 - val_mae: 0.8973 - 96ms/epoch - 10ms/step\n",
            "Epoch 6/30\n",
            "10/10 - 0s - loss: 0.7803 - mae: 0.6591 - val_loss: 1.4363 - val_mae: 0.8769 - 91ms/epoch - 9ms/step\n",
            "Epoch 7/30\n",
            "10/10 - 0s - loss: 0.7728 - mae: 0.6387 - val_loss: 1.4309 - val_mae: 0.8683 - 79ms/epoch - 8ms/step\n",
            "Epoch 8/30\n",
            "10/10 - 0s - loss: 0.7708 - mae: 0.6312 - val_loss: 1.4284 - val_mae: 0.8676 - 132ms/epoch - 13ms/step\n",
            "Epoch 9/30\n",
            "10/10 - 0s - loss: 0.7668 - mae: 0.6308 - val_loss: 1.4209 - val_mae: 0.8685 - 90ms/epoch - 9ms/step\n",
            "Epoch 10/30\n",
            "10/10 - 0s - loss: 0.7619 - mae: 0.6321 - val_loss: 1.4177 - val_mae: 0.8700 - 96ms/epoch - 10ms/step\n",
            "Epoch 11/30\n",
            "10/10 - 0s - loss: 0.7575 - mae: 0.6314 - val_loss: 1.4171 - val_mae: 0.8706 - 96ms/epoch - 10ms/step\n",
            "Epoch 12/30\n",
            "10/10 - 0s - loss: 0.7537 - mae: 0.6291 - val_loss: 1.4138 - val_mae: 0.8698 - 101ms/epoch - 10ms/step\n",
            "Epoch 13/30\n",
            "10/10 - 0s - loss: 0.7502 - mae: 0.6269 - val_loss: 1.4138 - val_mae: 0.8699 - 112ms/epoch - 11ms/step\n"
          ]
        }
      ]
    },
    {
      "cell_type": "code",
      "source": [
        "# Plot model history\n",
        "plot_history(model_cnn_lstm_history, test_score, val_score)"
      ],
      "metadata": {
        "colab": {
          "base_uri": "https://localhost:8080/",
          "height": 256
        },
        "id": "lZBNLvHBijP0",
        "outputId": "f5c856ad-61f3-432b-a6e2-f826ab83ed30"
      },
      "execution_count": 12,
      "outputs": [
        {
          "output_type": "display_data",
          "data": {
            "text/plain": [
              "<Figure size 600x200 with 2 Axes>"
            ],
            "image/png": "[encoded data removed]"
          },
          "metadata": {}
        }
      ]
    },
    {
      "cell_type": "markdown",
      "source": [
        "# Conv LSTM"
      ],
      "metadata": {
        "id": "rZMQvLr7ioiO"
      }
    },
    {
      "cell_type": "code",
      "source": [
        "# Reshape the X_train into [samples, subsequences, dimension, timesteps, features]\n",
        "X_train_conv = X_train.reshape((X_train.shape[0], n_seq, dimension, n_steps, n_features))\n",
        "X_val_conv = X_val.reshape((X_val.shape[0], n_seq, dimension, n_steps, n_features))\n",
        "print(X_train_conv.shape, X_val_conv.shape)\n",
        "# Create callbacks\n",
        "es, checkpoint = create_callbacks('forecaster_conv_lstm.hdf5', monitor, mode, patience)\n",
        "# Build model architecture\n",
        "model_conv_lstm = build_conv_lstm_model(X_train)\n",
        "# Fit the model\n",
        "model_conv_lstm, model_conv_lstm_history = fit_model(\n",
        "    model_conv_lstm, es, checkpoint, X_train_conv, y_train, X_val_conv, y_val\n",
        ")"
      ],
      "metadata": {
        "colab": {
          "base_uri": "https://localhost:8080/"
        },
        "id": "EH2mPQCiiqHV",
        "outputId": "20388908-4873-4ea6-f692-eb30df29c693"
      },
      "execution_count": 13,
      "outputs": [
        {
          "output_type": "stream",
          "name": "stdout",
          "text": [
            "(4619, 2, 1, 2, 6) (1067, 2, 1, 2, 6)\n",
            "Epoch 1/30\n",
            "10/10 - 7s - loss: 0.9112 - mae: 0.7273 - val_loss: 1.2329 - val_mae: 0.8500 - 7s/epoch - 660ms/step\n",
            "Epoch 2/30\n",
            "10/10 - 0s - loss: 0.7323 - mae: 0.6259 - val_loss: 1.1037 - val_mae: 0.8013 - 147ms/epoch - 15ms/step\n",
            "Epoch 3/30\n"
          ]
        },
        {
          "output_type": "stream",
          "name": "stderr",
          "text": [
            "/usr/local/lib/python3.10/dist-packages/keras/src/engine/training.py:3103: UserWarning: You are saving your model as an HDF5 file via `model.save()`. This file format is considered legacy. We recommend using instead the native Keras format, e.g. `model.save('my_model.keras')`.\n",
            "  saving_api.save_model(\n"
          ]
        },
        {
          "output_type": "stream",
          "name": "stdout",
          "text": [
            "10/10 - 0s - loss: 0.6672 - mae: 0.5766 - val_loss: 0.9932 - val_mae: 0.7550 - 140ms/epoch - 14ms/step\n",
            "Epoch 4/30\n",
            "10/10 - 0s - loss: 0.6186 - mae: 0.5534 - val_loss: 0.8564 - val_mae: 0.6997 - 144ms/epoch - 14ms/step\n",
            "Epoch 5/30\n",
            "10/10 - 0s - loss: 0.5633 - mae: 0.5335 - val_loss: 0.7497 - val_mae: 0.6533 - 143ms/epoch - 14ms/step\n",
            "Epoch 6/30\n",
            "10/10 - 0s - loss: 0.5054 - mae: 0.5053 - val_loss: 0.6475 - val_mae: 0.5995 - 137ms/epoch - 14ms/step\n",
            "Epoch 7/30\n",
            "10/10 - 0s - loss: 0.4460 - mae: 0.4700 - val_loss: 0.5809 - val_mae: 0.5547 - 146ms/epoch - 15ms/step\n",
            "Epoch 8/30\n",
            "10/10 - 0s - loss: 0.3928 - mae: 0.4382 - val_loss: 0.6034 - val_mae: 0.5524 - 140ms/epoch - 14ms/step\n",
            "Epoch 9/30\n",
            "10/10 - 0s - loss: 0.3556 - mae: 0.4155 - val_loss: 0.6381 - val_mae: 0.5590 - 128ms/epoch - 13ms/step\n",
            "Epoch 10/30\n",
            "10/10 - 0s - loss: 0.3338 - mae: 0.4009 - val_loss: 0.6164 - val_mae: 0.5440 - 144ms/epoch - 14ms/step\n",
            "Epoch 11/30\n",
            "10/10 - 0s - loss: 0.3188 - mae: 0.3909 - val_loss: 0.5984 - val_mae: 0.5308 - 148ms/epoch - 15ms/step\n",
            "Epoch 12/30\n",
            "10/10 - 0s - loss: 0.3097 - mae: 0.3849 - val_loss: 0.5755 - val_mae: 0.5174 - 155ms/epoch - 15ms/step\n",
            "Epoch 13/30\n",
            "10/10 - 0s - loss: 0.3033 - mae: 0.3809 - val_loss: 0.5652 - val_mae: 0.5117 - 146ms/epoch - 15ms/step\n",
            "Epoch 14/30\n",
            "10/10 - 0s - loss: 0.2980 - mae: 0.3773 - val_loss: 0.5650 - val_mae: 0.5105 - 142ms/epoch - 14ms/step\n",
            "Epoch 15/30\n",
            "10/10 - 0s - loss: 0.2937 - mae: 0.3744 - val_loss: 0.5647 - val_mae: 0.5093 - 147ms/epoch - 15ms/step\n",
            "Epoch 16/30\n",
            "10/10 - 0s - loss: 0.2896 - mae: 0.3720 - val_loss: 0.5675 - val_mae: 0.5089 - 144ms/epoch - 14ms/step\n",
            "Epoch 17/30\n",
            "10/10 - 0s - loss: 0.2858 - mae: 0.3697 - val_loss: 0.5716 - val_mae: 0.5090 - 152ms/epoch - 15ms/step\n",
            "Epoch 18/30\n",
            "10/10 - 0s - loss: 0.2824 - mae: 0.3675 - val_loss: 0.5731 - val_mae: 0.5083 - 233ms/epoch - 23ms/step\n",
            "Epoch 19/30\n",
            "10/10 - 0s - loss: 0.2793 - mae: 0.3654 - val_loss: 0.5752 - val_mae: 0.5082 - 184ms/epoch - 18ms/step\n",
            "Epoch 20/30\n",
            "10/10 - 0s - loss: 0.2764 - mae: 0.3633 - val_loss: 0.5759 - val_mae: 0.5078 - 140ms/epoch - 14ms/step\n",
            "Epoch 21/30\n",
            "10/10 - 0s - loss: 0.2737 - mae: 0.3614 - val_loss: 0.5745 - val_mae: 0.5067 - 278ms/epoch - 28ms/step\n",
            "Epoch 22/30\n",
            "10/10 - 0s - loss: 0.2711 - mae: 0.3595 - val_loss: 0.5736 - val_mae: 0.5060 - 293ms/epoch - 29ms/step\n",
            "Epoch 23/30\n",
            "10/10 - 0s - loss: 0.2686 - mae: 0.3578 - val_loss: 0.5716 - val_mae: 0.5050 - 144ms/epoch - 14ms/step\n",
            "Epoch 24/30\n",
            "10/10 - 0s - loss: 0.2662 - mae: 0.3561 - val_loss: 0.5699 - val_mae: 0.5040 - 136ms/epoch - 14ms/step\n",
            "Epoch 25/30\n",
            "10/10 - 0s - loss: 0.2640 - mae: 0.3545 - val_loss: 0.5689 - val_mae: 0.5035 - 148ms/epoch - 15ms/step\n",
            "Epoch 26/30\n",
            "10/10 - 0s - loss: 0.2619 - mae: 0.3530 - val_loss: 0.5660 - val_mae: 0.5024 - 160ms/epoch - 16ms/step\n",
            "Epoch 27/30\n",
            "10/10 - 0s - loss: 0.2598 - mae: 0.3517 - val_loss: 0.5653 - val_mae: 0.5019 - 140ms/epoch - 14ms/step\n",
            "Epoch 28/30\n",
            "10/10 - 0s - loss: 0.2579 - mae: 0.3504 - val_loss: 0.5637 - val_mae: 0.5012 - 142ms/epoch - 14ms/step\n",
            "Epoch 29/30\n",
            "10/10 - 0s - loss: 0.2560 - mae: 0.3492 - val_loss: 0.5624 - val_mae: 0.5006 - 160ms/epoch - 16ms/step\n",
            "Epoch 30/30\n",
            "10/10 - 0s - loss: 0.2542 - mae: 0.3481 - val_loss: 0.5617 - val_mae: 0.5002 - 149ms/epoch - 15ms/step\n"
          ]
        }
      ]
    },
    {
      "cell_type": "code",
      "source": [
        "# Plot model history\n",
        "plot_history(model_conv_lstm_history, test_score, val_score)"
      ],
      "metadata": {
        "colab": {
          "base_uri": "https://localhost:8080/",
          "height": 256
        },
        "id": "jlQsDLIYixPF",
        "outputId": "ce5a18ec-cb00-4d30-eba9-314e6e2afa23"
      },
      "execution_count": 14,
      "outputs": [
        {
          "output_type": "display_data",
          "data": {
            "text/plain": [
              "<Figure size 600x200 with 2 Axes>"
            ],
            "image/png": "[encoded data removed]"
          },
          "metadata": {}
        }
      ]
    }
  ]
}