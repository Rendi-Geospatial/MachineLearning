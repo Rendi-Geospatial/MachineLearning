{
  "nbformat": 4,
  "nbformat_minor": 0,
  "metadata": {
    "colab": {
      "provenance": [],
      "gpuType": "T4",
      "collapsed_sections": [
        "vVVkx5Vsa-rI"
      ]
    },
    "kernelspec": {
      "name": "python3",
      "display_name": "Python 3"
    },
    "language_info": {
      "name": "python"
    },
    "accelerator": "GPU"
  },
  "cells": [
    {
      "cell_type": "code",
      "source": [
        "# Input:\n",
        "path_x_train = '/content/X_train.npy'\n",
        "path_y_train = '/content/y_train.npy'\n",
        "path_x_val = '/content/X_val.npy'\n",
        "path_y_val = '/content/y_val.npy'\n",
        "epochs=30\n",
        "metrics = ['mae']\n",
        "batch_size=500\n",
        "model_name='forecaste_lstm.hdf5'\n",
        "monitor='val_mae'\n",
        "mode='min'\n",
        "patience=5\n",
        "test_score, val_score = 'mae', 'val_mae'"
      ],
      "metadata": {
        "id": "qVQJul6ZlkNF"
      },
      "execution_count": 1,
      "outputs": []
    },
    {
      "cell_type": "code",
      "source": [
        "import numpy as np\n",
        "import pandas as pd\n",
        "import matplotlib.pyplot as plt\n",
        "from sklearn.metrics import mean_absolute_error\n",
        "import pickle\n",
        "import tensorflow as tf\n",
        "from keras.models import Sequential\n",
        "from keras.layers import Dense, LSTM, TimeDistributed, Conv1D, MaxPooling1D, Flatten, ConvLSTM2D, Bidirectional\n",
        "from keras.callbacks import EarlyStopping, ModelCheckpoint\n",
        "from keras.models import load_model"
      ],
      "metadata": {
        "id": "XJifwXrzaO-O"
      },
      "execution_count": 2,
      "outputs": []
    },
    {
      "cell_type": "code",
      "source": [
        "# Load data (lag 3 steps)\n",
        "X_train = np.load(open(path_x_train, 'rb'))\n",
        "y_train = np.load(open(path_y_train, 'rb'))\n",
        "X_val = np.load(open(path_x_val, 'rb'))\n",
        "y_val = np.load(open(path_y_val, 'rb'))"
      ],
      "metadata": {
        "id": "ZWdwTyAeaWHV"
      },
      "execution_count": 3,
      "outputs": []
    },
    {
      "cell_type": "code",
      "source": [
        "print(\"X_train: \", X_train.shape, \"| y_train: \", y_train.shape)\n",
        "print(\"X_val: \", X_val.shape, \"| y_val: \", y_val.shape)"
      ],
      "metadata": {
        "colab": {
          "base_uri": "https://localhost:8080/"
        },
        "id": "Y3oyH2q2scPY",
        "outputId": "9e157114-3ae6-40c4-ec88-1838eddc9d1d"
      },
      "execution_count": 4,
      "outputs": [
        {
          "output_type": "stream",
          "name": "stdout",
          "text": [
            "X_train:  (4620, 3, 6) | y_train:  (4620, 1)\n",
            "X_val:  (1067, 3, 6) | y_val:  (1067, 1)\n"
          ]
        }
      ]
    },
    {
      "cell_type": "code",
      "source": [
        "# Vanilla LSTM architecture\n",
        "def build_vanilla_lstm_model(X_train):\n",
        "    model = Sequential()\n",
        "    model.add(LSTM(32, activation='relu', input_shape=(X_train.shape[1], X_train.shape[2])))\n",
        "    model.add(Dense(1))\n",
        "    opt = tf.keras.optimizers.Adam(learning_rate=1e-3)\n",
        "    model.compile(loss='mse', optimizer=opt, metrics=metrics)\n",
        "\n",
        "    return model"
      ],
      "metadata": {
        "id": "Z8bvVQ8OaiCG"
      },
      "execution_count": null,
      "outputs": []
    },
    {
      "cell_type": "code",
      "execution_count": null,
      "metadata": {
        "id": "_EvPISaJaJ-T"
      },
      "outputs": [],
      "source": [
        "# Stacked LSTM architecture\n",
        "def build_stacked_lstm_model(X_train):\n",
        "    model = Sequential()\n",
        "    model.add(LSTM(32, activation='relu', return_sequences=True, input_shape=(X_train.shape[1], X_train.shape[2])))\n",
        "    model.add(LSTM(16, activation='relu'))\n",
        "    model.add(Dense(1))\n",
        "    opt = tf.keras.optimizers.Adam(learning_rate=1e-3)\n",
        "    model.compile(loss='mse', optimizer=opt, metrics=metrics)\n",
        "\n",
        "    return model"
      ]
    },
    {
      "cell_type": "code",
      "source": [
        "# Bidirectional LSTM architecture\n",
        "def build_bidirectional_lstm_model(X_train):\n",
        "    model = Sequential()\n",
        "    model.add(Bidirectional(LSTM(64, activation='relu'), input_shape=(X_train.shape[1], X_train.shape[2])))\n",
        "    model.add(Dense(32))\n",
        "    model.add(Dense(1))\n",
        "    opt = tf.keras.optimizers.Adam(learning_rate=1e-3)\n",
        "    model.compile(loss='mse', optimizer=opt, metrics=metrics)\n",
        "\n",
        "    return model"
      ],
      "metadata": {
        "id": "8teGF2t3KqE-"
      },
      "execution_count": 6,
      "outputs": []
    },
    {
      "cell_type": "code",
      "source": [
        "# Set callbacks\n",
        "def create_callbacks(model_name, monitor, mode, patience):\n",
        "    # Early stopping\n",
        "    es = EarlyStopping(\n",
        "        monitor=monitor, mode=mode, verbose=0, patience=patience, restore_best_weights=True\n",
        "    )\n",
        "\n",
        "    # Checkpoint\n",
        "    checkpoint = ModelCheckpoint(\n",
        "        filepath=model_name,\n",
        "        monitor=monitor,\n",
        "        mode=mode,\n",
        "        save_best_only=True\n",
        "    )\n",
        "\n",
        "    return es, checkpoint"
      ],
      "metadata": {
        "id": "UPxqUHTglMfj"
      },
      "execution_count": 9,
      "outputs": []
    },
    {
      "cell_type": "code",
      "source": [
        "# Fit model\n",
        "def fit_model(model, es, checkpoint, X_train, y_train, X_val, y_val):\n",
        "    model_history = model.fit(\n",
        "        X_train,\n",
        "        y_train,\n",
        "        epochs=epochs,\n",
        "        batch_size=batch_size,\n",
        "        validation_data=(X_val, y_val),\n",
        "        callbacks=[checkpoint, es],\n",
        "        shuffle=False,\n",
        "        verbose=2\n",
        "    )\n",
        "    return model, model_history"
      ],
      "metadata": {
        "id": "dKuaUrRElWAv"
      },
      "execution_count": 10,
      "outputs": []
    },
    {
      "cell_type": "code",
      "source": [
        "# Plot model history\n",
        "def plot_history(model_history, test_score, val_score):\n",
        "    # Visualize the CNN training history\n",
        "    fig, ax = plt.subplots(1, 2, figsize=(6,2))\n",
        "\n",
        "    # Accuracy\n",
        "    ax[0].plot(model_history.history[test_score])\n",
        "    ax[0].plot(model_history.history[val_score])\n",
        "    ax[0].set_title(test_score)\n",
        "    ax[0].set_ylabel(test_score)\n",
        "    ax[0].set_xlabel('epoch')\n",
        "    ax[0].legend(['train', 'val'], loc='upper left')\n",
        "\n",
        "    # Loss\n",
        "    ax[1].plot(model_history.history['loss'])\n",
        "    ax[1].plot(model_history.history['val_loss'])\n",
        "    ax[1].set_title('loss')\n",
        "    ax[1].set_ylabel('loss')\n",
        "    ax[1].set_xlabel('epoch')\n",
        "    ax[1].legend(['train', 'val'], loc='upper left')\n",
        "    plt.show()"
      ],
      "metadata": {
        "id": "frym2jGamQAI"
      },
      "execution_count": 11,
      "outputs": []
    },
    {
      "cell_type": "markdown",
      "source": [
        "# Vanilla LSTM"
      ],
      "metadata": {
        "id": "vVVkx5Vsa-rI"
      }
    },
    {
      "cell_type": "code",
      "source": [
        "# Create callbacks\n",
        "es, checkpoint = create_callbacks('forecaster_vanilla_lstm.hdf5', monitor, mode, patience)\n",
        "# Build model architecture\n",
        "model_vanilla_lstm = build_vanilla_lstm_model(X_train)\n",
        "# Fit the model\n",
        "model_vanilla_lstm, model_vanilla_lstm_history = fit_model(\n",
        "    model_vanilla_lstm, es, checkpoint, X_train, y_train, X_val, y_val\n",
        ")"
      ],
      "metadata": {
        "colab": {
          "base_uri": "https://localhost:8080/"
        },
        "id": "yAam8HYha_9w",
        "outputId": "ee66869e-8ae5-4f42-b6dc-7876c9b36448"
      },
      "execution_count": null,
      "outputs": [
        {
          "output_type": "stream",
          "name": "stderr",
          "text": [
            "WARNING:tensorflow:Layer lstm_5 will not use cuDNN kernels since it doesn't meet the criteria. It will use a generic GPU kernel as fallback when running on GPU.\n"
          ]
        },
        {
          "output_type": "stream",
          "name": "stdout",
          "text": [
            "Epoch 1/30\n",
            "10/10 - 2s - loss: 0.7708 - mae: 0.6393 - val_loss: 1.0527 - val_mae: 0.7516 - 2s/epoch - 174ms/step\n",
            "Epoch 2/30\n",
            "10/10 - 0s - loss: 0.6497 - mae: 0.5660 - val_loss: 0.8978 - val_mae: 0.7024 - 122ms/epoch - 12ms/step\n",
            "Epoch 3/30\n"
          ]
        },
        {
          "output_type": "stream",
          "name": "stderr",
          "text": [
            "/usr/local/lib/python3.10/dist-packages/keras/src/engine/training.py:3103: UserWarning: You are saving your model as an HDF5 file via `model.save()`. This file format is considered legacy. We recommend using instead the native Keras format, e.g. `model.save('my_model.keras')`.\n",
            "  saving_api.save_model(\n"
          ]
        },
        {
          "output_type": "stream",
          "name": "stdout",
          "text": [
            "10/10 - 0s - loss: 0.5952 - mae: 0.5361 - val_loss: 0.8884 - val_mae: 0.7077 - 105ms/epoch - 10ms/step\n",
            "Epoch 4/30\n",
            "10/10 - 0s - loss: 0.5678 - mae: 0.5276 - val_loss: 0.8600 - val_mae: 0.6994 - 105ms/epoch - 11ms/step\n",
            "Epoch 5/30\n",
            "10/10 - 0s - loss: 0.5426 - mae: 0.5186 - val_loss: 0.8096 - val_mae: 0.6771 - 173ms/epoch - 17ms/step\n",
            "Epoch 6/30\n",
            "10/10 - 0s - loss: 0.5187 - mae: 0.5073 - val_loss: 0.7687 - val_mae: 0.6569 - 181ms/epoch - 18ms/step\n",
            "Epoch 7/30\n",
            "10/10 - 0s - loss: 0.4936 - mae: 0.4933 - val_loss: 0.7285 - val_mae: 0.6365 - 170ms/epoch - 17ms/step\n",
            "Epoch 8/30\n",
            "10/10 - 0s - loss: 0.4641 - mae: 0.4769 - val_loss: 0.6813 - val_mae: 0.6134 - 179ms/epoch - 18ms/step\n",
            "Epoch 9/30\n",
            "10/10 - 0s - loss: 0.4288 - mae: 0.4577 - val_loss: 0.6269 - val_mae: 0.5855 - 188ms/epoch - 19ms/step\n",
            "Epoch 10/30\n",
            "10/10 - 0s - loss: 0.3882 - mae: 0.4344 - val_loss: 0.5697 - val_mae: 0.5516 - 176ms/epoch - 18ms/step\n",
            "Epoch 11/30\n",
            "10/10 - 0s - loss: 0.3472 - mae: 0.4092 - val_loss: 0.5239 - val_mae: 0.5183 - 160ms/epoch - 16ms/step\n",
            "Epoch 12/30\n",
            "10/10 - 0s - loss: 0.3179 - mae: 0.3899 - val_loss: 0.5051 - val_mae: 0.5013 - 167ms/epoch - 17ms/step\n",
            "Epoch 13/30\n",
            "10/10 - 0s - loss: 0.3068 - mae: 0.3846 - val_loss: 0.5015 - val_mae: 0.4958 - 163ms/epoch - 16ms/step\n",
            "Epoch 14/30\n",
            "10/10 - 0s - loss: 0.3009 - mae: 0.3818 - val_loss: 0.5123 - val_mae: 0.4964 - 146ms/epoch - 15ms/step\n",
            "Epoch 15/30\n",
            "10/10 - 0s - loss: 0.2961 - mae: 0.3775 - val_loss: 0.5295 - val_mae: 0.5002 - 151ms/epoch - 15ms/step\n",
            "Epoch 16/30\n",
            "10/10 - 0s - loss: 0.2930 - mae: 0.3742 - val_loss: 0.5402 - val_mae: 0.5022 - 146ms/epoch - 15ms/step\n",
            "Epoch 17/30\n",
            "10/10 - 0s - loss: 0.2903 - mae: 0.3717 - val_loss: 0.5463 - val_mae: 0.5029 - 162ms/epoch - 16ms/step\n",
            "Epoch 18/30\n",
            "10/10 - 0s - loss: 0.2874 - mae: 0.3695 - val_loss: 0.5532 - val_mae: 0.5042 - 143ms/epoch - 14ms/step\n"
          ]
        }
      ]
    },
    {
      "cell_type": "code",
      "source": [
        "# Plot model history\n",
        "plot_history(model_vanilla_lstm_history, test_score, val_score)"
      ],
      "metadata": {
        "colab": {
          "base_uri": "https://localhost:8080/",
          "height": 256
        },
        "id": "GWO3Rrj0bSnm",
        "outputId": "649f14e1-cd68-4b23-9f3a-4877dab63d84"
      },
      "execution_count": null,
      "outputs": [
        {
          "output_type": "display_data",
          "data": {
            "text/plain": [
              "<Figure size 600x200 with 2 Axes>"
            ],
            "image/png": "[encoded data removed]"
          },
          "metadata": {}
        }
      ]
    },
    {
      "cell_type": "markdown",
      "source": [
        "# Stacked LSTM"
      ],
      "metadata": {
        "id": "xbFi0HPOaWkq"
      }
    },
    {
      "cell_type": "code",
      "source": [
        "# Create callbacks\n",
        "es, checkpoint = create_callbacks('forecaster_stacked_lstm.hdf5', monitor, mode, patience)\n",
        "# Build model architecture\n",
        "model_stacked_lstm = build_stacked_lstm_model(X_train)\n",
        "# Fit the model\n",
        "model_stacked_lstm, model_stacked_lstm_history = fit_model(\n",
        "    model_stacked_lstm, es, checkpoint, X_train, y_train, X_val, y_val\n",
        ")"
      ],
      "metadata": {
        "colab": {
          "base_uri": "https://localhost:8080/"
        },
        "id": "AK-3V5aSnDev",
        "outputId": "805d2de2-082d-4f3e-9c87-33a218d28c6a"
      },
      "execution_count": null,
      "outputs": [
        {
          "output_type": "stream",
          "name": "stderr",
          "text": [
            "WARNING:tensorflow:Layer lstm_1 will not use cuDNN kernels since it doesn't meet the criteria. It will use a generic GPU kernel as fallback when running on GPU.\n",
            "WARNING:tensorflow:Layer lstm_2 will not use cuDNN kernels since it doesn't meet the criteria. It will use a generic GPU kernel as fallback when running on GPU.\n"
          ]
        },
        {
          "output_type": "stream",
          "name": "stdout",
          "text": [
            "Epoch 1/30\n",
            "10/10 - 3s - loss: 0.9321 - mae: 0.7323 - val_loss: 1.6825 - val_mae: 0.9567 - 3s/epoch - 308ms/step\n",
            "Epoch 2/30\n",
            "10/10 - 0s - loss: 0.8471 - mae: 0.6910 - val_loss: 1.3452 - val_mae: 0.8590 - 172ms/epoch - 17ms/step\n",
            "Epoch 3/30\n",
            "10/10 - 0s - loss: 0.7638 - mae: 0.6467 - val_loss: 1.1875 - val_mae: 0.8052 - 148ms/epoch - 15ms/step\n",
            "Epoch 4/30\n",
            "10/10 - 0s - loss: 0.7110 - mae: 0.6056 - val_loss: 1.1225 - val_mae: 0.7746 - 153ms/epoch - 15ms/step\n",
            "Epoch 5/30\n",
            "10/10 - 0s - loss: 0.6905 - mae: 0.5858 - val_loss: 1.0833 - val_mae: 0.7602 - 174ms/epoch - 17ms/step\n",
            "Epoch 6/30\n",
            "10/10 - 0s - loss: 0.6637 - mae: 0.5818 - val_loss: 1.0375 - val_mae: 0.7481 - 158ms/epoch - 16ms/step\n",
            "Epoch 7/30\n",
            "10/10 - 0s - loss: 0.6299 - mae: 0.5695 - val_loss: 0.9651 - val_mae: 0.7225 - 158ms/epoch - 16ms/step\n",
            "Epoch 8/30\n",
            "10/10 - 0s - loss: 0.5845 - mae: 0.5476 - val_loss: 0.9053 - val_mae: 0.6942 - 156ms/epoch - 16ms/step\n",
            "Epoch 9/30\n",
            "10/10 - 0s - loss: 0.5182 - mae: 0.5189 - val_loss: 0.8754 - val_mae: 0.6741 - 176ms/epoch - 18ms/step\n",
            "Epoch 10/30\n",
            "10/10 - 0s - loss: 0.4347 - mae: 0.4771 - val_loss: 0.7642 - val_mae: 0.6247 - 164ms/epoch - 16ms/step\n",
            "Epoch 11/30\n",
            "10/10 - 0s - loss: 0.3720 - mae: 0.4424 - val_loss: 0.6662 - val_mae: 0.5842 - 171ms/epoch - 17ms/step\n",
            "Epoch 12/30\n",
            "10/10 - 0s - loss: 0.3489 - mae: 0.4232 - val_loss: 0.5485 - val_mae: 0.5353 - 185ms/epoch - 18ms/step\n",
            "Epoch 13/30\n",
            "10/10 - 0s - loss: 0.3315 - mae: 0.4045 - val_loss: 0.5180 - val_mae: 0.5144 - 153ms/epoch - 15ms/step\n",
            "Epoch 14/30\n",
            "10/10 - 0s - loss: 0.3204 - mae: 0.3951 - val_loss: 0.5282 - val_mae: 0.5151 - 137ms/epoch - 14ms/step\n",
            "Epoch 15/30\n",
            "10/10 - 0s - loss: 0.3101 - mae: 0.3880 - val_loss: 0.5551 - val_mae: 0.5236 - 139ms/epoch - 14ms/step\n",
            "Epoch 16/30\n",
            "10/10 - 0s - loss: 0.3017 - mae: 0.3819 - val_loss: 0.5823 - val_mae: 0.5300 - 140ms/epoch - 14ms/step\n",
            "Epoch 17/30\n",
            "10/10 - 0s - loss: 0.2957 - mae: 0.3771 - val_loss: 0.5939 - val_mae: 0.5320 - 133ms/epoch - 13ms/step\n",
            "Epoch 18/30\n",
            "10/10 - 0s - loss: 0.2897 - mae: 0.3724 - val_loss: 0.6180 - val_mae: 0.5389 - 155ms/epoch - 16ms/step\n"
          ]
        }
      ]
    },
    {
      "cell_type": "code",
      "source": [
        "# Plot model history\n",
        "plot_history(model_stacked_lstm_history, test_score, val_score)"
      ],
      "metadata": {
        "colab": {
          "base_uri": "https://localhost:8080/",
          "height": 256
        },
        "id": "no6SGxd4ol9J",
        "outputId": "8df4bc1c-4abb-40ab-e788-4fe2d5368747"
      },
      "execution_count": null,
      "outputs": [
        {
          "output_type": "display_data",
          "data": {
            "text/plain": [
              "<Figure size 600x200 with 2 Axes>"
            ],
            "image/png": "[encoded data removed]"
          },
          "metadata": {}
        }
      ]
    },
    {
      "cell_type": "markdown",
      "source": [
        "# Bidirectional LSTM"
      ],
      "metadata": {
        "id": "5X7S0ppQMhu3"
      }
    },
    {
      "cell_type": "code",
      "source": [
        "# Create callbacks\n",
        "es, checkpoint = create_callbacks('forecaster_bidirectional_lstm.hdf5', monitor, mode, patience)\n",
        "# Build model architecture\n",
        "model_bidirectional_lstm = build_bidirectional_lstm_model(X_train)\n",
        "# Fit the model\n",
        "model_bidirectional_lstm, model_bidirectional_lstm_history = fit_model(\n",
        "    model_bidirectional_lstm, es, checkpoint, X_train, y_train, X_val, y_val\n",
        ")"
      ],
      "metadata": {
        "colab": {
          "base_uri": "https://localhost:8080/"
        },
        "id": "aIqCjGceMjYs",
        "outputId": "1455631f-4d84-4e89-9d03-28942d8035a7"
      },
      "execution_count": 14,
      "outputs": [
        {
          "output_type": "stream",
          "name": "stderr",
          "text": [
            "WARNING:tensorflow:Layer lstm_1 will not use cuDNN kernels since it doesn't meet the criteria. It will use a generic GPU kernel as fallback when running on GPU.\n",
            "WARNING:tensorflow:Layer lstm_1 will not use cuDNN kernels since it doesn't meet the criteria. It will use a generic GPU kernel as fallback when running on GPU.\n",
            "WARNING:tensorflow:Layer lstm_1 will not use cuDNN kernels since it doesn't meet the criteria. It will use a generic GPU kernel as fallback when running on GPU.\n"
          ]
        },
        {
          "output_type": "stream",
          "name": "stdout",
          "text": [
            "Epoch 1/30\n",
            "10/10 - 4s - loss: 0.9790 - mae: 0.7170 - val_loss: 1.1991 - val_mae: 0.7811 - 4s/epoch - 389ms/step\n",
            "Epoch 2/30\n",
            "10/10 - 0s - loss: 0.6455 - mae: 0.5645 - val_loss: 0.9751 - val_mae: 0.7584 - 162ms/epoch - 16ms/step\n",
            "Epoch 3/30\n",
            "10/10 - 0s - loss: 0.5939 - mae: 0.5566 - val_loss: 0.9004 - val_mae: 0.6983 - 151ms/epoch - 15ms/step\n",
            "Epoch 4/30\n",
            "10/10 - 0s - loss: 0.5407 - mae: 0.5201 - val_loss: 0.9205 - val_mae: 0.6840 - 151ms/epoch - 15ms/step\n",
            "Epoch 5/30\n",
            "10/10 - 0s - loss: 0.4966 - mae: 0.4888 - val_loss: 0.7704 - val_mae: 0.6280 - 164ms/epoch - 16ms/step\n",
            "Epoch 6/30\n",
            "10/10 - 0s - loss: 0.4314 - mae: 0.4590 - val_loss: 0.6976 - val_mae: 0.5867 - 160ms/epoch - 16ms/step\n",
            "Epoch 7/30\n",
            "10/10 - 0s - loss: 0.3600 - mae: 0.4124 - val_loss: 0.7456 - val_mae: 0.5881 - 130ms/epoch - 13ms/step\n",
            "Epoch 8/30\n",
            "10/10 - 0s - loss: 0.3136 - mae: 0.3848 - val_loss: 0.7028 - val_mae: 0.5635 - 175ms/epoch - 17ms/step\n",
            "Epoch 9/30\n",
            "10/10 - 0s - loss: 0.2986 - mae: 0.3787 - val_loss: 0.7490 - val_mae: 0.5726 - 136ms/epoch - 14ms/step\n",
            "Epoch 10/30\n",
            "10/10 - 0s - loss: 0.2908 - mae: 0.3732 - val_loss: 0.6988 - val_mae: 0.5519 - 149ms/epoch - 15ms/step\n",
            "Epoch 11/30\n",
            "10/10 - 0s - loss: 0.2865 - mae: 0.3680 - val_loss: 0.7131 - val_mae: 0.5552 - 124ms/epoch - 12ms/step\n",
            "Epoch 12/30\n",
            "10/10 - 0s - loss: 0.2833 - mae: 0.3659 - val_loss: 0.6935 - val_mae: 0.5465 - 154ms/epoch - 15ms/step\n",
            "Epoch 13/30\n",
            "10/10 - 0s - loss: 0.2788 - mae: 0.3632 - val_loss: 0.6933 - val_mae: 0.5454 - 147ms/epoch - 15ms/step\n",
            "Epoch 14/30\n",
            "10/10 - 0s - loss: 0.2753 - mae: 0.3608 - val_loss: 0.6758 - val_mae: 0.5386 - 155ms/epoch - 15ms/step\n",
            "Epoch 15/30\n",
            "10/10 - 0s - loss: 0.2718 - mae: 0.3582 - val_loss: 0.6706 - val_mae: 0.5366 - 149ms/epoch - 15ms/step\n",
            "Epoch 16/30\n",
            "10/10 - 0s - loss: 0.2688 - mae: 0.3563 - val_loss: 0.6633 - val_mae: 0.5336 - 152ms/epoch - 15ms/step\n",
            "Epoch 17/30\n",
            "10/10 - 0s - loss: 0.2662 - mae: 0.3548 - val_loss: 0.6544 - val_mae: 0.5301 - 149ms/epoch - 15ms/step\n",
            "Epoch 18/30\n",
            "10/10 - 0s - loss: 0.2637 - mae: 0.3534 - val_loss: 0.6498 - val_mae: 0.5280 - 152ms/epoch - 15ms/step\n",
            "Epoch 19/30\n",
            "10/10 - 0s - loss: 0.2615 - mae: 0.3521 - val_loss: 0.6457 - val_mae: 0.5261 - 155ms/epoch - 15ms/step\n",
            "Epoch 20/30\n",
            "10/10 - 0s - loss: 0.2594 - mae: 0.3509 - val_loss: 0.6443 - val_mae: 0.5251 - 156ms/epoch - 16ms/step\n",
            "Epoch 21/30\n",
            "10/10 - 0s - loss: 0.2574 - mae: 0.3498 - val_loss: 0.6425 - val_mae: 0.5241 - 168ms/epoch - 17ms/step\n",
            "Epoch 22/30\n",
            "10/10 - 0s - loss: 0.2556 - mae: 0.3487 - val_loss: 0.6383 - val_mae: 0.5224 - 157ms/epoch - 16ms/step\n",
            "Epoch 23/30\n",
            "10/10 - 0s - loss: 0.2537 - mae: 0.3476 - val_loss: 0.6366 - val_mae: 0.5214 - 150ms/epoch - 15ms/step\n",
            "Epoch 24/30\n",
            "10/10 - 0s - loss: 0.2520 - mae: 0.3465 - val_loss: 0.6336 - val_mae: 0.5201 - 147ms/epoch - 15ms/step\n",
            "Epoch 25/30\n",
            "10/10 - 0s - loss: 0.2503 - mae: 0.3455 - val_loss: 0.6299 - val_mae: 0.5190 - 162ms/epoch - 16ms/step\n",
            "Epoch 26/30\n",
            "10/10 - 0s - loss: 0.2486 - mae: 0.3444 - val_loss: 0.6265 - val_mae: 0.5177 - 149ms/epoch - 15ms/step\n",
            "Epoch 27/30\n",
            "10/10 - 0s - loss: 0.2470 - mae: 0.3433 - val_loss: 0.6221 - val_mae: 0.5160 - 167ms/epoch - 17ms/step\n",
            "Epoch 28/30\n",
            "10/10 - 0s - loss: 0.2455 - mae: 0.3424 - val_loss: 0.6156 - val_mae: 0.5136 - 151ms/epoch - 15ms/step\n",
            "Epoch 29/30\n",
            "10/10 - 0s - loss: 0.2439 - mae: 0.3414 - val_loss: 0.6147 - val_mae: 0.5134 - 382ms/epoch - 38ms/step\n",
            "Epoch 30/30\n",
            "10/10 - 0s - loss: 0.2422 - mae: 0.3404 - val_loss: 0.6163 - val_mae: 0.5136 - 139ms/epoch - 14ms/step\n"
          ]
        }
      ]
    },
    {
      "cell_type": "code",
      "source": [
        "# Plot model history\n",
        "plot_history(model_bidirectional_lstm_history, test_score, val_score)"
      ],
      "metadata": {
        "colab": {
          "base_uri": "https://localhost:8080/",
          "height": 256
        },
        "id": "lEykWKjjNBsS",
        "outputId": "600bdeb9-3ef1-4213-ad56-adae8c4dae70"
      },
      "execution_count": 15,
      "outputs": [
        {
          "output_type": "display_data",
          "data": {
            "text/plain": [
              "<Figure size 600x200 with 2 Axes>"
            ],
            "image/png": "[encoded data removed]"
          },
          "metadata": {}
        }
      ]
    }
  ]
}