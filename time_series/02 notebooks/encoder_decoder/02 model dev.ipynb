{
  "nbformat": 4,
  "nbformat_minor": 0,
  "metadata": {
    "colab": {
      "provenance": [],
      "gpuType": "T4"
    },
    "kernelspec": {
      "name": "python3",
      "display_name": "Python 3"
    },
    "language_info": {
      "name": "python"
    },
    "accelerator": "GPU"
  },
  "cells": [
    {
      "cell_type": "code",
      "source": [
        "# Input:\n",
        "path_x_train = '/content/X_train.npy'\n",
        "path_y_train = '/content/y_train.npy'\n",
        "path_x_val = '/content/X_val.npy'\n",
        "path_y_val = '/content/y_val.npy'\n",
        "epochs=30\n",
        "metrics = ['mae']\n",
        "batch_size=500\n",
        "monitor='val_mae'\n",
        "mode='min'\n",
        "patience=5\n",
        "test_score, val_score = 'mae', 'val_mae'\n",
        "n_features = 3\n",
        "n_lag = 3\n",
        "n_out = 2"
      ],
      "metadata": {
        "id": "qVQJul6ZlkNF"
      },
      "execution_count": 7,
      "outputs": []
    },
    {
      "cell_type": "code",
      "source": [
        "import numpy as np\n",
        "import pandas as pd\n",
        "import matplotlib.pyplot as plt\n",
        "from sklearn.metrics import mean_absolute_error\n",
        "import pickle\n",
        "import tensorflow as tf\n",
        "from keras.models import Sequential\n",
        "from keras.layers import Dense, LSTM, RepeatVector, TimeDistributed\n",
        "from keras.callbacks import EarlyStopping, ModelCheckpoint\n",
        "from keras.models import load_model"
      ],
      "metadata": {
        "id": "XJifwXrzaO-O"
      },
      "execution_count": 3,
      "outputs": []
    },
    {
      "cell_type": "code",
      "source": [
        "# Load data\n",
        "X_train = np.load(open(path_x_train, 'rb'))\n",
        "y_train = np.load(open(path_y_train, 'rb'))\n",
        "X_val = np.load(open(path_x_val, 'rb'))\n",
        "y_val = np.load(open(path_y_val, 'rb'))"
      ],
      "metadata": {
        "id": "ZWdwTyAeaWHV"
      },
      "execution_count": 5,
      "outputs": []
    },
    {
      "cell_type": "code",
      "source": [
        "print(\"X_train: \", X_train.shape, \"| y_train: \", y_train.shape)\n",
        "print(\"X_val: \", X_val.shape, \"| y_val: \", y_val.shape)"
      ],
      "metadata": {
        "colab": {
          "base_uri": "https://localhost:8080/"
        },
        "id": "Y3oyH2q2scPY",
        "outputId": "0c09fec9-ed9e-4538-9cf7-7f61de307004"
      },
      "execution_count": 6,
      "outputs": [
        {
          "output_type": "stream",
          "name": "stdout",
          "text": [
            "X_train:  (4620, 3, 3) | y_train:  (4620, 2, 3)\n",
            "X_val:  (1067, 3, 3) | y_val:  (1067, 2, 3)\n"
          ]
        }
      ]
    },
    {
      "cell_type": "code",
      "source": [
        "# LSTM architecture\n",
        "def build_encoder_decoder_model(X_train):\n",
        "    model = Sequential()\n",
        "    model.add(LSTM(128, activation='relu', input_shape=(n_lag, n_features)))\n",
        "    model.add(RepeatVector(n_out))\n",
        "    model.add(LSTM(128, activation='relu', return_sequences=True))\n",
        "    model.add(TimeDistributed(Dense(n_features)))\n",
        "    opt = tf.keras.optimizers.Adam(learning_rate=1e-3)\n",
        "    model.compile(loss='mse', optimizer=opt, metrics=metrics)\n",
        "\n",
        "    return model"
      ],
      "metadata": {
        "id": "Z8bvVQ8OaiCG"
      },
      "execution_count": 8,
      "outputs": []
    },
    {
      "cell_type": "code",
      "source": [
        "# Set callbacks\n",
        "def create_callbacks(model_name, monitor, mode, patience):\n",
        "    # Early stopping\n",
        "    es = EarlyStopping(\n",
        "        monitor=monitor, mode=mode, verbose=0, patience=patience, restore_best_weights=True\n",
        "    )\n",
        "\n",
        "    # Checkpoint\n",
        "    checkpoint = ModelCheckpoint(\n",
        "        filepath=model_name,\n",
        "        monitor=monitor,\n",
        "        mode=mode,\n",
        "        save_best_only=True\n",
        "    )\n",
        "\n",
        "    return es, checkpoint"
      ],
      "metadata": {
        "id": "UPxqUHTglMfj"
      },
      "execution_count": 9,
      "outputs": []
    },
    {
      "cell_type": "code",
      "source": [
        "# Fit model\n",
        "def fit_model(model, es, checkpoint, X_train, y_train, X_val, y_val):\n",
        "    model_history = model.fit(\n",
        "        X_train,\n",
        "        y_train,\n",
        "        epochs=epochs,\n",
        "        batch_size=batch_size,\n",
        "        validation_data=(X_val, y_val),\n",
        "        callbacks=[checkpoint, es],\n",
        "        shuffle=False,\n",
        "        verbose=2\n",
        "    )\n",
        "    return model, model_history"
      ],
      "metadata": {
        "id": "dKuaUrRElWAv"
      },
      "execution_count": 10,
      "outputs": []
    },
    {
      "cell_type": "code",
      "source": [
        "# Plot model history\n",
        "def plot_history(model_history, test_score, val_score):\n",
        "    # Visualize the CNN training history\n",
        "    fig, ax = plt.subplots(1, 2, figsize=(6,2))\n",
        "\n",
        "    # Accuracy\n",
        "    ax[0].plot(model_history.history[test_score])\n",
        "    ax[0].plot(model_history.history[val_score])\n",
        "    ax[0].set_title(test_score)\n",
        "    ax[0].set_ylabel(test_score)\n",
        "    ax[0].set_xlabel('epoch')\n",
        "    ax[0].legend(['train', 'val'], loc='upper left')\n",
        "\n",
        "    # Loss\n",
        "    ax[1].plot(model_history.history['loss'])\n",
        "    ax[1].plot(model_history.history['val_loss'])\n",
        "    ax[1].set_title('loss')\n",
        "    ax[1].set_ylabel('loss')\n",
        "    ax[1].set_xlabel('epoch')\n",
        "    ax[1].legend(['train', 'val'], loc='upper left')\n",
        "    plt.show()"
      ],
      "metadata": {
        "id": "frym2jGamQAI"
      },
      "execution_count": 11,
      "outputs": []
    },
    {
      "cell_type": "code",
      "source": [
        "# Create callbacks\n",
        "es, checkpoint = create_callbacks('forecaster_encoder_decoder.hdf5', monitor, mode, patience)\n",
        "# Build model architecture\n",
        "model_lstm = build_encoder_decoder_model(X_train)\n",
        "# Fit the model\n",
        "model_lstm, model_lstm_history = fit_model(\n",
        "    model_lstm, es, checkpoint, X_train, y_train, X_val, y_val\n",
        ")"
      ],
      "metadata": {
        "id": "yAam8HYha_9w",
        "colab": {
          "base_uri": "https://localhost:8080/"
        },
        "outputId": "1d0b375d-e56c-448b-e45b-ff5c62082495"
      },
      "execution_count": 12,
      "outputs": [
        {
          "output_type": "stream",
          "name": "stderr",
          "text": [
            "WARNING:tensorflow:Layer lstm will not use cuDNN kernels since it doesn't meet the criteria. It will use a generic GPU kernel as fallback when running on GPU.\n",
            "WARNING:tensorflow:Layer lstm_1 will not use cuDNN kernels since it doesn't meet the criteria. It will use a generic GPU kernel as fallback when running on GPU.\n"
          ]
        },
        {
          "output_type": "stream",
          "name": "stdout",
          "text": [
            "Epoch 1/30\n",
            "10/10 - 5s - loss: 0.9853 - mae: 0.7617 - val_loss: 3.7186 - val_mae: 1.3545 - 5s/epoch - 487ms/step\n",
            "Epoch 2/30\n"
          ]
        },
        {
          "output_type": "stream",
          "name": "stderr",
          "text": [
            "/usr/local/lib/python3.10/dist-packages/keras/src/engine/training.py:3103: UserWarning: You are saving your model as an HDF5 file via `model.save()`. This file format is considered legacy. We recommend using instead the native Keras format, e.g. `model.save('my_model.keras')`.\n",
            "  saving_api.save_model(\n"
          ]
        },
        {
          "output_type": "stream",
          "name": "stdout",
          "text": [
            "10/10 - 0s - loss: 0.9305 - mae: 0.7362 - val_loss: 3.0687 - val_mae: 1.2303 - 164ms/epoch - 16ms/step\n",
            "Epoch 3/30\n",
            "10/10 - 0s - loss: 0.8575 - mae: 0.7013 - val_loss: 2.9901 - val_mae: 1.1777 - 147ms/epoch - 15ms/step\n",
            "Epoch 4/30\n",
            "10/10 - 0s - loss: 0.8016 - mae: 0.6571 - val_loss: 2.5833 - val_mae: 1.1177 - 176ms/epoch - 18ms/step\n",
            "Epoch 5/30\n",
            "10/10 - 0s - loss: 0.7389 - mae: 0.6303 - val_loss: 2.2424 - val_mae: 1.0456 - 488ms/epoch - 49ms/step\n",
            "Epoch 6/30\n",
            "10/10 - 0s - loss: 0.6354 - mae: 0.5777 - val_loss: 1.8902 - val_mae: 0.9396 - 251ms/epoch - 25ms/step\n",
            "Epoch 7/30\n",
            "10/10 - 0s - loss: 0.5739 - mae: 0.5245 - val_loss: 1.8385 - val_mae: 0.9171 - 250ms/epoch - 25ms/step\n",
            "Epoch 8/30\n",
            "10/10 - 0s - loss: 0.5355 - mae: 0.5213 - val_loss: 1.6284 - val_mae: 0.8685 - 260ms/epoch - 26ms/step\n",
            "Epoch 9/30\n",
            "10/10 - 0s - loss: 0.5111 - mae: 0.5034 - val_loss: 1.6405 - val_mae: 0.8635 - 264ms/epoch - 26ms/step\n",
            "Epoch 10/30\n",
            "10/10 - 0s - loss: 0.4762 - mae: 0.4787 - val_loss: 1.8023 - val_mae: 0.8927 - 233ms/epoch - 23ms/step\n",
            "Epoch 11/30\n",
            "10/10 - 0s - loss: 0.4594 - mae: 0.4701 - val_loss: 1.7721 - val_mae: 0.8823 - 134ms/epoch - 13ms/step\n",
            "Epoch 12/30\n",
            "10/10 - 0s - loss: 0.4529 - mae: 0.4674 - val_loss: 1.6300 - val_mae: 0.8509 - 161ms/epoch - 16ms/step\n",
            "Epoch 13/30\n",
            "10/10 - 0s - loss: 0.4501 - mae: 0.4652 - val_loss: 1.5755 - val_mae: 0.8393 - 167ms/epoch - 17ms/step\n",
            "Epoch 14/30\n",
            "10/10 - 0s - loss: 0.4456 - mae: 0.4622 - val_loss: 1.5609 - val_mae: 0.8350 - 148ms/epoch - 15ms/step\n",
            "Epoch 15/30\n",
            "10/10 - 0s - loss: 0.4406 - mae: 0.4589 - val_loss: 1.5344 - val_mae: 0.8276 - 164ms/epoch - 16ms/step\n",
            "Epoch 16/30\n",
            "10/10 - 0s - loss: 0.4373 - mae: 0.4566 - val_loss: 1.5179 - val_mae: 0.8223 - 161ms/epoch - 16ms/step\n",
            "Epoch 17/30\n",
            "10/10 - 0s - loss: 0.4347 - mae: 0.4548 - val_loss: 1.5016 - val_mae: 0.8177 - 174ms/epoch - 17ms/step\n",
            "Epoch 18/30\n",
            "10/10 - 0s - loss: 0.4318 - mae: 0.4528 - val_loss: 1.4872 - val_mae: 0.8135 - 149ms/epoch - 15ms/step\n",
            "Epoch 19/30\n",
            "10/10 - 0s - loss: 0.4291 - mae: 0.4508 - val_loss: 1.4764 - val_mae: 0.8103 - 172ms/epoch - 17ms/step\n",
            "Epoch 20/30\n",
            "10/10 - 0s - loss: 0.4268 - mae: 0.4491 - val_loss: 1.4706 - val_mae: 0.8082 - 171ms/epoch - 17ms/step\n",
            "Epoch 21/30\n",
            "10/10 - 0s - loss: 0.4247 - mae: 0.4476 - val_loss: 1.4643 - val_mae: 0.8060 - 164ms/epoch - 16ms/step\n",
            "Epoch 22/30\n",
            "10/10 - 0s - loss: 0.4226 - mae: 0.4460 - val_loss: 1.4596 - val_mae: 0.8045 - 162ms/epoch - 16ms/step\n",
            "Epoch 23/30\n",
            "10/10 - 0s - loss: 0.4208 - mae: 0.4447 - val_loss: 1.4566 - val_mae: 0.8035 - 157ms/epoch - 16ms/step\n",
            "Epoch 24/30\n",
            "10/10 - 0s - loss: 0.4191 - mae: 0.4435 - val_loss: 1.4548 - val_mae: 0.8029 - 163ms/epoch - 16ms/step\n",
            "Epoch 25/30\n",
            "10/10 - 0s - loss: 0.4175 - mae: 0.4423 - val_loss: 1.4583 - val_mae: 0.8034 - 130ms/epoch - 13ms/step\n",
            "Epoch 26/30\n",
            "10/10 - 0s - loss: 0.4160 - mae: 0.4413 - val_loss: 1.4529 - val_mae: 0.8021 - 165ms/epoch - 17ms/step\n",
            "Epoch 27/30\n",
            "10/10 - 0s - loss: 0.4145 - mae: 0.4402 - val_loss: 1.4591 - val_mae: 0.8033 - 135ms/epoch - 14ms/step\n",
            "Epoch 28/30\n",
            "10/10 - 0s - loss: 0.4132 - mae: 0.4393 - val_loss: 1.4570 - val_mae: 0.8026 - 138ms/epoch - 14ms/step\n",
            "Epoch 29/30\n",
            "10/10 - 0s - loss: 0.4120 - mae: 0.4384 - val_loss: 1.4631 - val_mae: 0.8037 - 118ms/epoch - 12ms/step\n",
            "Epoch 30/30\n",
            "10/10 - 0s - loss: 0.4108 - mae: 0.4376 - val_loss: 1.4634 - val_mae: 0.8035 - 127ms/epoch - 13ms/step\n"
          ]
        }
      ]
    },
    {
      "cell_type": "code",
      "source": [
        "# Plot model history\n",
        "plot_history(model_lstm_history, test_score, val_score)"
      ],
      "metadata": {
        "id": "GWO3Rrj0bSnm",
        "colab": {
          "base_uri": "https://localhost:8080/",
          "height": 256
        },
        "outputId": "3948a490-91ea-494f-b51d-66d4352da55c"
      },
      "execution_count": 13,
      "outputs": [
        {
          "output_type": "display_data",
          "data": {
            "text/plain": [
              "<Figure size 600x200 with 2 Axes>"
            ],
            "image/png": "[encoded data removed]"
          },
          "metadata": {}
        }
      ]
    }
  ]
}