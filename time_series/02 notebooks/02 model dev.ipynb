{
  "nbformat": 4,
  "nbformat_minor": 0,
  "metadata": {
    "colab": {
      "provenance": [],
      "gpuType": "T4"
    },
    "kernelspec": {
      "name": "python3",
      "display_name": "Python 3"
    },
    "language_info": {
      "name": "python"
    },
    "accelerator": "GPU"
  },
  "cells": [
    {
      "cell_type": "code",
      "source": [
        "# Input:\n",
        "path_x_train = '/content/X_train.npy'\n",
        "path_y_train = '/content/y_train.npy'\n",
        "path_x_val = '/content/X_val.npy'\n",
        "path_y_val = '/content/y_val.npy'\n",
        "path_scaler = '/content/time_scaler.pickle'\n",
        "epochs=50\n",
        "metrics = ['mae']\n",
        "batch_size=500\n",
        "model_name='forecaste_lstm.hdf5'\n",
        "monitor='val_mae'\n",
        "mode='min'\n",
        "patience=5\n",
        "test_score, val_score = 'mae', 'val_mae'"
      ],
      "metadata": {
        "id": "qVQJul6ZlkNF"
      },
      "execution_count": 1,
      "outputs": []
    },
    {
      "cell_type": "code",
      "source": [
        "import numpy as np\n",
        "import pandas as pd\n",
        "import matplotlib.pyplot as plt\n",
        "from sklearn.metrics import mean_absolute_error\n",
        "import pickle\n",
        "import tensorflow as tf\n",
        "from keras.models import Sequential\n",
        "from keras.layers import Dense, LSTM\n",
        "from keras.callbacks import EarlyStopping, ModelCheckpoint\n",
        "from keras.models import load_model"
      ],
      "metadata": {
        "id": "XJifwXrzaO-O"
      },
      "execution_count": 2,
      "outputs": []
    },
    {
      "cell_type": "code",
      "source": [
        "# Load data\n",
        "X_train = np.load(open(path_x_train, 'rb'))\n",
        "y_train = np.load(open(path_y_train, 'rb'))\n",
        "X_val = np.load(open(path_x_val, 'rb'))\n",
        "y_val = np.load(open(path_y_val, 'rb'))"
      ],
      "metadata": {
        "id": "ZWdwTyAeaWHV"
      },
      "execution_count": 3,
      "outputs": []
    },
    {
      "cell_type": "code",
      "execution_count": 4,
      "metadata": {
        "id": "_EvPISaJaJ-T"
      },
      "outputs": [],
      "source": [
        "# LSTM architecture\n",
        "def build_lstm_model(X_train):\n",
        "    model = Sequential()\n",
        "    model.add(LSTM(32, activation='relu', return_sequences=True, input_shape=(X_train.shape[1], X_train.shape[2])))\n",
        "    model.add(LSTM(16, activation='relu'))\n",
        "    model.add(Dense(1))\n",
        "    opt = tf.keras.optimizers.Adam(learning_rate=1e-3)\n",
        "    model.compile(loss='mse', optimizer=opt, metrics=metrics)\n",
        "\n",
        "    return model"
      ]
    },
    {
      "cell_type": "code",
      "source": [
        "# Set callbacks\n",
        "def create_callbacks(model_name, monitor, mode, patience):\n",
        "    # Early stopping\n",
        "    es = EarlyStopping(\n",
        "        monitor=monitor, mode=mode, verbose=0, patience=patience, restore_best_weights=True\n",
        "    )\n",
        "\n",
        "    # Checkpoint\n",
        "    checkpoint = ModelCheckpoint(\n",
        "        filepath=model_name,\n",
        "        monitor=monitor,\n",
        "        mode=mode,\n",
        "        save_best_only=True\n",
        "    )\n",
        "\n",
        "    return es, checkpoint"
      ],
      "metadata": {
        "id": "UPxqUHTglMfj"
      },
      "execution_count": 5,
      "outputs": []
    },
    {
      "cell_type": "code",
      "source": [
        "# Fit model\n",
        "def fit_model(model, es, checkpoint):\n",
        "    model_history = model.fit(\n",
        "        X_train,\n",
        "        y_train,\n",
        "        epochs=epochs,\n",
        "        batch_size=batch_size,\n",
        "        validation_data=(X_val, y_val),\n",
        "        callbacks=[checkpoint, es],\n",
        "        shuffle=False,\n",
        "        verbose=2\n",
        "    )\n",
        "    return model, model_history"
      ],
      "metadata": {
        "id": "dKuaUrRElWAv"
      },
      "execution_count": 6,
      "outputs": []
    },
    {
      "cell_type": "code",
      "source": [
        "# Plot model history\n",
        "def plot_history(model_history, test_score, val_score):\n",
        "    # Visualize the CNN training history\n",
        "    fig, ax = plt.subplots(1, 2, figsize=(6,2))\n",
        "\n",
        "    # Accuracy\n",
        "    ax[0].plot(model_history.history[test_score])\n",
        "    ax[0].plot(model_history.history[val_score])\n",
        "    ax[0].set_title(test_score)\n",
        "    ax[0].set_ylabel(test_score)\n",
        "    ax[0].set_xlabel('epoch')\n",
        "    ax[0].legend(['train', 'val'], loc='upper left')\n",
        "\n",
        "    # Loss\n",
        "    ax[1].plot(model_history.history['loss'])\n",
        "    ax[1].plot(model_history.history['val_loss'])\n",
        "    ax[1].set_title('loss')\n",
        "    ax[1].set_ylabel('loss')\n",
        "    ax[1].set_xlabel('epoch')\n",
        "    ax[1].legend(['train', 'val'], loc='upper left')\n",
        "    plt.show()"
      ],
      "metadata": {
        "id": "frym2jGamQAI"
      },
      "execution_count": 7,
      "outputs": []
    },
    {
      "cell_type": "code",
      "source": [
        "# Create callbacks\n",
        "es, checkpoint = create_callbacks('forecaster_lstm.hdf5', monitor, mode, patience)\n",
        "# Build model architecture\n",
        "model_lstm = build_lstm_model(X_train)\n",
        "# Fit the model\n",
        "model_lstm, model_lstm_history = fit_model(model_lstm, es, checkpoint)"
      ],
      "metadata": {
        "colab": {
          "base_uri": "https://localhost:8080/"
        },
        "id": "AK-3V5aSnDev",
        "outputId": "f970fc8e-3ffe-4b0c-befc-53a1b7d3c74a"
      },
      "execution_count": 14,
      "outputs": [
        {
          "output_type": "stream",
          "name": "stderr",
          "text": [
            "WARNING:tensorflow:Layer lstm_4 will not use cuDNN kernels since it doesn't meet the criteria. It will use a generic GPU kernel as fallback when running on GPU.\n",
            "WARNING:tensorflow:Layer lstm_5 will not use cuDNN kernels since it doesn't meet the criteria. It will use a generic GPU kernel as fallback when running on GPU.\n"
          ]
        },
        {
          "output_type": "stream",
          "name": "stdout",
          "text": [
            "Epoch 1/50\n",
            "10/10 - 4s - loss: 0.9707 - mae: 0.7636 - val_loss: 1.8460 - val_mae: 1.0151 - 4s/epoch - 359ms/step\n",
            "Epoch 2/50\n",
            "10/10 - 0s - loss: 0.9019 - mae: 0.7354 - val_loss: 1.5211 - val_mae: 0.9295 - 198ms/epoch - 20ms/step\n",
            "Epoch 3/50\n",
            "10/10 - 0s - loss: 0.8372 - mae: 0.7126 - val_loss: 1.2514 - val_mae: 0.8571 - 178ms/epoch - 18ms/step\n",
            "Epoch 4/50\n",
            "10/10 - 0s - loss: 0.7898 - mae: 0.6974 - val_loss: 1.1898 - val_mae: 0.8337 - 186ms/epoch - 19ms/step\n",
            "Epoch 5/50\n",
            "10/10 - 0s - loss: 0.7398 - mae: 0.6636 - val_loss: 1.1676 - val_mae: 0.8103 - 179ms/epoch - 18ms/step\n",
            "Epoch 6/50\n",
            "10/10 - 0s - loss: 0.6830 - mae: 0.6167 - val_loss: 1.0732 - val_mae: 0.7621 - 184ms/epoch - 18ms/step\n",
            "Epoch 7/50\n",
            "10/10 - 0s - loss: 0.6368 - mae: 0.5733 - val_loss: 0.9514 - val_mae: 0.7178 - 193ms/epoch - 19ms/step\n",
            "Epoch 8/50\n",
            "10/10 - 0s - loss: 0.5931 - mae: 0.5548 - val_loss: 0.8438 - val_mae: 0.6733 - 193ms/epoch - 19ms/step\n",
            "Epoch 9/50\n",
            "10/10 - 0s - loss: 0.5343 - mae: 0.5318 - val_loss: 0.7997 - val_mae: 0.6512 - 187ms/epoch - 19ms/step\n",
            "Epoch 10/50\n",
            "10/10 - 0s - loss: 0.5027 - mae: 0.5165 - val_loss: 0.7233 - val_mae: 0.6214 - 176ms/epoch - 18ms/step\n",
            "Epoch 11/50\n",
            "10/10 - 0s - loss: 0.4626 - mae: 0.4960 - val_loss: 0.7391 - val_mae: 0.6179 - 185ms/epoch - 19ms/step\n",
            "Epoch 12/50\n",
            "10/10 - 0s - loss: 0.4231 - mae: 0.4770 - val_loss: 0.7040 - val_mae: 0.6013 - 185ms/epoch - 19ms/step\n",
            "Epoch 13/50\n",
            "10/10 - 0s - loss: 0.3742 - mae: 0.4475 - val_loss: 0.6849 - val_mae: 0.5791 - 184ms/epoch - 18ms/step\n",
            "Epoch 14/50\n",
            "10/10 - 0s - loss: 0.3397 - mae: 0.4167 - val_loss: 0.6824 - val_mae: 0.5675 - 178ms/epoch - 18ms/step\n",
            "Epoch 15/50\n",
            "10/10 - 0s - loss: 0.3264 - mae: 0.4043 - val_loss: 0.6367 - val_mae: 0.5488 - 196ms/epoch - 20ms/step\n",
            "Epoch 16/50\n",
            "10/10 - 0s - loss: 0.3157 - mae: 0.3944 - val_loss: 0.6201 - val_mae: 0.5390 - 189ms/epoch - 19ms/step\n",
            "Epoch 17/50\n",
            "10/10 - 0s - loss: 0.3078 - mae: 0.3876 - val_loss: 0.6192 - val_mae: 0.5346 - 178ms/epoch - 18ms/step\n",
            "Epoch 18/50\n",
            "10/10 - 0s - loss: 0.3001 - mae: 0.3820 - val_loss: 0.6198 - val_mae: 0.5312 - 180ms/epoch - 18ms/step\n",
            "Epoch 19/50\n",
            "10/10 - 0s - loss: 0.2933 - mae: 0.3772 - val_loss: 0.6250 - val_mae: 0.5303 - 184ms/epoch - 18ms/step\n",
            "Epoch 20/50\n",
            "10/10 - 0s - loss: 0.2876 - mae: 0.3730 - val_loss: 0.6192 - val_mae: 0.5258 - 191ms/epoch - 19ms/step\n",
            "Epoch 21/50\n",
            "10/10 - 0s - loss: 0.2825 - mae: 0.3691 - val_loss: 0.6140 - val_mae: 0.5219 - 194ms/epoch - 19ms/step\n",
            "Epoch 22/50\n",
            "10/10 - 0s - loss: 0.2778 - mae: 0.3656 - val_loss: 0.6102 - val_mae: 0.5187 - 186ms/epoch - 19ms/step\n",
            "Epoch 23/50\n",
            "10/10 - 0s - loss: 0.2737 - mae: 0.3623 - val_loss: 0.6058 - val_mae: 0.5157 - 179ms/epoch - 18ms/step\n",
            "Epoch 24/50\n",
            "10/10 - 0s - loss: 0.2699 - mae: 0.3594 - val_loss: 0.6029 - val_mae: 0.5135 - 188ms/epoch - 19ms/step\n",
            "Epoch 25/50\n",
            "10/10 - 0s - loss: 0.2667 - mae: 0.3569 - val_loss: 0.5978 - val_mae: 0.5109 - 188ms/epoch - 19ms/step\n",
            "Epoch 26/50\n",
            "10/10 - 0s - loss: 0.2636 - mae: 0.3545 - val_loss: 0.5965 - val_mae: 0.5098 - 182ms/epoch - 18ms/step\n",
            "Epoch 27/50\n",
            "10/10 - 0s - loss: 0.2610 - mae: 0.3526 - val_loss: 0.5906 - val_mae: 0.5074 - 201ms/epoch - 20ms/step\n",
            "Epoch 28/50\n",
            "10/10 - 0s - loss: 0.2585 - mae: 0.3507 - val_loss: 0.5876 - val_mae: 0.5060 - 205ms/epoch - 20ms/step\n",
            "Epoch 29/50\n",
            "10/10 - 0s - loss: 0.2564 - mae: 0.3492 - val_loss: 0.5801 - val_mae: 0.5032 - 319ms/epoch - 32ms/step\n",
            "Epoch 30/50\n",
            "10/10 - 0s - loss: 0.2543 - mae: 0.3477 - val_loss: 0.5774 - val_mae: 0.5022 - 315ms/epoch - 31ms/step\n",
            "Epoch 31/50\n",
            "10/10 - 0s - loss: 0.2526 - mae: 0.3465 - val_loss: 0.5717 - val_mae: 0.5002 - 317ms/epoch - 32ms/step\n",
            "Epoch 32/50\n",
            "10/10 - 0s - loss: 0.2509 - mae: 0.3453 - val_loss: 0.5682 - val_mae: 0.4991 - 320ms/epoch - 32ms/step\n",
            "Epoch 33/50\n",
            "10/10 - 0s - loss: 0.2494 - mae: 0.3442 - val_loss: 0.5646 - val_mae: 0.4978 - 311ms/epoch - 31ms/step\n",
            "Epoch 34/50\n",
            "10/10 - 0s - loss: 0.2481 - mae: 0.3434 - val_loss: 0.5623 - val_mae: 0.4969 - 302ms/epoch - 30ms/step\n",
            "Epoch 35/50\n",
            "10/10 - 0s - loss: 0.2468 - mae: 0.3426 - val_loss: 0.5579 - val_mae: 0.4956 - 362ms/epoch - 36ms/step\n",
            "Epoch 36/50\n",
            "10/10 - 0s - loss: 0.2456 - mae: 0.3419 - val_loss: 0.5565 - val_mae: 0.4951 - 320ms/epoch - 32ms/step\n",
            "Epoch 37/50\n",
            "10/10 - 0s - loss: 0.2446 - mae: 0.3413 - val_loss: 0.5529 - val_mae: 0.4938 - 307ms/epoch - 31ms/step\n",
            "Epoch 38/50\n",
            "10/10 - 0s - loss: 0.2436 - mae: 0.3407 - val_loss: 0.5512 - val_mae: 0.4933 - 179ms/epoch - 18ms/step\n",
            "Epoch 39/50\n",
            "10/10 - 0s - loss: 0.2426 - mae: 0.3401 - val_loss: 0.5496 - val_mae: 0.4928 - 175ms/epoch - 18ms/step\n",
            "Epoch 40/50\n",
            "10/10 - 0s - loss: 0.2417 - mae: 0.3395 - val_loss: 0.5483 - val_mae: 0.4924 - 173ms/epoch - 17ms/step\n",
            "Epoch 41/50\n",
            "10/10 - 0s - loss: 0.2408 - mae: 0.3390 - val_loss: 0.5451 - val_mae: 0.4913 - 178ms/epoch - 18ms/step\n",
            "Epoch 42/50\n",
            "10/10 - 0s - loss: 0.2400 - mae: 0.3385 - val_loss: 0.5432 - val_mae: 0.4907 - 186ms/epoch - 19ms/step\n",
            "Epoch 43/50\n",
            "10/10 - 0s - loss: 0.2392 - mae: 0.3380 - val_loss: 0.5428 - val_mae: 0.4907 - 188ms/epoch - 19ms/step\n",
            "Epoch 44/50\n",
            "10/10 - 0s - loss: 0.2383 - mae: 0.3375 - val_loss: 0.5413 - val_mae: 0.4902 - 175ms/epoch - 18ms/step\n",
            "Epoch 45/50\n",
            "10/10 - 0s - loss: 0.2376 - mae: 0.3371 - val_loss: 0.5396 - val_mae: 0.4895 - 210ms/epoch - 21ms/step\n",
            "Epoch 46/50\n",
            "10/10 - 0s - loss: 0.2370 - mae: 0.3367 - val_loss: 0.5384 - val_mae: 0.4893 - 204ms/epoch - 20ms/step\n",
            "Epoch 47/50\n",
            "10/10 - 0s - loss: 0.2362 - mae: 0.3363 - val_loss: 0.5400 - val_mae: 0.4899 - 159ms/epoch - 16ms/step\n",
            "Epoch 48/50\n",
            "10/10 - 0s - loss: 0.2356 - mae: 0.3359 - val_loss: 0.5399 - val_mae: 0.4899 - 227ms/epoch - 23ms/step\n",
            "Epoch 49/50\n",
            "10/10 - 0s - loss: 0.2349 - mae: 0.3354 - val_loss: 0.5397 - val_mae: 0.4898 - 161ms/epoch - 16ms/step\n",
            "Epoch 50/50\n",
            "10/10 - 0s - loss: 0.2343 - mae: 0.3351 - val_loss: 0.5389 - val_mae: 0.4894 - 174ms/epoch - 17ms/step\n"
          ]
        }
      ]
    },
    {
      "cell_type": "code",
      "source": [
        "# Plot model history\n",
        "plot_history(model_lstm_history, test_score, val_score)"
      ],
      "metadata": {
        "colab": {
          "base_uri": "https://localhost:8080/",
          "height": 256
        },
        "id": "no6SGxd4ol9J",
        "outputId": "29472004-1c1a-4f33-b09c-cb860c42dcce"
      },
      "execution_count": 15,
      "outputs": [
        {
          "output_type": "display_data",
          "data": {
            "text/plain": [
              "<Figure size 600x200 with 2 Axes>"
            ],
            "image/png": "[encoded data removed]"
          },
          "metadata": {}
        }
      ]
    },
    {
      "cell_type": "markdown",
      "source": [
        "# Invoke prediction"
      ],
      "metadata": {
        "id": "kJVKt7AXqDrb"
      }
    },
    {
      "cell_type": "code",
      "source": [
        "# Load model and tokenizer\n",
        "loaded_model = load_model('/content/forecaster_lstm.hdf5')\n",
        "scaler = pickle.load(open(path_scaler, 'rb'))"
      ],
      "metadata": {
        "colab": {
          "base_uri": "https://localhost:8080/"
        },
        "id": "DkfNphlkqFB_",
        "outputId": "f58c3297-4ea8-486f-f278-558be1fcf891"
      },
      "execution_count": 16,
      "outputs": [
        {
          "output_type": "stream",
          "name": "stderr",
          "text": [
            "WARNING:tensorflow:Layer lstm_4 will not use cuDNN kernels since it doesn't meet the criteria. It will use a generic GPU kernel as fallback when running on GPU.\n",
            "WARNING:tensorflow:Layer lstm_5 will not use cuDNN kernels since it doesn't meet the criteria. It will use a generic GPU kernel as fallback when running on GPU.\n",
            "/usr/local/lib/python3.10/dist-packages/sklearn/base.py:318: UserWarning: Trying to unpickle estimator StandardScaler from version 1.3.0 when using version 1.2.2. This might lead to breaking code or invalid results. Use at your own risk. For more info please refer to:\n",
            "https://scikit-learn.org/stable/model_persistence.html#security-maintainability-limitations\n",
            "  warnings.warn(\n"
          ]
        }
      ]
    },
    {
      "cell_type": "code",
      "source": [
        "def invert_transform_pred(pred, X_):\n",
        "    # Invert the prediction scaling\n",
        "    n_features = X_.shape[2]\n",
        "    inv_X = X_.reshape((X_.shape[0], X_.shape[1] * X_.shape[2]))\n",
        "    inv_X = np.concatenate((pred, inv_X[:, -n_features+1:]), axis=1)\n",
        "    inv_X = scaler.inverse_transform(inv_X)\n",
        "    inv_pred = inv_X[:,0]\n",
        "    return inv_pred"
      ],
      "metadata": {
        "id": "5-V_0x5XQg4w"
      },
      "execution_count": 32,
      "outputs": []
    },
    {
      "cell_type": "code",
      "source": [
        "# Forecast\n",
        "pred_train = loaded_model.predict(X_train)\n",
        "pred_train = invert_transform_pred(pred_train, X_train)\n",
        "pred_train[:5]"
      ],
      "metadata": {
        "colab": {
          "base_uri": "https://localhost:8080/"
        },
        "id": "J9NwrVT4abyh",
        "outputId": "2834ffa1-327d-4936-fcc7-6b934174e41a"
      },
      "execution_count": 33,
      "outputs": [
        {
          "output_type": "stream",
          "name": "stdout",
          "text": [
            "145/145 [==============================] - 1s 4ms/step\n"
          ]
        },
        {
          "output_type": "execute_result",
          "data": {
            "text/plain": [
              "array([2.18771356, 2.21906796, 1.45164605, 1.03344034, 1.04685421])"
            ]
          },
          "metadata": {},
          "execution_count": 33
        }
      ]
    },
    {
      "cell_type": "code",
      "source": [
        "# Forecast\n",
        "pred_val = loaded_model.predict(X_val)\n",
        "invert_transform_pred(pred_val, X_val)\n",
        "pred_val[:5]"
      ],
      "metadata": {
        "colab": {
          "base_uri": "https://localhost:8080/"
        },
        "id": "iI-D6msCbR2V",
        "outputId": "7e94685d-646b-419f-f95d-3916a8f41e4b"
      },
      "execution_count": 34,
      "outputs": [
        {
          "output_type": "stream",
          "name": "stdout",
          "text": [
            "34/34 [==============================] - 0s 7ms/step\n"
          ]
        },
        {
          "output_type": "execute_result",
          "data": {
            "text/plain": [
              "array([[-0.04392144],\n",
              "       [ 0.07865576],\n",
              "       [ 0.01788398],\n",
              "       [ 0.39381292],\n",
              "       [ 0.30008128]], dtype=float32)"
            ]
          },
          "metadata": {},
          "execution_count": 34
        }
      ]
    },
    {
      "cell_type": "code",
      "source": [
        "# Std of the true values\n",
        "print(y_train.std())\n",
        "print(y_val.std())"
      ],
      "metadata": {
        "colab": {
          "base_uri": "https://localhost:8080/"
        },
        "id": "bAJ8v5hscHII",
        "outputId": "f118bd8b-f138-40ab-b104-6175bbef549c"
      },
      "execution_count": 40,
      "outputs": [
        {
          "output_type": "stream",
          "name": "stdout",
          "text": [
            "1.000192160348336\n",
            "1.3698552164325488\n"
          ]
        }
      ]
    },
    {
      "cell_type": "code",
      "source": [
        "# Evaluate the MAE\n",
        "print(f'Train MAE: {round(mean_absolute_error(y_train, pred_train), 3)}')\n",
        "print(f'Val MAE: {round(mean_absolute_error(y_val, pred_val), 3)}')"
      ],
      "metadata": {
        "colab": {
          "base_uri": "https://localhost:8080/"
        },
        "id": "7Wf64X5Ra_D2",
        "outputId": "a7bb72bf-49fa-4c5e-8e38-dc48107c4938"
      },
      "execution_count": 37,
      "outputs": [
        {
          "output_type": "stream",
          "name": "stdout",
          "text": [
            "Train MAE: 1.828\n",
            "Val MAE: 0.489\n"
          ]
        }
      ]
    },
    {
      "cell_type": "code",
      "source": [
        "# Save\n",
        "pd.DataFrame(pred_train).to_csv('pred_train.csv', index=False)\n",
        "pd.DataFrame(pred_val).to_csv('pred_val.csv', index=False)"
      ],
      "metadata": {
        "id": "B8yr6kEVbjFF"
      },
      "execution_count": 39,
      "outputs": []
    }
  ]
}