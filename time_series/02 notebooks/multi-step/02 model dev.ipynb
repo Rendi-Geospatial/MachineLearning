{
  "nbformat": 4,
  "nbformat_minor": 0,
  "metadata": {
    "colab": {
      "provenance": [],
      "gpuType": "T4"
    },
    "kernelspec": {
      "name": "python3",
      "display_name": "Python 3"
    },
    "language_info": {
      "name": "python"
    },
    "accelerator": "GPU"
  },
  "cells": [
    {
      "cell_type": "code",
      "source": [
        "# Input:\n",
        "path_x_train = '/content/X_train.npy'\n",
        "path_y_train = '/content/y_train.npy'\n",
        "path_x_val = '/content/X_val.npy'\n",
        "path_y_val = '/content/y_val.npy'\n",
        "epochs=30\n",
        "metrics = ['mae']\n",
        "batch_size=500\n",
        "monitor='val_mae'\n",
        "mode='min'\n",
        "patience=5\n",
        "test_score, val_score = 'mae', 'val_mae'\n",
        "n_out = 2"
      ],
      "metadata": {
        "id": "qVQJul6ZlkNF"
      },
      "execution_count": null,
      "outputs": []
    },
    {
      "cell_type": "code",
      "source": [
        "import numpy as np\n",
        "import pandas as pd\n",
        "import matplotlib.pyplot as plt\n",
        "from sklearn.metrics import mean_absolute_error\n",
        "import pickle\n",
        "import tensorflow as tf\n",
        "from keras.models import Sequential\n",
        "from keras.layers import Dense, LSTM, TimeDistributed, Conv1D, MaxPooling1D, Flatten, ConvLSTM2D, Bidirectional\n",
        "from keras.callbacks import EarlyStopping, ModelCheckpoint\n",
        "from keras.models import load_model"
      ],
      "metadata": {
        "id": "XJifwXrzaO-O"
      },
      "execution_count": null,
      "outputs": []
    },
    {
      "cell_type": "code",
      "source": [
        "# Load data\n",
        "X_train = np.load(open(path_x_train, 'rb'))\n",
        "y_train = np.load(open(path_y_train, 'rb'))\n",
        "X_val = np.load(open(path_x_val, 'rb'))\n",
        "y_val = np.load(open(path_y_val, 'rb'))"
      ],
      "metadata": {
        "id": "ZWdwTyAeaWHV"
      },
      "execution_count": null,
      "outputs": []
    },
    {
      "cell_type": "code",
      "source": [
        "print(\"X_train: \", X_train.shape, \"| y_train: \", y_train.shape)\n",
        "print(\"X_val: \", X_val.shape, \"| y_val: \", y_val.shape)"
      ],
      "metadata": {
        "colab": {
          "base_uri": "https://localhost:8080/"
        },
        "id": "Y3oyH2q2scPY",
        "outputId": "5b2117be-df08-49a6-b37b-3bfce0bb3802"
      },
      "execution_count": null,
      "outputs": [
        {
          "output_type": "stream",
          "name": "stdout",
          "text": [
            "X_train:  (4620, 3, 6) | y_train:  (4620, 2)\n",
            "X_val:  (1067, 3, 6) | y_val:  (1067, 2)\n"
          ]
        }
      ]
    },
    {
      "cell_type": "code",
      "source": [
        "# LSTM architecture\n",
        "def build_lstm_model(X_train):\n",
        "    model = Sequential()\n",
        "    model.add(LSTM(64, activation='relu', return_sequences=True, input_shape=(X_train.shape[1], X_train.shape[2])))\n",
        "    model.add(LSTM(32, activation='relu'))\n",
        "    model.add(Dense(n_out))\n",
        "    opt = tf.keras.optimizers.Adam(learning_rate=1e-3)\n",
        "    model.compile(loss='mse', optimizer=opt, metrics=metrics)\n",
        "\n",
        "    return model"
      ],
      "metadata": {
        "id": "Z8bvVQ8OaiCG"
      },
      "execution_count": null,
      "outputs": []
    },
    {
      "cell_type": "code",
      "source": [
        "# Set callbacks\n",
        "def create_callbacks(model_name, monitor, mode, patience):\n",
        "    # Early stopping\n",
        "    es = EarlyStopping(\n",
        "        monitor=monitor, mode=mode, verbose=0, patience=patience, restore_best_weights=True\n",
        "    )\n",
        "\n",
        "    # Checkpoint\n",
        "    checkpoint = ModelCheckpoint(\n",
        "        filepath=model_name,\n",
        "        monitor=monitor,\n",
        "        mode=mode,\n",
        "        save_best_only=True\n",
        "    )\n",
        "\n",
        "    return es, checkpoint"
      ],
      "metadata": {
        "id": "UPxqUHTglMfj"
      },
      "execution_count": null,
      "outputs": []
    },
    {
      "cell_type": "code",
      "source": [
        "# Fit model\n",
        "def fit_model(model, es, checkpoint, X_train, y_train, X_val, y_val):\n",
        "    model_history = model.fit(\n",
        "        X_train,\n",
        "        y_train,\n",
        "        epochs=epochs,\n",
        "        batch_size=batch_size,\n",
        "        validation_data=(X_val, y_val),\n",
        "        callbacks=[checkpoint, es],\n",
        "        shuffle=False,\n",
        "        verbose=2\n",
        "    )\n",
        "    return model, model_history"
      ],
      "metadata": {
        "id": "dKuaUrRElWAv"
      },
      "execution_count": null,
      "outputs": []
    },
    {
      "cell_type": "code",
      "source": [
        "# Plot model history\n",
        "def plot_history(model_history, test_score, val_score):\n",
        "    # Visualize the CNN training history\n",
        "    fig, ax = plt.subplots(1, 2, figsize=(6,2))\n",
        "\n",
        "    # Accuracy\n",
        "    ax[0].plot(model_history.history[test_score])\n",
        "    ax[0].plot(model_history.history[val_score])\n",
        "    ax[0].set_title(test_score)\n",
        "    ax[0].set_ylabel(test_score)\n",
        "    ax[0].set_xlabel('epoch')\n",
        "    ax[0].legend(['train', 'val'], loc='upper left')\n",
        "\n",
        "    # Loss\n",
        "    ax[1].plot(model_history.history['loss'])\n",
        "    ax[1].plot(model_history.history['val_loss'])\n",
        "    ax[1].set_title('loss')\n",
        "    ax[1].set_ylabel('loss')\n",
        "    ax[1].set_xlabel('epoch')\n",
        "    ax[1].legend(['train', 'val'], loc='upper left')\n",
        "    plt.show()"
      ],
      "metadata": {
        "id": "frym2jGamQAI"
      },
      "execution_count": null,
      "outputs": []
    },
    {
      "cell_type": "code",
      "source": [
        "# Create callbacks\n",
        "es, checkpoint = create_callbacks('forecaster_vector.hdf5', monitor, mode, patience)\n",
        "# Build model architecture\n",
        "model_lstm = build_lstm_model(X_train)\n",
        "# Fit the model\n",
        "model_lstm, model_lstm_history = fit_model(\n",
        "    model_lstm, es, checkpoint, X_train, y_train, X_val, y_val\n",
        ")"
      ],
      "metadata": {
        "id": "yAam8HYha_9w",
        "colab": {
          "base_uri": "https://localhost:8080/"
        },
        "outputId": "60b1f70a-5447-4b48-9cfb-b14ee3b57249"
      },
      "execution_count": null,
      "outputs": [
        {
          "output_type": "stream",
          "name": "stderr",
          "text": [
            "WARNING:tensorflow:Layer lstm_2 will not use cuDNN kernels since it doesn't meet the criteria. It will use a generic GPU kernel as fallback when running on GPU.\n",
            "WARNING:tensorflow:Layer lstm_3 will not use cuDNN kernels since it doesn't meet the criteria. It will use a generic GPU kernel as fallback when running on GPU.\n"
          ]
        },
        {
          "output_type": "stream",
          "name": "stdout",
          "text": [
            "Epoch 1/30\n",
            "10/10 - 5s - loss: 0.9587 - mae: 0.7508 - val_loss: 1.8714 - val_mae: 1.0111 - 5s/epoch - 457ms/step\n",
            "Epoch 2/30\n"
          ]
        },
        {
          "output_type": "stream",
          "name": "stderr",
          "text": [
            "/usr/local/lib/python3.10/dist-packages/keras/src/engine/training.py:3103: UserWarning: You are saving your model as an HDF5 file via `model.save()`. This file format is considered legacy. We recommend using instead the native Keras format, e.g. `model.save('my_model.keras')`.\n",
            "  saving_api.save_model(\n"
          ]
        },
        {
          "output_type": "stream",
          "name": "stdout",
          "text": [
            "10/10 - 0s - loss: 0.8960 - mae: 0.7182 - val_loss: 1.5581 - val_mae: 0.9256 - 184ms/epoch - 18ms/step\n",
            "Epoch 3/30\n",
            "10/10 - 0s - loss: 0.8319 - mae: 0.6849 - val_loss: 1.4693 - val_mae: 0.8893 - 158ms/epoch - 16ms/step\n",
            "Epoch 4/30\n",
            "10/10 - 0s - loss: 0.7958 - mae: 0.6486 - val_loss: 1.4267 - val_mae: 0.8630 - 156ms/epoch - 16ms/step\n",
            "Epoch 5/30\n",
            "10/10 - 0s - loss: 0.7737 - mae: 0.6332 - val_loss: 1.3344 - val_mae: 0.8413 - 168ms/epoch - 17ms/step\n",
            "Epoch 6/30\n",
            "10/10 - 0s - loss: 0.7322 - mae: 0.6254 - val_loss: 1.2596 - val_mae: 0.8091 - 155ms/epoch - 15ms/step\n",
            "Epoch 7/30\n",
            "10/10 - 0s - loss: 0.6679 - mae: 0.5937 - val_loss: 1.1542 - val_mae: 0.7598 - 185ms/epoch - 19ms/step\n",
            "Epoch 8/30\n",
            "10/10 - 0s - loss: 0.5765 - mae: 0.5549 - val_loss: 1.0891 - val_mae: 0.7261 - 160ms/epoch - 16ms/step\n",
            "Epoch 9/30\n",
            "10/10 - 0s - loss: 0.5115 - mae: 0.5127 - val_loss: 0.9842 - val_mae: 0.6780 - 160ms/epoch - 16ms/step\n",
            "Epoch 10/30\n",
            "10/10 - 0s - loss: 0.4908 - mae: 0.4970 - val_loss: 1.0488 - val_mae: 0.6927 - 147ms/epoch - 15ms/step\n",
            "Epoch 11/30\n",
            "10/10 - 0s - loss: 0.4800 - mae: 0.4904 - val_loss: 0.9773 - val_mae: 0.6666 - 155ms/epoch - 15ms/step\n",
            "Epoch 12/30\n",
            "10/10 - 0s - loss: 0.4604 - mae: 0.4766 - val_loss: 1.0115 - val_mae: 0.6715 - 161ms/epoch - 16ms/step\n",
            "Epoch 13/30\n",
            "10/10 - 0s - loss: 0.4506 - mae: 0.4718 - val_loss: 1.0132 - val_mae: 0.6669 - 151ms/epoch - 15ms/step\n",
            "Epoch 14/30\n",
            "10/10 - 0s - loss: 0.4402 - mae: 0.4635 - val_loss: 1.0287 - val_mae: 0.6693 - 131ms/epoch - 13ms/step\n",
            "Epoch 15/30\n",
            "10/10 - 0s - loss: 0.4300 - mae: 0.4575 - val_loss: 1.0388 - val_mae: 0.6684 - 140ms/epoch - 14ms/step\n",
            "Epoch 16/30\n",
            "10/10 - 0s - loss: 0.4224 - mae: 0.4529 - val_loss: 1.0447 - val_mae: 0.6686 - 152ms/epoch - 15ms/step\n"
          ]
        }
      ]
    },
    {
      "cell_type": "code",
      "source": [
        "# Plot model history\n",
        "plot_history(model_lstm_history, test_score, val_score)"
      ],
      "metadata": {
        "id": "GWO3Rrj0bSnm",
        "colab": {
          "base_uri": "https://localhost:8080/",
          "height": 256
        },
        "outputId": "a1f60bba-0d8f-4ad2-cc1b-babadf0c716a"
      },
      "execution_count": null,
      "outputs": [
        {
          "output_type": "display_data",
          "data": {
            "text/plain": [
              "<Figure size 600x200 with 2 Axes>"
            ],
            "image/png": "[encoded data removed]"
          },
          "metadata": {}
        }
      ]
    }
  ]
}