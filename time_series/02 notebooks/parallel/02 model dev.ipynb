{
  "cells": [
    {
      "cell_type": "code",
      "execution_count": 1,
      "metadata": {
        "id": "qVQJul6ZlkNF"
      },
      "outputs": [],
      "source": [
        "# Input:\n",
        "path_x_train = '/content/X_train.npy'\n",
        "path_y_train = '/content/y_train.npy'\n",
        "path_x_val = '/content/X_val.npy'\n",
        "path_y_val = '/content/y_val.npy'\n",
        "epochs=30\n",
        "metrics = ['mae']\n",
        "batch_size=500\n",
        "model_name='forecaster_parallel.hdf5'\n",
        "monitor='val_mae'\n",
        "mode='min'\n",
        "patience=5\n",
        "test_score, val_score = 'mae', 'val_mae'"
      ]
    },
    {
      "cell_type": "code",
      "execution_count": 2,
      "metadata": {
        "id": "XJifwXrzaO-O"
      },
      "outputs": [],
      "source": [
        "import numpy as np\n",
        "import pandas as pd\n",
        "import matplotlib.pyplot as plt\n",
        "from sklearn.metrics import mean_absolute_error\n",
        "import pickle\n",
        "import tensorflow as tf\n",
        "from keras.models import Sequential\n",
        "from keras.layers import Dense, LSTM, TimeDistributed, Conv1D, MaxPooling1D, Flatten, ConvLSTM2D, Bidirectional\n",
        "from keras.callbacks import EarlyStopping, ModelCheckpoint\n",
        "from keras.models import load_model"
      ]
    },
    {
      "cell_type": "code",
      "execution_count": 3,
      "metadata": {
        "id": "ZWdwTyAeaWHV"
      },
      "outputs": [],
      "source": [
        "# Load data\n",
        "X_train = np.load(open(path_x_train, 'rb'))\n",
        "y_train = np.load(open(path_y_train, 'rb'))\n",
        "X_val = np.load(open(path_x_val, 'rb'))\n",
        "y_val = np.load(open(path_y_val, 'rb'))"
      ]
    },
    {
      "cell_type": "code",
      "execution_count": 4,
      "metadata": {
        "colab": {
          "base_uri": "https://localhost:8080/"
        },
        "id": "Y3oyH2q2scPY",
        "outputId": "e3f6feea-543d-4f93-c87f-fd8eb01845f1"
      },
      "outputs": [
        {
          "name": "stdout",
          "output_type": "stream",
          "text": [
            "X_train:  (4620, 3, 3) | y_train:  (4620, 3)\n",
            "X_val:  (1067, 3, 3) | y_val:  (1067, 3)\n"
          ]
        }
      ],
      "source": [
        "print(\"X_train: \", X_train.shape, \"| y_train: \", y_train.shape)\n",
        "print(\"X_val: \", X_val.shape, \"| y_val: \", y_val.shape)"
      ]
    },
    {
      "cell_type": "code",
      "execution_count": 9,
      "metadata": {
        "id": "Z8bvVQ8OaiCG"
      },
      "outputs": [],
      "source": [
        "# LSTM architecture\n",
        "def build_lstm_model(X_train):\n",
        "    model = Sequential()\n",
        "    model.add(LSTM(64, activation='relu', return_sequences=True, input_shape=(X_train.shape[1], X_train.shape[2])))\n",
        "    model.add(LSTM(32, activation='relu'))\n",
        "    model.add(Dense(X_train.shape[2]))\n",
        "    opt = tf.keras.optimizers.Adam(learning_rate=1e-3)\n",
        "    model.compile(loss='mse', optimizer=opt, metrics=metrics)\n",
        "\n",
        "    return model"
      ]
    },
    {
      "cell_type": "code",
      "execution_count": 6,
      "metadata": {
        "id": "UPxqUHTglMfj"
      },
      "outputs": [],
      "source": [
        "# Set callbacks\n",
        "def create_callbacks(model_name, monitor, mode, patience):\n",
        "    # Early stopping\n",
        "    es = EarlyStopping(\n",
        "        monitor=monitor, mode=mode, verbose=0, patience=patience, restore_best_weights=True\n",
        "    )\n",
        "\n",
        "    # Checkpoint\n",
        "    checkpoint = ModelCheckpoint(\n",
        "        filepath=model_name,\n",
        "        monitor=monitor,\n",
        "        mode=mode,\n",
        "        save_best_only=True\n",
        "    )\n",
        "\n",
        "    return es, checkpoint"
      ]
    },
    {
      "cell_type": "code",
      "execution_count": 7,
      "metadata": {
        "id": "dKuaUrRElWAv"
      },
      "outputs": [],
      "source": [
        "# Fit model\n",
        "def fit_model(model, es, checkpoint, X_train, y_train, X_val, y_val):\n",
        "    model_history = model.fit(\n",
        "        X_train,\n",
        "        y_train,\n",
        "        epochs=epochs,\n",
        "        batch_size=batch_size,\n",
        "        validation_data=(X_val, y_val),\n",
        "        callbacks=[checkpoint, es],\n",
        "        shuffle=False,\n",
        "        verbose=2\n",
        "    )\n",
        "    return model, model_history"
      ]
    },
    {
      "cell_type": "code",
      "execution_count": 8,
      "metadata": {
        "id": "frym2jGamQAI"
      },
      "outputs": [],
      "source": [
        "# Plot model history\n",
        "def plot_history(model_history, test_score, val_score):\n",
        "    # Visualize the CNN training history\n",
        "    fig, ax = plt.subplots(1, 2, figsize=(6,2))\n",
        "\n",
        "    # Accuracy\n",
        "    ax[0].plot(model_history.history[test_score])\n",
        "    ax[0].plot(model_history.history[val_score])\n",
        "    ax[0].set_title(test_score)\n",
        "    ax[0].set_ylabel(test_score)\n",
        "    ax[0].set_xlabel('epoch')\n",
        "    ax[0].legend(['train', 'val'], loc='upper left')\n",
        "\n",
        "    # Loss\n",
        "    ax[1].plot(model_history.history['loss'])\n",
        "    ax[1].plot(model_history.history['val_loss'])\n",
        "    ax[1].set_title('loss')\n",
        "    ax[1].set_ylabel('loss')\n",
        "    ax[1].set_xlabel('epoch')\n",
        "    ax[1].legend(['train', 'val'], loc='upper left')\n",
        "    plt.show()"
      ]
    },
    {
      "cell_type": "code",
      "execution_count": 11,
      "metadata": {
        "colab": {
          "base_uri": "https://localhost:8080/"
        },
        "id": "yAam8HYha_9w",
        "outputId": "3a51d385-454c-4f80-ec79-9bb7dafc272d"
      },
      "outputs": [
        {
          "name": "stderr",
          "output_type": "stream",
          "text": [
            "WARNING:tensorflow:Layer lstm_2 will not use cuDNN kernels since it doesn't meet the criteria. It will use a generic GPU kernel as fallback when running on GPU.\n",
            "WARNING:tensorflow:Layer lstm_3 will not use cuDNN kernels since it doesn't meet the criteria. It will use a generic GPU kernel as fallback when running on GPU.\n"
          ]
        },
        {
          "name": "stdout",
          "output_type": "stream",
          "text": [
            "Epoch 1/30\n",
            "10/10 - 4s - loss: 0.9851 - mae: 0.7601 - val_loss: 3.7836 - val_mae: 1.3732 - 4s/epoch - 381ms/step\n",
            "Epoch 2/30\n",
            "10/10 - 0s - loss: 0.9485 - mae: 0.7442 - val_loss: 3.4772 - val_mae: 1.3143 - 343ms/epoch - 34ms/step\n",
            "Epoch 3/30\n",
            "10/10 - 0s - loss: 0.8986 - mae: 0.7213 - val_loss: 2.8701 - val_mae: 1.1947 - 474ms/epoch - 47ms/step\n",
            "Epoch 4/30\n",
            "10/10 - 0s - loss: 0.8231 - mae: 0.6854 - val_loss: 2.4751 - val_mae: 1.0979 - 176ms/epoch - 18ms/step\n",
            "Epoch 5/30\n",
            "10/10 - 0s - loss: 0.7625 - mae: 0.6454 - val_loss: 2.2106 - val_mae: 1.0356 - 181ms/epoch - 18ms/step\n",
            "Epoch 6/30\n",
            "10/10 - 0s - loss: 0.7025 - mae: 0.5955 - val_loss: 2.0011 - val_mae: 0.9842 - 174ms/epoch - 17ms/step\n",
            "Epoch 7/30\n",
            "10/10 - 0s - loss: 0.6423 - mae: 0.5651 - val_loss: 1.7250 - val_mae: 0.9227 - 170ms/epoch - 17ms/step\n",
            "Epoch 8/30\n",
            "10/10 - 0s - loss: 0.5654 - mae: 0.5361 - val_loss: 1.3642 - val_mae: 0.8155 - 195ms/epoch - 19ms/step\n",
            "Epoch 9/30\n",
            "10/10 - 0s - loss: 0.4498 - mae: 0.4782 - val_loss: 1.0477 - val_mae: 0.7061 - 176ms/epoch - 18ms/step\n",
            "Epoch 10/30\n",
            "10/10 - 0s - loss: 0.3768 - mae: 0.4239 - val_loss: 1.2325 - val_mae: 0.7393 - 156ms/epoch - 16ms/step\n",
            "Epoch 11/30\n",
            "10/10 - 0s - loss: 0.3592 - mae: 0.4129 - val_loss: 0.9805 - val_mae: 0.6813 - 178ms/epoch - 18ms/step\n",
            "Epoch 12/30\n",
            "10/10 - 0s - loss: 0.3484 - mae: 0.4112 - val_loss: 0.9003 - val_mae: 0.6580 - 174ms/epoch - 17ms/step\n",
            "Epoch 13/30\n",
            "10/10 - 0s - loss: 0.3344 - mae: 0.3956 - val_loss: 0.9202 - val_mae: 0.6620 - 268ms/epoch - 27ms/step\n",
            "Epoch 14/30\n",
            "10/10 - 0s - loss: 0.3252 - mae: 0.3889 - val_loss: 0.9262 - val_mae: 0.6601 - 307ms/epoch - 31ms/step\n",
            "Epoch 15/30\n",
            "10/10 - 0s - loss: 0.3196 - mae: 0.3863 - val_loss: 0.8977 - val_mae: 0.6495 - 241ms/epoch - 24ms/step\n",
            "Epoch 16/30\n",
            "10/10 - 0s - loss: 0.3141 - mae: 0.3821 - val_loss: 0.8890 - val_mae: 0.6449 - 164ms/epoch - 16ms/step\n",
            "Epoch 17/30\n",
            "10/10 - 0s - loss: 0.3086 - mae: 0.3777 - val_loss: 0.8848 - val_mae: 0.6416 - 174ms/epoch - 17ms/step\n",
            "Epoch 18/30\n",
            "10/10 - 0s - loss: 0.3039 - mae: 0.3746 - val_loss: 0.8828 - val_mae: 0.6391 - 171ms/epoch - 17ms/step\n",
            "Epoch 19/30\n",
            "10/10 - 0s - loss: 0.2999 - mae: 0.3720 - val_loss: 0.8818 - val_mae: 0.6364 - 176ms/epoch - 18ms/step\n",
            "Epoch 20/30\n",
            "10/10 - 0s - loss: 0.2961 - mae: 0.3691 - val_loss: 0.8846 - val_mae: 0.6349 - 160ms/epoch - 16ms/step\n",
            "Epoch 21/30\n",
            "10/10 - 0s - loss: 0.2924 - mae: 0.3663 - val_loss: 0.8879 - val_mae: 0.6337 - 160ms/epoch - 16ms/step\n",
            "Epoch 22/30\n",
            "10/10 - 0s - loss: 0.2892 - mae: 0.3641 - val_loss: 0.8935 - val_mae: 0.6334 - 177ms/epoch - 18ms/step\n",
            "Epoch 23/30\n",
            "10/10 - 0s - loss: 0.2863 - mae: 0.3622 - val_loss: 0.8993 - val_mae: 0.6337 - 141ms/epoch - 14ms/step\n",
            "Epoch 24/30\n",
            "10/10 - 0s - loss: 0.2837 - mae: 0.3602 - val_loss: 0.9058 - val_mae: 0.6345 - 146ms/epoch - 15ms/step\n",
            "Epoch 25/30\n",
            "10/10 - 0s - loss: 0.2813 - mae: 0.3584 - val_loss: 0.9097 - val_mae: 0.6346 - 153ms/epoch - 15ms/step\n",
            "Epoch 26/30\n",
            "10/10 - 0s - loss: 0.2794 - mae: 0.3570 - val_loss: 0.9170 - val_mae: 0.6360 - 143ms/epoch - 14ms/step\n",
            "Epoch 27/30\n",
            "10/10 - 0s - loss: 0.2775 - mae: 0.3558 - val_loss: 0.9149 - val_mae: 0.6340 - 157ms/epoch - 16ms/step\n"
          ]
        }
      ],
      "source": [
        "# Create callbacks\n",
        "es, checkpoint = create_callbacks(model_name, monitor, mode, patience)\n",
        "# Build model architecture\n",
        "model_lstm = build_lstm_model(X_train)\n",
        "# Fit the model\n",
        "model_lstm, model_lstm_history = fit_model(\n",
        "    model_lstm, es, checkpoint, X_train, y_train, X_val, y_val\n",
        ")"
      ]
    },
    {
      "cell_type": "code",
      "execution_count": 12,
      "metadata": {
        "colab": {
          "base_uri": "https://localhost:8080/",
          "height": 256
        },
        "id": "GWO3Rrj0bSnm",
        "outputId": "fb53d491-a3ca-48b7-fb82-7be904a46fac"
      },
      "outputs": [
        {
          "data": {
            "image/png": "[encoded data removed]",
            "text/plain": [
              "<Figure size 600x200 with 2 Axes>"
            ]
          },
          "metadata": {},
          "output_type": "display_data"
        }
      ],
      "source": [
        "# Plot model history\n",
        "plot_history(model_lstm_history, test_score, val_score)"
      ]
    }
  ],
  "metadata": {
    "accelerator": "GPU",
    "colab": {
      "gpuType": "T4",
      "provenance": []
    },
    "kernelspec": {
      "display_name": "Python 3",
      "name": "python3"
    },
    "language_info": {
      "name": "python"
    }
  },
  "nbformat": 4,
  "nbformat_minor": 0
}
