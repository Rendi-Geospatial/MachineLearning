{
  "cells": [
    {
      "cell_type": "code",
      "execution_count": 1,
      "metadata": {
        "id": "GfOtrLj-LW-x"
      },
      "outputs": [],
      "source": [
        "# Input:\n",
        "train_path = '/content/train'\n",
        "val_path = '/content/val/'\n",
        "classes = ['buildings', 'forest', 'glacier', 'mountain', 'sea', 'street']\n",
        "image_size = (150, 150)\n",
        "n_output = len(classes)\n",
        "\n",
        "metrics=['accuracy']\n",
        "epochs=30\n",
        "batch_size=500\n",
        "model_name='recognizer.hdf5'\n",
        "monitor='val_accuracy'\n",
        "mode='max'\n",
        "patience=10\n",
        "test_score, val_score = 'accuracy', 'val_accuracy'"
      ]
    },
    {
      "cell_type": "code",
      "execution_count": 2,
      "metadata": {
        "colab": {
          "base_uri": "https://localhost:8080/"
        },
        "id": "7f1i9Vm6B5dy",
        "outputId": "eb78837e-fc3c-49e2-bd1a-90cbca0a0702"
      },
      "outputs": [
        {
          "name": "stdout",
          "output_type": "stream",
          "text": [
            "Mounted at /content/drive\n"
          ]
        }
      ],
      "source": [
        "from google.colab import drive\n",
        "drive.mount('/content/drive')"
      ]
    },
    {
      "cell_type": "code",
      "execution_count": 7,
      "metadata": {
        "id": "1ugRrehDCz73"
      },
      "outputs": [],
      "source": [
        "# Copy from drive to colab\n",
        "# !cp \"/content/drive/MyDrive/scene images dataset/val.zip\" /content/\n",
        "# !cp \"/content/drive/MyDrive/scene images dataset/train.zip\" /content/"
      ]
    },
    {
      "cell_type": "code",
      "execution_count": 3,
      "metadata": {
        "colab": {
          "base_uri": "https://localhost:8080/"
        },
        "id": "OpSndFwswJgY",
        "outputId": "4f903cc0-e7fa-44c9-fc0d-817c8a5a88f6"
      },
      "outputs": [
        {
          "name": "stdout",
          "output_type": "stream",
          "text": [
            "Tue Dec 26 02:50:37 2023       \n",
            "+---------------------------------------------------------------------------------------+\n",
            "| NVIDIA-SMI 535.104.05             Driver Version: 535.104.05   CUDA Version: 12.2     |\n",
            "|-----------------------------------------+----------------------+----------------------+\n",
            "| GPU  Name                 Persistence-M | Bus-Id        Disp.A | Volatile Uncorr. ECC |\n",
            "| Fan  Temp   Perf          Pwr:Usage/Cap |         Memory-Usage | GPU-Util  Compute M. |\n",
            "|                                         |                      |               MIG M. |\n",
            "|=========================================+======================+======================|\n",
            "|   0  Tesla T4                       Off | 00000000:00:04.0 Off |                    0 |\n",
            "| N/A   36C    P8              11W /  70W |      0MiB / 15360MiB |      0%      Default |\n",
            "|                                         |                      |                  N/A |\n",
            "+-----------------------------------------+----------------------+----------------------+\n",
            "                                                                                         \n",
            "+---------------------------------------------------------------------------------------+\n",
            "| Processes:                                                                            |\n",
            "|  GPU   GI   CI        PID   Type   Process name                            GPU Memory |\n",
            "|        ID   ID                                                             Usage      |\n",
            "|=======================================================================================|\n",
            "|  No running processes found                                                           |\n",
            "+---------------------------------------------------------------------------------------+\n"
          ]
        }
      ],
      "source": [
        "!nvidia-smi"
      ]
    },
    {
      "cell_type": "code",
      "execution_count": null,
      "metadata": {
        "id": "sVgXXeZIweMx"
      },
      "outputs": [],
      "source": [
        "!unzip /content/val.zip"
      ]
    },
    {
      "cell_type": "code",
      "execution_count": null,
      "metadata": {
        "id": "c0HxQKHF5nP3"
      },
      "outputs": [],
      "source": [
        "!unzip /content/train.zip"
      ]
    },
    {
      "cell_type": "code",
      "execution_count": 10,
      "metadata": {
        "id": "4kVUE-bav01w"
      },
      "outputs": [],
      "source": [
        "import numpy as np\n",
        "import matplotlib.pyplot as plt\n",
        "import os\n",
        "\n",
        "from tensorflow.keras.preprocessing.image import ImageDataGenerator\n",
        "import tensorflow as tf\n",
        "from keras.layers import Input\n",
        "from keras.callbacks import ModelCheckpoint, EarlyStopping, LearningRateScheduler\n",
        "from tensorflow.keras.applications import ResNet152V2\n",
        "from tensorflow.keras.utils import load_img, img_to_array"
      ]
    },
    {
      "cell_type": "markdown",
      "metadata": {
        "id": "wFBINOx0v01z"
      },
      "source": [
        "# Create functions"
      ]
    },
    {
      "cell_type": "code",
      "execution_count": 11,
      "metadata": {
        "id": "envuXzVKv015"
      },
      "outputs": [],
      "source": [
        "# Image generators\n",
        "def image_generators(train_path, val_path, image_size):\n",
        "    # Create data generators\n",
        "    train_imgGen = ImageDataGenerator(\n",
        "        rescale=1./255,\n",
        "        rotation_range=20,\n",
        "        horizontal_flip=True,\n",
        "        shear_range = 0.2,\n",
        "        fill_mode = 'nearest',\n",
        "        width_shift_range=0.1,\n",
        "        height_shift_range=0.1\n",
        "    )\n",
        "\n",
        "    val_imgGen = ImageDataGenerator(rescale=1./255)\n",
        "\n",
        "    # Run the image generators\n",
        "    train_gen = train_imgGen.flow_from_directory(\n",
        "        train_path,\n",
        "        target_size=image_size,\n",
        "        batch_size=64,\n",
        "        class_mode='categorical'\n",
        "    )\n",
        "\n",
        "    val_gen = val_imgGen.flow_from_directory(\n",
        "        val_path,\n",
        "        target_size=image_size,\n",
        "        batch_size=64,\n",
        "        class_mode='categorical'\n",
        "    )\n",
        "\n",
        "    return train_gen, val_gen"
      ]
    },
    {
      "cell_type": "code",
      "execution_count": 12,
      "metadata": {
        "id": "2G9Hw9Afv018"
      },
      "outputs": [],
      "source": [
        "# Build CNN model\n",
        "def build_architecture(image_size, n_output, metrics=['accuracy']):\n",
        "    cnn = tf.keras.models.Sequential([\n",
        "        ResNet152V2(weights=\"imagenet\", include_top=False, input_tensor=Input(shape=(image_size[0], image_size[1], 3))),\n",
        "        tf.keras.layers.Conv2D(128, (3,3), activation='relu', input_shape=(image_size[0], image_size[1], 3)),\n",
        "        tf.keras.layers.MaxPooling2D(2, 2),\n",
        "        tf.keras.layers.Dense(64, activation='relu'),\n",
        "        tf.keras.layers.Dropout(0.3),\n",
        "        tf.keras.layers.Flatten(),\n",
        "        tf.keras.layers.Dense(n_output, activation='sigmoid')\n",
        "    ])\n",
        "    cnn.layers[0].trainable = False\n",
        "\n",
        "    # Complie model CNN\n",
        "    opt = tf.keras.optimizers.Adam(learning_rate=1e-3)\n",
        "    cnn.compile(optimizer=opt, loss='categorical_crossentropy', metrics=metrics)\n",
        "\n",
        "    return cnn"
      ]
    },
    {
      "cell_type": "code",
      "execution_count": 19,
      "metadata": {
        "id": "I0hM5VVK30wM"
      },
      "outputs": [],
      "source": [
        "# Fit CNN model\n",
        "def fit_cnn(\n",
        "    cnn,\n",
        "    train_gen,\n",
        "    val_gen,\n",
        "    epochs,\n",
        "    batch_size,\n",
        "    model_name='recognizer.hdf5',\n",
        "    monitor='val_accuracy',\n",
        "    mode='max',\n",
        "    patience=10\n",
        "):\n",
        "    # Early stopping\n",
        "    es = EarlyStopping(\n",
        "        monitor=monitor, mode=mode, verbose=0, patience=patience, restore_best_weights=True\n",
        "    )\n",
        "\n",
        "    # Checkpoint\n",
        "    checkpoint = ModelCheckpoint(\n",
        "        filepath=model_name,\n",
        "        monitor=monitor,\n",
        "        mode=mode,\n",
        "        save_best_only=True\n",
        "    )\n",
        "\n",
        "    # Learning rate # riset yg bagus gimana\n",
        "    # learning_rate_callback = LearningRateScheduler(\n",
        "    #     lambda epoch: 1e-5 * 10**(epoch/2), verbose=0\n",
        "    # )\n",
        "\n",
        "    tf.keras.utils.set_random_seed(123)\n",
        "\n",
        "    # Fit the CNN\n",
        "    cnn_history = cnn.fit(\n",
        "          train_gen,\n",
        "          epochs=epochs,\n",
        "          batch_size=batch_size,\n",
        "          validation_data=val_gen,\n",
        "          callbacks=[es, checkpoint],\n",
        "          verbose=2\n",
        "    )\n",
        "\n",
        "    return cnn, cnn_history"
      ]
    },
    {
      "cell_type": "code",
      "execution_count": 27,
      "metadata": {
        "id": "XNydMb5lv01-"
      },
      "outputs": [],
      "source": [
        "# Plot model history\n",
        "def plot_history(cnn_history, test_score, val_score):\n",
        "    # Visualize the CNN training history\n",
        "    fig, ax = plt.subplots(1, 2, figsize=(6,2))\n",
        "\n",
        "    # Accuracy\n",
        "    ax[0].plot(cnn_history.history[test_score])\n",
        "    ax[0].plot(cnn_history.history[val_score])\n",
        "    ax[0].set_title(f'CNN {test_score}')\n",
        "    ax[0].set_ylabel(test_score)\n",
        "    ax[0].set_xlabel('epoch')\n",
        "    ax[0].legend(['train', 'val'], loc='upper left')\n",
        "\n",
        "    # Loss\n",
        "    ax[1].plot(cnn_history.history['loss'])\n",
        "    ax[1].plot(cnn_history.history['val_loss'])\n",
        "    ax[1].set_title('CNN loss')\n",
        "    ax[1].set_ylabel('loss')\n",
        "    ax[1].set_xlabel('epoch')\n",
        "    ax[1].legend(['train', 'val'], loc='upper left')\n",
        "    plt.show()\n"
      ]
    },
    {
      "cell_type": "markdown",
      "metadata": {
        "id": "4CzmfUqGDuql"
      },
      "source": [
        "# Run functions"
      ]
    },
    {
      "cell_type": "code",
      "execution_count": 15,
      "metadata": {
        "colab": {
          "base_uri": "https://localhost:8080/"
        },
        "id": "j9CWZKwyDxbX",
        "outputId": "dac12603-2232-4404-90cc-5f4f8544a78f"
      },
      "outputs": [
        {
          "name": "stdout",
          "output_type": "stream",
          "text": [
            "Found 2402 images belonging to 6 classes.\n",
            "Found 598 images belonging to 6 classes.\n"
          ]
        }
      ],
      "source": [
        "# Image generators\n",
        "train_gen, val_gen = image_generators(train_path, val_path, image_size)"
      ]
    },
    {
      "cell_type": "code",
      "execution_count": 16,
      "metadata": {
        "colab": {
          "base_uri": "https://localhost:8080/"
        },
        "id": "V9qQ5oXYDzmR",
        "outputId": "71580014-362d-46d9-e4ac-62e82bcf6037"
      },
      "outputs": [
        {
          "name": "stdout",
          "output_type": "stream",
          "text": [
            "Downloading data from https://storage.googleapis.com/tensorflow/keras-applications/resnet/resnet152v2_weights_tf_dim_ordering_tf_kernels_notop.h5\n",
            "234545216/234545216 [==============================] - 2s 0us/step\n"
          ]
        }
      ],
      "source": [
        "# Build CNN model\n",
        "cnn = build_architecture(image_size, n_output, metrics=['accuracy'])"
      ]
    },
    {
      "cell_type": "code",
      "execution_count": 23,
      "metadata": {
        "colab": {
          "base_uri": "https://localhost:8080/"
        },
        "id": "OKDtIUjwD1a-",
        "outputId": "5108beb6-d579-4e0d-bd61-6dd08136fbf0"
      },
      "outputs": [
        {
          "name": "stdout",
          "output_type": "stream",
          "text": [
            "Epoch 1/30\n"
          ]
        },
        {
          "name": "stderr",
          "output_type": "stream",
          "text": [
            "/usr/local/lib/python3.10/dist-packages/keras/src/engine/training.py:3103: UserWarning: You are saving your model as an HDF5 file via `model.save()`. This file format is considered legacy. We recommend using instead the native Keras format, e.g. `model.save('my_model.keras')`.\n",
            "  saving_api.save_model(\n"
          ]
        },
        {
          "name": "stdout",
          "output_type": "stream",
          "text": [
            "38/38 - 38s - loss: 0.9986 - accuracy: 0.7040 - val_loss: 0.4536 - val_accuracy: 0.8528 - 38s/epoch - 987ms/step\n",
            "Epoch 2/30\n",
            "38/38 - 22s - loss: 0.4815 - accuracy: 0.8426 - val_loss: 0.3942 - val_accuracy: 0.8746 - 22s/epoch - 589ms/step\n",
            "Epoch 3/30\n",
            "38/38 - 22s - loss: 0.4228 - accuracy: 0.8593 - val_loss: 0.4046 - val_accuracy: 0.8662 - 22s/epoch - 577ms/step\n",
            "Epoch 4/30\n",
            "38/38 - 23s - loss: 0.3590 - accuracy: 0.8751 - val_loss: 0.5350 - val_accuracy: 0.8562 - 23s/epoch - 600ms/step\n",
            "Epoch 5/30\n",
            "38/38 - 23s - loss: 0.3090 - accuracy: 0.8901 - val_loss: 0.4449 - val_accuracy: 0.8829 - 23s/epoch - 595ms/step\n",
            "Epoch 6/30\n",
            "38/38 - 22s - loss: 0.2960 - accuracy: 0.9017 - val_loss: 0.4936 - val_accuracy: 0.8562 - 22s/epoch - 570ms/step\n",
            "Epoch 7/30\n",
            "38/38 - 21s - loss: 0.2987 - accuracy: 0.8988 - val_loss: 0.5538 - val_accuracy: 0.8729 - 21s/epoch - 557ms/step\n",
            "Epoch 8/30\n",
            "38/38 - 21s - loss: 0.2392 - accuracy: 0.9117 - val_loss: 0.5224 - val_accuracy: 0.8813 - 21s/epoch - 549ms/step\n",
            "Epoch 9/30\n",
            "38/38 - 26s - loss: 0.2409 - accuracy: 0.9130 - val_loss: 0.4308 - val_accuracy: 0.8813 - 26s/epoch - 683ms/step\n",
            "Epoch 10/30\n",
            "38/38 - 21s - loss: 0.2435 - accuracy: 0.9176 - val_loss: 0.4617 - val_accuracy: 0.8712 - 21s/epoch - 551ms/step\n",
            "Epoch 11/30\n",
            "38/38 - 21s - loss: 0.2297 - accuracy: 0.9201 - val_loss: 0.4220 - val_accuracy: 0.8746 - 21s/epoch - 555ms/step\n",
            "Epoch 12/30\n",
            "38/38 - 21s - loss: 0.2077 - accuracy: 0.9255 - val_loss: 0.4662 - val_accuracy: 0.8796 - 21s/epoch - 555ms/step\n",
            "Epoch 13/30\n",
            "38/38 - 22s - loss: 0.2126 - accuracy: 0.9271 - val_loss: 0.4714 - val_accuracy: 0.8645 - 22s/epoch - 591ms/step\n",
            "Epoch 14/30\n",
            "38/38 - 27s - loss: 0.2106 - accuracy: 0.9276 - val_loss: 0.5128 - val_accuracy: 0.8863 - 27s/epoch - 702ms/step\n",
            "Epoch 15/30\n",
            "38/38 - 21s - loss: 0.2075 - accuracy: 0.9313 - val_loss: 0.5391 - val_accuracy: 0.8796 - 21s/epoch - 552ms/step\n",
            "Epoch 16/30\n",
            "38/38 - 21s - loss: 0.1806 - accuracy: 0.9359 - val_loss: 0.5533 - val_accuracy: 0.8796 - 21s/epoch - 557ms/step\n",
            "Epoch 17/30\n",
            "38/38 - 22s - loss: 0.1728 - accuracy: 0.9380 - val_loss: 0.5296 - val_accuracy: 0.8829 - 22s/epoch - 591ms/step\n",
            "Epoch 18/30\n",
            "38/38 - 23s - loss: 0.1588 - accuracy: 0.9467 - val_loss: 0.5378 - val_accuracy: 0.8896 - 23s/epoch - 606ms/step\n",
            "Epoch 19/30\n",
            "38/38 - 23s - loss: 0.1646 - accuracy: 0.9421 - val_loss: 0.5139 - val_accuracy: 0.8913 - 23s/epoch - 609ms/step\n",
            "Epoch 20/30\n",
            "38/38 - 23s - loss: 0.1625 - accuracy: 0.9413 - val_loss: 0.5319 - val_accuracy: 0.8813 - 23s/epoch - 596ms/step\n",
            "Epoch 21/30\n",
            "38/38 - 22s - loss: 0.1638 - accuracy: 0.9471 - val_loss: 0.5285 - val_accuracy: 0.8846 - 22s/epoch - 578ms/step\n",
            "Epoch 22/30\n",
            "38/38 - 21s - loss: 0.1412 - accuracy: 0.9492 - val_loss: 0.5429 - val_accuracy: 0.8863 - 21s/epoch - 561ms/step\n",
            "Epoch 23/30\n",
            "38/38 - 21s - loss: 0.1407 - accuracy: 0.9488 - val_loss: 0.6034 - val_accuracy: 0.8913 - 21s/epoch - 559ms/step\n",
            "Epoch 24/30\n",
            "38/38 - 21s - loss: 0.1488 - accuracy: 0.9459 - val_loss: 0.5444 - val_accuracy: 0.8880 - 21s/epoch - 562ms/step\n",
            "Epoch 25/30\n",
            "38/38 - 21s - loss: 0.1554 - accuracy: 0.9500 - val_loss: 0.6061 - val_accuracy: 0.8829 - 21s/epoch - 562ms/step\n",
            "Epoch 26/30\n",
            "38/38 - 23s - loss: 0.1429 - accuracy: 0.9496 - val_loss: 0.5187 - val_accuracy: 0.8863 - 23s/epoch - 600ms/step\n",
            "Epoch 27/30\n",
            "38/38 - 21s - loss: 0.1348 - accuracy: 0.9496 - val_loss: 0.5667 - val_accuracy: 0.8913 - 21s/epoch - 558ms/step\n",
            "Epoch 28/30\n",
            "38/38 - 22s - loss: 0.1655 - accuracy: 0.9463 - val_loss: 0.6303 - val_accuracy: 0.8729 - 22s/epoch - 579ms/step\n",
            "Epoch 29/30\n",
            "38/38 - 22s - loss: 0.1237 - accuracy: 0.9571 - val_loss: 0.5721 - val_accuracy: 0.8779 - 22s/epoch - 582ms/step\n"
          ]
        }
      ],
      "source": [
        "# Fit CNN model\n",
        "cnn, cnn_history = fit_cnn(\n",
        "    cnn,\n",
        "    train_gen,\n",
        "    val_gen,\n",
        "    epochs,\n",
        "    batch_size,\n",
        "    model_name,\n",
        "    monitor,\n",
        "    mode,\n",
        "    patience\n",
        ")"
      ]
    },
    {
      "cell_type": "code",
      "execution_count": 28,
      "metadata": {
        "colab": {
          "base_uri": "https://localhost:8080/",
          "height": 472
        },
        "id": "kQqfDTSmjLdV",
        "outputId": "40ef28d1-2916-4834-e631-ec43c4eec26a"
      },
      "outputs": [
        {
          "data": {
            "image/png": "[encoded data removed]",
            "text/plain": [
              "<Figure size 640x480 with 2 Axes>"
            ]
          },
          "metadata": {},
          "output_type": "display_data"
        }
      ],
      "source": [
        "# Plot model history\n",
        "plot_history(cnn_history, test_score, val_score)"
      ]
    },
    {
      "cell_type": "code",
      "execution_count": 29,
      "metadata": {
        "colab": {
          "base_uri": "https://localhost:8080/"
        },
        "id": "AoMknGJbHhOz",
        "outputId": "a9817f39-122c-4a6e-d7ab-d3142fb08403"
      },
      "outputs": [
        {
          "name": "stdout",
          "output_type": "stream",
          "text": [
            "Model: \"sequential_1\"\n",
            "_________________________________________________________________\n",
            " Layer (type)                Output Shape              Param #   \n",
            "=================================================================\n",
            " resnet152v2 (Functional)    (None, 5, 5, 2048)        58331648  \n",
            "                                                                 \n",
            " conv2d_1 (Conv2D)           (None, 3, 3, 128)         2359424   \n",
            "                                                                 \n",
            " max_pooling2d_7 (MaxPoolin  (None, 1, 1, 128)         0         \n",
            " g2D)                                                            \n",
            "                                                                 \n",
            " dense_2 (Dense)             (None, 1, 1, 64)          8256      \n",
            "                                                                 \n",
            " dropout_1 (Dropout)         (None, 1, 1, 64)          0         \n",
            "                                                                 \n",
            " flatten_1 (Flatten)         (None, 64)                0         \n",
            "                                                                 \n",
            " dense_3 (Dense)             (None, 6)                 390       \n",
            "                                                                 \n",
            "=================================================================\n",
            "Total params: 60699718 (231.55 MB)\n",
            "Trainable params: 2368070 (9.03 MB)\n",
            "Non-trainable params: 58331648 (222.52 MB)\n",
            "_________________________________________________________________\n"
          ]
        }
      ],
      "source": [
        "cnn.summary()"
      ]
    },
    {
      "cell_type": "markdown",
      "metadata": {
        "id": "BeOdDkOmwoMA"
      },
      "source": [
        "# Single prediction"
      ]
    },
    {
      "cell_type": "code",
      "execution_count": 34,
      "metadata": {
        "id": "vaFG-nvOxFiA"
      },
      "outputs": [],
      "source": [
        "def recognize_image(path, show_image=False):\n",
        "    img = load_img(path, target_size=image_size)\n",
        "    if show_image==True:\n",
        "        plt.figure(figsize=(3,3))\n",
        "        display = plt.imshow(img)\n",
        "    img = img_to_array(img)\n",
        "    img = img.astype('float32') / 255.0\n",
        "    img = np.expand_dims(img, axis=0)\n",
        "\n",
        "    result = cnn.predict(img, verbose=0)\n",
        "    result = result.tolist()[0]\n",
        "    pred = classes[result.index(max(result))]\n",
        "    return result, pred"
      ]
    },
    {
      "cell_type": "code",
      "execution_count": 32,
      "metadata": {
        "colab": {
          "base_uri": "https://localhost:8080/"
        },
        "id": "vqUuy6PAxaSR",
        "outputId": "b598f553-2f20-4830-85f9-41ac8f4a99f1"
      },
      "outputs": [
        {
          "data": {
            "text/plain": [
              "([1.0,\n",
              "  0.30820968747138977,\n",
              "  0.001374341663904488,\n",
              "  5.450649376292915e-10,\n",
              "  0.9942893981933594,\n",
              "  0.9999964237213135],\n",
              " 'buildings')"
            ]
          },
          "execution_count": 32,
          "metadata": {},
          "output_type": "execute_result"
        }
      ],
      "source": [
        "recognize_image('/content/val/buildings/20057.jpg')"
      ]
    }
  ],
  "metadata": {
    "accelerator": "GPU",
    "colab": {
      "gpuType": "T4",
      "provenance": []
    },
    "kernelspec": {
      "display_name": "Python 3",
      "name": "python3"
    },
    "language_info": {
      "codemirror_mode": {
        "name": "ipython",
        "version": 3
      },
      "file_extension": ".py",
      "mimetype": "text/x-python",
      "name": "python",
      "nbconvert_exporter": "python",
      "pygments_lexer": "ipython3",
      "version": "3.8.0"
    },
    "orig_nbformat": 4
  },
  "nbformat": 4,
  "nbformat_minor": 0
}
