{
 "cells": [
  {
   "cell_type": "code",
   "execution_count": 3,
   "metadata": {},
   "outputs": [],
   "source": [
    "# Input: \n",
    "image_class_list = ['buildings', 'forest', 'glacier', 'mountain', 'sea', 'street']\n",
    "train_path = f'../01 data/train/'\n",
    "val_path = f'../01 data/val/'"
   ]
  },
  {
   "cell_type": "code",
   "execution_count": 1,
   "metadata": {},
   "outputs": [],
   "source": [
    "import random\n",
    "import os\n",
    "import shutil"
   ]
  },
  {
   "cell_type": "markdown",
   "metadata": {},
   "source": [
    "# Train test split"
   ]
  },
  {
   "cell_type": "code",
   "execution_count": 11,
   "metadata": {},
   "outputs": [],
   "source": [
    "# Split the dataset into training and validation randomly\n",
    "random.seed(123)\n",
    "\n",
    "def train_random_splitter(from_path, to_path, val_proportion=0.2):\n",
    "    list_files = os.listdir(f'{from_path}')\n",
    "    # Test split\n",
    "    file_names = random.sample(\n",
    "        list_files,\n",
    "        int(len(list_files)*val_proportion)\n",
    "    )\n",
    "    for file_name in file_names:\n",
    "        shutil.move(\n",
    "            f'{from_path}/{file_name}',\n",
    "            f'{to_path}/{file_name}',\n",
    "        )\n"
   ]
  },
  {
   "cell_type": "code",
   "execution_count": 12,
   "metadata": {},
   "outputs": [],
   "source": [
    "for image_class in image_class_list:\n",
    "    train_random_splitter(f'{train_path}{image_class}', f'{val_path}{image_class}')"
   ]
  }
 ],
 "metadata": {
  "kernelspec": {
   "display_name": "venv_38",
   "language": "python",
   "name": "python3"
  },
  "language_info": {
   "codemirror_mode": {
    "name": "ipython",
    "version": 3
   },
   "file_extension": ".py",
   "mimetype": "text/x-python",
   "name": "python",
   "nbconvert_exporter": "python",
   "pygments_lexer": "ipython3",
   "version": "3.8.0"
  },
  "orig_nbformat": 4
 },
 "nbformat": 4,
 "nbformat_minor": 2
}
